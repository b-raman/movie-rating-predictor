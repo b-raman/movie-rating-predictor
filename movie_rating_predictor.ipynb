{
 "cells": [
  {
   "cell_type": "markdown",
   "metadata": {},
   "source": [
    "# Bharat Raman - Machine Learning Engineer - Capstone Project 2019"
   ]
  },
  {
   "cell_type": "markdown",
   "metadata": {},
   "source": [
    "## Project overview\n",
    "For this project, I will be using the [5000 movies dataset][db], and supervised learning, to predict the user score for a film. The motivation behind this project comes from my [benchmark model][kernel], by Ashwini Swain; here, Swain makes accurate movie-score predictions (average accuracy of about 98.5% among three movies (Godfather Part 3, Minions, Rocky Balboa)) by comparing films' genres, actors, directors, and keywords. Then, to predict the average, Swain does the following:\n",
    "- Calculate the cosine similarity among other movies\n",
    "  - First by creating binary-arrays for the lists of genres, actors, directors, and keywords\n",
    "  - Then, by using scipy's cosine similarity method to compare the arrays with those of other movies\n",
    "- Takes the top 10 similar movies\n",
    "- Calculates the average of these 10 movies' user scores\n",
    "- Uses that average as the prediction for the subject movie's score\n",
    "I used his algortihm with 10 random movies to get an average accuracy of about 87%. Because it takes too long to predict the score of all movies in the dataset, it must be noted that this score may or may not represent the overall accuracy of all movie predictions\n",
    "\n",
    "For my project, instead of using a cosine-similarity algorithm, I will use machine learning to predict a movie's score. To do this, I will: \n",
    "- create a decimal representation of the features: genres, actors, directors, keywords, and production companies\n",
    "  - Like Swain has done, I will create a binary array for each feature. Then, I will analyze the array like points in a number line\n",
    "    - Looking at the points, I can identify a point that best describes the distribution of 1's, and use that as a decimal representation of the feature\n",
    "- normalize the decimal values to be within [0,1]\n",
    "- Split data into training and testing sets\n",
    "  - 70% for training, 30% for testing\n",
    "- Train a regression-based model using Sagemaker's XGBoost\n",
    "- Make predictions and evaluate using an R^2 score\n",
    "- Tune hyperparameters to improve model and re-evaluate R^2 score\n",
    "\n",
    "I will only use movies that fall under this criteria\n",
    " - Rating of movie is greater than 0.0 (0,0 rating corresponds to movies with 0 or 1 votes, so there's no telling if the rating is an accurate representation of the movie)\n",
    " - Movie has at least one of the following features: cast, crew, production companies\n",
    "[//]: # (These are reference links used in the body of this note and get stripped out when the markdown processor does its job. There is no need to format nicely because it shouldn't be seen. Thanks SO - http://stackoverflow.com/questions/4823468/store-comments-in-markdown-syntax)\n",
    "\n",
    "\n",
    "   [kernel]: <https://www.kaggle.com/ash316/what-s-my-score>\n",
    "   [db]: <https://www.kaggle.com/tmdb/tmdb-movie-metadata#tmdb_5000_movies.csv>"
   ]
  },
  {
   "cell_type": "markdown",
   "metadata": {},
   "source": [
    "## Setup\n",
    "### Import Modules"
   ]
  },
  {
   "cell_type": "code",
   "execution_count": 1,
   "metadata": {},
   "outputs": [],
   "source": [
    "import io\n",
    "import os\n",
    "import matplotlib.pyplot as plt\n",
    "import numpy as np \n",
    "import pandas as pd \n",
    "\n",
    "import json #converting JSON to lists for dataframe\n",
    "import warnings\n",
    "warnings.filterwarnings('ignore')\n",
    "import base64\n",
    "import codecs\n",
    "from IPython.display import HTML\n",
    "\n",
    "%matplotlib inline"
   ]
  },
  {
   "cell_type": "code",
   "execution_count": 2,
   "metadata": {},
   "outputs": [],
   "source": [
    "movie1=pd.read_csv('./movie_data/tmdb_5000_movies.csv')\n",
    "movie2=pd.read_csv('./movie_data/tmdb_5000_credits.csv')\n",
    "\n",
    "movies = movie1.merge(movie2,left_on='id',right_on='movie_id',how='left')# merging the two csv files"
   ]
  },
  {
   "cell_type": "markdown",
   "metadata": {},
   "source": [
    "### Proof that movies with 0.0 rating only have vote count of 0 or 1"
   ]
  },
  {
   "cell_type": "code",
   "execution_count": 3,
   "metadata": {},
   "outputs": [
    {
     "name": "stdout",
     "output_type": "stream",
     "text": [
      "Unique vote counts for movies with 0.0 rating\n",
      "0\n",
      "1\n"
     ]
    }
   ],
   "source": [
    "counts = movies[(movies['vote_average']==0)]['vote_count'] # get vote counts for all movies that have a rating of 0.0\n",
    "\n",
    "print(\"Unique vote counts for movies with 0.0 rating\")\n",
    "for u in set(counts):\n",
    "    print(u)"
   ]
  },
  {
   "cell_type": "markdown",
   "metadata": {},
   "source": [
    "### Remove 0.0 rated movies from dataframe"
   ]
  },
  {
   "cell_type": "code",
   "execution_count": 4,
   "metadata": {},
   "outputs": [],
   "source": [
    "movies = movies[(movies['vote_average']!=0)]"
   ]
  },
  {
   "cell_type": "markdown",
   "metadata": {},
   "source": [
    "Quick look at movies"
   ]
  },
  {
   "cell_type": "code",
   "execution_count": 5,
   "metadata": {},
   "outputs": [
    {
     "data": {
      "text/html": [
       "<div>\n",
       "<style scoped>\n",
       "    .dataframe tbody tr th:only-of-type {\n",
       "        vertical-align: middle;\n",
       "    }\n",
       "\n",
       "    .dataframe tbody tr th {\n",
       "        vertical-align: top;\n",
       "    }\n",
       "\n",
       "    .dataframe thead th {\n",
       "        text-align: right;\n",
       "    }\n",
       "</style>\n",
       "<table border=\"1\" class=\"dataframe\">\n",
       "  <thead>\n",
       "    <tr style=\"text-align: right;\">\n",
       "      <th></th>\n",
       "      <th>budget</th>\n",
       "      <th>genres</th>\n",
       "      <th>homepage</th>\n",
       "      <th>id</th>\n",
       "      <th>keywords</th>\n",
       "      <th>original_language</th>\n",
       "      <th>original_title</th>\n",
       "      <th>overview</th>\n",
       "      <th>popularity</th>\n",
       "      <th>production_companies</th>\n",
       "      <th>...</th>\n",
       "      <th>spoken_languages</th>\n",
       "      <th>status</th>\n",
       "      <th>tagline</th>\n",
       "      <th>title_x</th>\n",
       "      <th>vote_average</th>\n",
       "      <th>vote_count</th>\n",
       "      <th>movie_id</th>\n",
       "      <th>title_y</th>\n",
       "      <th>cast</th>\n",
       "      <th>crew</th>\n",
       "    </tr>\n",
       "  </thead>\n",
       "  <tbody>\n",
       "    <tr>\n",
       "      <th>3143</th>\n",
       "      <td>9500000</td>\n",
       "      <td>[{\"id\": 28, \"name\": \"Action\"}, {\"id\": 53, \"nam...</td>\n",
       "      <td>http://www.mgm.com/view/movie/2347/You-Only-Li...</td>\n",
       "      <td>667</td>\n",
       "      <td>[{\"id\": 212, \"name\": \"london england\"}, {\"id\":...</td>\n",
       "      <td>en</td>\n",
       "      <td>You Only Live Twice</td>\n",
       "      <td>A mysterious space craft kidnaps a Russian and...</td>\n",
       "      <td>28.675891</td>\n",
       "      <td>[{\"name\": \"Eon Productions\", \"id\": 7576}]</td>\n",
       "      <td>...</td>\n",
       "      <td>[{\"iso_639_1\": \"en\", \"name\": \"English\"}, {\"iso...</td>\n",
       "      <td>Released</td>\n",
       "      <td>You Only Live Twice...and Twice is the only wa...</td>\n",
       "      <td>You Only Live Twice</td>\n",
       "      <td>6.5</td>\n",
       "      <td>531</td>\n",
       "      <td>667</td>\n",
       "      <td>You Only Live Twice</td>\n",
       "      <td>[{\"cast_id\": 1, \"character\": \"James Bond\", \"cr...</td>\n",
       "      <td>[{\"credit_id\": \"52fe4267c3a36847f801bbd1\", \"de...</td>\n",
       "    </tr>\n",
       "    <tr>\n",
       "      <th>1965</th>\n",
       "      <td>8200000</td>\n",
       "      <td>[{\"id\": 18, \"name\": \"Drama\"}, {\"id\": 10751, \"n...</td>\n",
       "      <td>NaN</td>\n",
       "      <td>1788</td>\n",
       "      <td>[{\"id\": 246, \"name\": \"dancing\"}, {\"id\": 733, \"...</td>\n",
       "      <td>en</td>\n",
       "      <td>Footloose</td>\n",
       "      <td>When teenager Ren and his family move from big...</td>\n",
       "      <td>25.034140</td>\n",
       "      <td>[{\"name\": \"Paramount Pictures\", \"id\": 4}, {\"na...</td>\n",
       "      <td>...</td>\n",
       "      <td>[{\"iso_639_1\": \"en\", \"name\": \"English\"}]</td>\n",
       "      <td>Released</td>\n",
       "      <td>NaN</td>\n",
       "      <td>Footloose</td>\n",
       "      <td>6.4</td>\n",
       "      <td>505</td>\n",
       "      <td>1788</td>\n",
       "      <td>Footloose</td>\n",
       "      <td>[{\"cast_id\": 1, \"character\": \"Ren McCormack\", ...</td>\n",
       "      <td>[{\"credit_id\": \"52fe4315c3a36847f8039007\", \"de...</td>\n",
       "    </tr>\n",
       "    <tr>\n",
       "      <th>186</th>\n",
       "      <td>130000000</td>\n",
       "      <td>[{\"id\": 12, \"name\": \"Adventure\"}, {\"id\": 28, \"...</td>\n",
       "      <td>NaN</td>\n",
       "      <td>8961</td>\n",
       "      <td>[{\"id\": 416, \"name\": \"miami\"}, {\"id\": 529, \"na...</td>\n",
       "      <td>en</td>\n",
       "      <td>Bad Boys II</td>\n",
       "      <td>Out-of-control, trash-talking buddy cops Marcu...</td>\n",
       "      <td>38.068736</td>\n",
       "      <td>[{\"name\": \"Columbia Pictures Corporation\", \"id...</td>\n",
       "      <td>...</td>\n",
       "      <td>[{\"iso_639_1\": \"en\", \"name\": \"English\"}, {\"iso...</td>\n",
       "      <td>Released</td>\n",
       "      <td>If you can't stand the heat, get out of Miami.</td>\n",
       "      <td>Bad Boys II</td>\n",
       "      <td>6.3</td>\n",
       "      <td>1564</td>\n",
       "      <td>8961</td>\n",
       "      <td>Bad Boys II</td>\n",
       "      <td>[{\"cast_id\": 3, \"character\": \"Detective Marcus...</td>\n",
       "      <td>[{\"credit_id\": \"52fe44ccc3a36847f80aa787\", \"de...</td>\n",
       "    </tr>\n",
       "    <tr>\n",
       "      <th>4016</th>\n",
       "      <td>2500000</td>\n",
       "      <td>[{\"id\": 35, \"name\": \"Comedy\"}, {\"id\": 18, \"nam...</td>\n",
       "      <td>http://www2.foxsearchlight.com/gardenstate/</td>\n",
       "      <td>401</td>\n",
       "      <td>[{\"id\": 586, \"name\": \"new jersey\"}, {\"id\": 856...</td>\n",
       "      <td>en</td>\n",
       "      <td>Garden State</td>\n",
       "      <td>Andrew returns to his hometown for the funeral...</td>\n",
       "      <td>30.583959</td>\n",
       "      <td>[{\"name\": \"Fox Searchlight Pictures\", \"id\": 43...</td>\n",
       "      <td>...</td>\n",
       "      <td>[{\"iso_639_1\": \"en\", \"name\": \"English\"}]</td>\n",
       "      <td>Released</td>\n",
       "      <td>NaN</td>\n",
       "      <td>Garden State</td>\n",
       "      <td>7.1</td>\n",
       "      <td>618</td>\n",
       "      <td>401</td>\n",
       "      <td>Garden State</td>\n",
       "      <td>[{\"cast_id\": 1, \"character\": \"Andrew Largeman\"...</td>\n",
       "      <td>[{\"credit_id\": \"52fe423fc3a36847f800f449\", \"de...</td>\n",
       "    </tr>\n",
       "    <tr>\n",
       "      <th>2388</th>\n",
       "      <td>18000000</td>\n",
       "      <td>[{\"id\": 28, \"name\": \"Action\"}, {\"id\": 80, \"nam...</td>\n",
       "      <td>NaN</td>\n",
       "      <td>332411</td>\n",
       "      <td>[{\"id\": 9748, \"name\": \"revenge\"}, {\"id\": 9826,...</td>\n",
       "      <td>en</td>\n",
       "      <td>I Am Wrath</td>\n",
       "      <td>A man is out for justice after a group of corr...</td>\n",
       "      <td>10.144222</td>\n",
       "      <td>[{\"name\": \"Patriot Pictures\", \"id\": 2373}, {\"n...</td>\n",
       "      <td>...</td>\n",
       "      <td>[{\"iso_639_1\": \"en\", \"name\": \"English\"}]</td>\n",
       "      <td>Released</td>\n",
       "      <td>I lay my vengeance upon them.</td>\n",
       "      <td>I Am Wrath</td>\n",
       "      <td>4.5</td>\n",
       "      <td>179</td>\n",
       "      <td>332411</td>\n",
       "      <td>I Am Wrath</td>\n",
       "      <td>[{\"cast_id\": 3, \"character\": \"Stanley Hill\", \"...</td>\n",
       "      <td>[{\"credit_id\": \"56c5999b9251415475000194\", \"de...</td>\n",
       "    </tr>\n",
       "  </tbody>\n",
       "</table>\n",
       "<p>5 rows × 24 columns</p>\n",
       "</div>"
      ],
      "text/plain": [
       "         budget                                             genres  \\\n",
       "3143    9500000  [{\"id\": 28, \"name\": \"Action\"}, {\"id\": 53, \"nam...   \n",
       "1965    8200000  [{\"id\": 18, \"name\": \"Drama\"}, {\"id\": 10751, \"n...   \n",
       "186   130000000  [{\"id\": 12, \"name\": \"Adventure\"}, {\"id\": 28, \"...   \n",
       "4016    2500000  [{\"id\": 35, \"name\": \"Comedy\"}, {\"id\": 18, \"nam...   \n",
       "2388   18000000  [{\"id\": 28, \"name\": \"Action\"}, {\"id\": 80, \"nam...   \n",
       "\n",
       "                                               homepage      id  \\\n",
       "3143  http://www.mgm.com/view/movie/2347/You-Only-Li...     667   \n",
       "1965                                                NaN    1788   \n",
       "186                                                 NaN    8961   \n",
       "4016        http://www2.foxsearchlight.com/gardenstate/     401   \n",
       "2388                                                NaN  332411   \n",
       "\n",
       "                                               keywords original_language  \\\n",
       "3143  [{\"id\": 212, \"name\": \"london england\"}, {\"id\":...                en   \n",
       "1965  [{\"id\": 246, \"name\": \"dancing\"}, {\"id\": 733, \"...                en   \n",
       "186   [{\"id\": 416, \"name\": \"miami\"}, {\"id\": 529, \"na...                en   \n",
       "4016  [{\"id\": 586, \"name\": \"new jersey\"}, {\"id\": 856...                en   \n",
       "2388  [{\"id\": 9748, \"name\": \"revenge\"}, {\"id\": 9826,...                en   \n",
       "\n",
       "           original_title                                           overview  \\\n",
       "3143  You Only Live Twice  A mysterious space craft kidnaps a Russian and...   \n",
       "1965            Footloose  When teenager Ren and his family move from big...   \n",
       "186           Bad Boys II  Out-of-control, trash-talking buddy cops Marcu...   \n",
       "4016         Garden State  Andrew returns to his hometown for the funeral...   \n",
       "2388           I Am Wrath  A man is out for justice after a group of corr...   \n",
       "\n",
       "      popularity                               production_companies  ...  \\\n",
       "3143   28.675891          [{\"name\": \"Eon Productions\", \"id\": 7576}]  ...   \n",
       "1965   25.034140  [{\"name\": \"Paramount Pictures\", \"id\": 4}, {\"na...  ...   \n",
       "186    38.068736  [{\"name\": \"Columbia Pictures Corporation\", \"id...  ...   \n",
       "4016   30.583959  [{\"name\": \"Fox Searchlight Pictures\", \"id\": 43...  ...   \n",
       "2388   10.144222  [{\"name\": \"Patriot Pictures\", \"id\": 2373}, {\"n...  ...   \n",
       "\n",
       "                                       spoken_languages    status  \\\n",
       "3143  [{\"iso_639_1\": \"en\", \"name\": \"English\"}, {\"iso...  Released   \n",
       "1965           [{\"iso_639_1\": \"en\", \"name\": \"English\"}]  Released   \n",
       "186   [{\"iso_639_1\": \"en\", \"name\": \"English\"}, {\"iso...  Released   \n",
       "4016           [{\"iso_639_1\": \"en\", \"name\": \"English\"}]  Released   \n",
       "2388           [{\"iso_639_1\": \"en\", \"name\": \"English\"}]  Released   \n",
       "\n",
       "                                                tagline              title_x  \\\n",
       "3143  You Only Live Twice...and Twice is the only wa...  You Only Live Twice   \n",
       "1965                                                NaN            Footloose   \n",
       "186      If you can't stand the heat, get out of Miami.          Bad Boys II   \n",
       "4016                                                NaN         Garden State   \n",
       "2388                      I lay my vengeance upon them.           I Am Wrath   \n",
       "\n",
       "     vote_average vote_count movie_id              title_y  \\\n",
       "3143          6.5        531      667  You Only Live Twice   \n",
       "1965          6.4        505     1788            Footloose   \n",
       "186           6.3       1564     8961          Bad Boys II   \n",
       "4016          7.1        618      401         Garden State   \n",
       "2388          4.5        179   332411           I Am Wrath   \n",
       "\n",
       "                                                   cast  \\\n",
       "3143  [{\"cast_id\": 1, \"character\": \"James Bond\", \"cr...   \n",
       "1965  [{\"cast_id\": 1, \"character\": \"Ren McCormack\", ...   \n",
       "186   [{\"cast_id\": 3, \"character\": \"Detective Marcus...   \n",
       "4016  [{\"cast_id\": 1, \"character\": \"Andrew Largeman\"...   \n",
       "2388  [{\"cast_id\": 3, \"character\": \"Stanley Hill\", \"...   \n",
       "\n",
       "                                                   crew  \n",
       "3143  [{\"credit_id\": \"52fe4267c3a36847f801bbd1\", \"de...  \n",
       "1965  [{\"credit_id\": \"52fe4315c3a36847f8039007\", \"de...  \n",
       "186   [{\"credit_id\": \"52fe44ccc3a36847f80aa787\", \"de...  \n",
       "4016  [{\"credit_id\": \"52fe423fc3a36847f800f449\", \"de...  \n",
       "2388  [{\"credit_id\": \"56c5999b9251415475000194\", \"de...  \n",
       "\n",
       "[5 rows x 24 columns]"
      ]
     },
     "execution_count": 5,
     "metadata": {},
     "output_type": "execute_result"
    }
   ],
   "source": [
    "movies.sample(5)"
   ]
  },
  {
   "cell_type": "markdown",
   "metadata": {},
   "source": [
    "### Step 1: Format dataframe\n",
    "Features: **genres, keywords, cast, crew, and production companies** are all in JSON format. Convert to simple list via following function"
   ]
  },
  {
   "cell_type": "code",
   "execution_count": 6,
   "metadata": {},
   "outputs": [],
   "source": [
    "def to_list(df, feature_names_list): #df: dataframe, feature_names: list of all features to convert from JSON to list\n",
    "    for feature_name in feature_names_list:\n",
    "        print(\"Current:\", feature_name)\n",
    "        #STEP 1: convert JSON format to a list\n",
    "        df[feature_name]=df[feature_name].apply(json.loads)\n",
    "        #Two cases here: Feature is crew, or feature is not crew\n",
    "        if feature_name == 'crew': #if crew, due to large size, want to limit to most influential members: director, editor, cinematographer, screenplay, and composer\n",
    "            for index,i in zip(df.index,df[feature_name]):\n",
    "                feature_list_1=[]\n",
    "                limit = 10\n",
    "                if len(i) < 10:\n",
    "                    limit = len(i)\n",
    "                for j in range(limit): #top 10 crew members\n",
    "                    feature_list_1.append((i[j]['name'])) # the key 'name' contains the name of the a sub-feature (ex: sci-fi in genres)\n",
    "                df.loc[index,feature_name]= str(feature_list_1)\n",
    "        \n",
    "        elif feature_name == 'cast': #Another special case. Only want top 5 cast members (most infulential)\n",
    "            for index,i in zip(df.index,df[feature_name]):\n",
    "                feature_list_1=[]\n",
    "                if len(i) > 5:\n",
    "                    limit = 5\n",
    "                else:\n",
    "                    limit = len(i)\n",
    "                for j in range(limit): #top 5 (JSON format already has this sorted)\n",
    "                    feature_list_1.append((i[j]['name']))\n",
    "                df.loc[index,feature_name]= str(feature_list_1)\n",
    "        else:    \n",
    "            for index,i in zip(df.index,df[feature_name]):\n",
    "                feature_list_1=[]\n",
    "                for j in range(len(i)):\n",
    "                    feature_list_1.append((i[j]['name']))\n",
    "                df.loc[index,feature_name]= str(feature_list_1)\n",
    "    \n",
    "        #STEP 2: clean up and transform into unsorted list\n",
    "        df[feature_name] = df[feature_name].str.strip('[]').str.replace(' ','').str.replace(\"'\",'')\n",
    "        df[feature_name] = df[feature_name].str.split(',')\n",
    "        \n",
    "        #STEP 3: Sort list elements\n",
    "        for i,j in zip(df[feature_name],df.index):\n",
    "            features_list_2=i\n",
    "            features_list_2.sort()\n",
    "            df.loc[j,feature_name]=str(features_list_2)\n",
    "        df[feature_name]=df[feature_name].str.strip('[]').str.replace(' ','').str.replace(\"'\",'')\n",
    "        lst = df[feature_name].str.split(',')\n",
    "        if len(lst) == 0:\n",
    "            df[feature_name] = None\n",
    "        else:\n",
    "            df[feature_name]= df[feature_name].str.split(',')\n",
    "    return df"
   ]
  },
  {
   "cell_type": "code",
   "execution_count": 7,
   "metadata": {},
   "outputs": [
    {
     "name": "stdout",
     "output_type": "stream",
     "text": [
      "Current: genres\n",
      "Current: keywords\n",
      "Current: production_companies\n",
      "Current: cast\n",
      "Current: crew\n"
     ]
    }
   ],
   "source": [
    "movies = to_list(movies, ['genres', 'keywords', 'production_companies', 'cast', 'crew']) #function call"
   ]
  },
  {
   "cell_type": "markdown",
   "metadata": {},
   "source": [
    "### Step 2: Remove movies with empty features\n",
    "\n",
    "If a movie has no information on cast, crew, and production companies, the movie does not match the criteria for a valid datapoint (There's nothing to take away from a movie with no cast, crew, or production company). So, remove movie(s) from dataset"
   ]
  },
  {
   "cell_type": "code",
   "execution_count": 8,
   "metadata": {},
   "outputs": [
    {
     "name": "stdout",
     "output_type": "stream",
     "text": [
      "Dropping 8 movies.\n"
     ]
    }
   ],
   "source": [
    "to_drop = []\n",
    "for i in movies.index:\n",
    "    if (movies['production_companies'][i] == [''] and movies['cast'][i] == [''] and \n",
    "        movies['crew'][i] == ['']):\n",
    "        to_drop.append(i)\n",
    "print('Dropping', str(len(to_drop)), 'movies.')\n",
    "movies = movies.drop(to_drop, axis = 0)"
   ]
  },
  {
   "cell_type": "code",
   "execution_count": 9,
   "metadata": {},
   "outputs": [
    {
     "data": {
      "text/plain": [
       "4732"
      ]
     },
     "execution_count": 9,
     "metadata": {},
     "output_type": "execute_result"
    }
   ],
   "source": [
    "movies.shape[0]"
   ]
  },
  {
   "cell_type": "markdown",
   "metadata": {},
   "source": [
    "#### Remove un-needed feature-types in dataframe"
   ]
  },
  {
   "cell_type": "code",
   "execution_count": 10,
   "metadata": {},
   "outputs": [],
   "source": [
    "movies_shortened = movies[['id','original_title','genres','cast', 'crew', 'production_companies', 'keywords', 'vote_average']]"
   ]
  },
  {
   "cell_type": "markdown",
   "metadata": {},
   "source": [
    "Quick look at shortened and formatted movies"
   ]
  },
  {
   "cell_type": "code",
   "execution_count": 11,
   "metadata": {},
   "outputs": [
    {
     "data": {
      "text/html": [
       "<div>\n",
       "<style scoped>\n",
       "    .dataframe tbody tr th:only-of-type {\n",
       "        vertical-align: middle;\n",
       "    }\n",
       "\n",
       "    .dataframe tbody tr th {\n",
       "        vertical-align: top;\n",
       "    }\n",
       "\n",
       "    .dataframe thead th {\n",
       "        text-align: right;\n",
       "    }\n",
       "</style>\n",
       "<table border=\"1\" class=\"dataframe\">\n",
       "  <thead>\n",
       "    <tr style=\"text-align: right;\">\n",
       "      <th></th>\n",
       "      <th>id</th>\n",
       "      <th>original_title</th>\n",
       "      <th>genres</th>\n",
       "      <th>cast</th>\n",
       "      <th>crew</th>\n",
       "      <th>production_companies</th>\n",
       "      <th>keywords</th>\n",
       "      <th>vote_average</th>\n",
       "    </tr>\n",
       "  </thead>\n",
       "  <tbody>\n",
       "    <tr>\n",
       "      <th>3682</th>\n",
       "      <td>300706</td>\n",
       "      <td>Let's Kill Ward's Wife</td>\n",
       "      <td>[Comedy]</td>\n",
       "      <td>[AmyAcker, DagmaraDomińczyk, DonaldFaison, Pat...</td>\n",
       "      <td>[ScottFoley, ScottFoley]</td>\n",
       "      <td>[LostRhinoFilms]</td>\n",
       "      <td>[murderplot, wifemurder]</td>\n",
       "      <td>5.5</td>\n",
       "    </tr>\n",
       "    <tr>\n",
       "      <th>4424</th>\n",
       "      <td>287524</td>\n",
       "      <td>Fear Clinic</td>\n",
       "      <td>[Horror]</td>\n",
       "      <td>[CleopatraColeman, FionaDourif, KevinGage, Rob...</td>\n",
       "      <td>[AaronDrane, AaronDrane, JosephWhite, MarkBent...</td>\n",
       "      <td>[AnchorBayEntertainment, DryCountyFilms, Movie...</td>\n",
       "      <td>[doctor, fear, phobia]</td>\n",
       "      <td>4.0</td>\n",
       "    </tr>\n",
       "    <tr>\n",
       "      <th>3629</th>\n",
       "      <td>13996</td>\n",
       "      <td>Bottle Shock</td>\n",
       "      <td>[Comedy, Drama]</td>\n",
       "      <td>[AlanRickman, BillPullman, ChrisPine, FreddyRo...</td>\n",
       "      <td>[JodySavin, RandallMiller, RandallMiller]</td>\n",
       "      <td>[IntellectualPropertiesWorldwide, ZininsaFilmP...</td>\n",
       "      <td>[wine, winegarden, winzer]</td>\n",
       "      <td>6.6</td>\n",
       "    </tr>\n",
       "    <tr>\n",
       "      <th>3919</th>\n",
       "      <td>15582</td>\n",
       "      <td>Teen Wolf Too</td>\n",
       "      <td>[Comedy, Family, Fantasy]</td>\n",
       "      <td>[EsteeChandler, JasonBateman, JohnAstin, KimDa...</td>\n",
       "      <td>[ChristopherLeitch, CynthiaMcCormac, HarveyRos...</td>\n",
       "      <td>[AtlanticEntertainmentGroup]</td>\n",
       "      <td>[teenager, werewolf]</td>\n",
       "      <td>3.8</td>\n",
       "    </tr>\n",
       "    <tr>\n",
       "      <th>1592</th>\n",
       "      <td>4105</td>\n",
       "      <td>Black Rain</td>\n",
       "      <td>[Action, Crime, Thriller]</td>\n",
       "      <td>[AndyGarcía, JohnSpencer, KateCapshaw, Michael...</td>\n",
       "      <td>[DianneCrittenden, EllenMirojnick, HansZimmer,...</td>\n",
       "      <td>[Jaffe-Lansing, ParamountPictures, PegasusFilm...</td>\n",
       "      <td>[japan, japanesemafia, yakuza]</td>\n",
       "      <td>6.2</td>\n",
       "    </tr>\n",
       "    <tr>\n",
       "      <th>1574</th>\n",
       "      <td>8780</td>\n",
       "      <td>Baby Mama</td>\n",
       "      <td>[Comedy]</td>\n",
       "      <td>[AmyPoehler, DaxShepard, GregKinnear, Sigourne...</td>\n",
       "      <td>[AvyKaufman, BruceGreen, DarynOkada, JeffRichm...</td>\n",
       "      <td>[Michaels-Goldwyn, RelativityMedia]</td>\n",
       "      <td>[pregnancyandbirth, surrogatemother]</td>\n",
       "      <td>5.8</td>\n",
       "    </tr>\n",
       "    <tr>\n",
       "      <th>2599</th>\n",
       "      <td>15237</td>\n",
       "      <td>De-Lovely</td>\n",
       "      <td>[Drama, Music]</td>\n",
       "      <td>[AshleyJudd, JonathanPryce, KevinKline, KevinM...</td>\n",
       "      <td>[AndrewGrant, CharlesWinkler, EveStewart, Irwi...</td>\n",
       "      <td>[Metro-Goldwyn-Mayer(MGM), PotboilerProduction...</td>\n",
       "      <td>[biography, hollywood, musical, theater]</td>\n",
       "      <td>6.3</td>\n",
       "    </tr>\n",
       "    <tr>\n",
       "      <th>3966</th>\n",
       "      <td>26039</td>\n",
       "      <td>Point Blank</td>\n",
       "      <td>[Action, Crime, Drama, Thriller]</td>\n",
       "      <td>[\"CarrollOConnor\", AngieDickinson, KeenanWynn,...</td>\n",
       "      <td>[AlbertBrenner, EdwardWoehler, GeorgeW.Davis, ...</td>\n",
       "      <td>[Metro-Goldwyn-Mayer(MGM), WinklerFilms]</td>\n",
       "      <td>[alcatraz, organizedcrime, revenge]</td>\n",
       "      <td>7.1</td>\n",
       "    </tr>\n",
       "    <tr>\n",
       "      <th>3890</th>\n",
       "      <td>10162</td>\n",
       "      <td>Waking Ned</td>\n",
       "      <td>[Comedy, Romance]</td>\n",
       "      <td>[BrendanDempsey, DavidKelly, FionnulaFlanagan,...</td>\n",
       "      <td>[AlanStrachan, AlexandreHeylen, GlynisMurray, ...</td>\n",
       "      <td>[Canal+, FoxSearchlightPictures, TomboyFilms]</td>\n",
       "      <td>[beguilement, falseidentity, independentfilm, ...</td>\n",
       "      <td>7.4</td>\n",
       "    </tr>\n",
       "    <tr>\n",
       "      <th>690</th>\n",
       "      <td>497</td>\n",
       "      <td>The Green Mile</td>\n",
       "      <td>[Crime, Drama, Fantasy]</td>\n",
       "      <td>[BonnieHunt, DavidMorse, JamesCromwell, Michae...</td>\n",
       "      <td>[DavidValdes, FrankDarabont, FrankDarabont, Fr...</td>\n",
       "      <td>[CastleRockEntertainment, DarkwoodsProductions...</td>\n",
       "      <td>[1930s, basedonnovel, blackpeople, deathrow, d...</td>\n",
       "      <td>8.2</td>\n",
       "    </tr>\n",
       "  </tbody>\n",
       "</table>\n",
       "</div>"
      ],
      "text/plain": [
       "          id          original_title                            genres  \\\n",
       "3682  300706  Let's Kill Ward's Wife                          [Comedy]   \n",
       "4424  287524             Fear Clinic                          [Horror]   \n",
       "3629   13996            Bottle Shock                   [Comedy, Drama]   \n",
       "3919   15582           Teen Wolf Too         [Comedy, Family, Fantasy]   \n",
       "1592    4105              Black Rain         [Action, Crime, Thriller]   \n",
       "1574    8780               Baby Mama                          [Comedy]   \n",
       "2599   15237               De-Lovely                    [Drama, Music]   \n",
       "3966   26039             Point Blank  [Action, Crime, Drama, Thriller]   \n",
       "3890   10162              Waking Ned                 [Comedy, Romance]   \n",
       "690      497          The Green Mile           [Crime, Drama, Fantasy]   \n",
       "\n",
       "                                                   cast  \\\n",
       "3682  [AmyAcker, DagmaraDomińczyk, DonaldFaison, Pat...   \n",
       "4424  [CleopatraColeman, FionaDourif, KevinGage, Rob...   \n",
       "3629  [AlanRickman, BillPullman, ChrisPine, FreddyRo...   \n",
       "3919  [EsteeChandler, JasonBateman, JohnAstin, KimDa...   \n",
       "1592  [AndyGarcía, JohnSpencer, KateCapshaw, Michael...   \n",
       "1574  [AmyPoehler, DaxShepard, GregKinnear, Sigourne...   \n",
       "2599  [AshleyJudd, JonathanPryce, KevinKline, KevinM...   \n",
       "3966  [\"CarrollOConnor\", AngieDickinson, KeenanWynn,...   \n",
       "3890  [BrendanDempsey, DavidKelly, FionnulaFlanagan,...   \n",
       "690   [BonnieHunt, DavidMorse, JamesCromwell, Michae...   \n",
       "\n",
       "                                                   crew  \\\n",
       "3682                           [ScottFoley, ScottFoley]   \n",
       "4424  [AaronDrane, AaronDrane, JosephWhite, MarkBent...   \n",
       "3629          [JodySavin, RandallMiller, RandallMiller]   \n",
       "3919  [ChristopherLeitch, CynthiaMcCormac, HarveyRos...   \n",
       "1592  [DianneCrittenden, EllenMirojnick, HansZimmer,...   \n",
       "1574  [AvyKaufman, BruceGreen, DarynOkada, JeffRichm...   \n",
       "2599  [AndrewGrant, CharlesWinkler, EveStewart, Irwi...   \n",
       "3966  [AlbertBrenner, EdwardWoehler, GeorgeW.Davis, ...   \n",
       "3890  [AlanStrachan, AlexandreHeylen, GlynisMurray, ...   \n",
       "690   [DavidValdes, FrankDarabont, FrankDarabont, Fr...   \n",
       "\n",
       "                                   production_companies  \\\n",
       "3682                                   [LostRhinoFilms]   \n",
       "4424  [AnchorBayEntertainment, DryCountyFilms, Movie...   \n",
       "3629  [IntellectualPropertiesWorldwide, ZininsaFilmP...   \n",
       "3919                       [AtlanticEntertainmentGroup]   \n",
       "1592  [Jaffe-Lansing, ParamountPictures, PegasusFilm...   \n",
       "1574                [Michaels-Goldwyn, RelativityMedia]   \n",
       "2599  [Metro-Goldwyn-Mayer(MGM), PotboilerProduction...   \n",
       "3966           [Metro-Goldwyn-Mayer(MGM), WinklerFilms]   \n",
       "3890      [Canal+, FoxSearchlightPictures, TomboyFilms]   \n",
       "690   [CastleRockEntertainment, DarkwoodsProductions...   \n",
       "\n",
       "                                               keywords  vote_average  \n",
       "3682                           [murderplot, wifemurder]           5.5  \n",
       "4424                             [doctor, fear, phobia]           4.0  \n",
       "3629                         [wine, winegarden, winzer]           6.6  \n",
       "3919                               [teenager, werewolf]           3.8  \n",
       "1592                     [japan, japanesemafia, yakuza]           6.2  \n",
       "1574               [pregnancyandbirth, surrogatemother]           5.8  \n",
       "2599           [biography, hollywood, musical, theater]           6.3  \n",
       "3966                [alcatraz, organizedcrime, revenge]           7.1  \n",
       "3890  [beguilement, falseidentity, independentfilm, ...           7.4  \n",
       "690   [1930s, basedonnovel, blackpeople, deathrow, d...           8.2  "
      ]
     },
     "execution_count": 11,
     "metadata": {},
     "output_type": "execute_result"
    }
   ],
   "source": [
    "movies_shortened.sample(10)"
   ]
  },
  {
   "cell_type": "markdown",
   "metadata": {},
   "source": [
    "### Looking at distribution of Movie ratings:\n",
    "- Histogram of distribution\n",
    "- minimum of ratings\n",
    "- maximum of ratings\n",
    "- mean and variance"
   ]
  },
  {
   "cell_type": "code",
   "execution_count": 73,
   "metadata": {},
   "outputs": [
    {
     "data": {
      "image/png": "[encoded data removed]",
      "text/plain": [
       "<Figure size 864x720 with 1 Axes>"
      ]
     },
     "metadata": {},
     "output_type": "display_data"
    },
    {
     "name": "stdout",
     "output_type": "stream",
     "text": [
      "Minimum of Ratings: 0.5\n",
      "Maximum of Ratings: 10.0\n",
      "Average of Ratings: 6.17\n",
      "Variance of Ratings: 0.93\n"
     ]
    }
   ],
   "source": [
    "plt.subplots(figsize=(12,10))\n",
    "n, bins, patches = plt.hist(movies_shortened['vote_average'], 30, density=1, facecolor='g', alpha=0.75)\n",
    "\n",
    "plt.xlabel('Vote_average')\n",
    "plt.ylabel('Occurence')\n",
    "plt.title('Distribution of voter average')\n",
    "plt.grid(True)\n",
    "plt.show()\n",
    "print(\"Minimum of Ratings:\", round(min(movies_shortened['vote_average']),2))\n",
    "print(\"Maximum of Ratings:\", round(max(movies_shortened['vote_average']),2))\n",
    "print(\"Average of Ratings:\", round(np.mean(movies_shortened['vote_average']),2))\n",
    "print(\"Variance of Ratings:\",round(np.var(movies_shortened['vote_average']),2))"
   ]
  },
  {
   "cell_type": "markdown",
   "metadata": {},
   "source": [
    "## Feature Engineering: Turn lists of features into numerical representations"
   ]
  },
  {
   "cell_type": "markdown",
   "metadata": {},
   "source": [
    "### Step 1: Identify all unique sub-feature for each feature (ex: all unique cast members in the cast category)\n",
    "#### Organize sub-features to lowest-rating association to highest-rating association\n",
    "By organizing features in this order, the numerical representation will then also describe the quality of features associated with the movie\n",
    "- higher quality feature values should correlate with higher-rated movies, and vice versa"
   ]
  },
  {
   "cell_type": "code",
   "execution_count": 12,
   "metadata": {},
   "outputs": [],
   "source": [
    "def generate_list(df, feature_name): #create a list of all unique feature values\n",
    "    #Step 1: track all ratings associated with each feature in a dictionary\n",
    "    feature_dict = {}\n",
    "    for index, row in df.iterrows():\n",
    "        feat = row[feature_name]\n",
    "        for sub_feat in feat:\n",
    "            if sub_feat not in feature_dict:\n",
    "                feature_dict[sub_feat] = (df['vote_average'][index], 1) #\n",
    "            else:\n",
    "                feature_dict[sub_feat] = (feature_dict[sub_feat][0] + (df['vote_average'][index]), feature_dict[sub_feat][1] + 1)\n",
    "    #Step 2: calculate average ratings for each feature\n",
    "    for key in feature_dict:\n",
    "        feature_dict[key] = feature_dict[key][0]/feature_dict[key][1] #average of all vote_averages\n",
    "       \n",
    "    #Step 3: create and sort a list of tuples (dictionary value, key)\n",
    "    lst = list()\n",
    "    for name in feature_dict:\n",
    "        lst.append((feature_dict[name],name))\n",
    "    lst = sorted(lst)\n",
    "    #step 4: create a list of only the feature names, from lowest rating to highest rating\n",
    "    feature_list = list()\n",
    "    ratings_list = list()\n",
    "    for element in lst:\n",
    "        feature_list.append(element[1])\n",
    "        ratings_list.append(element[0])\n",
    "    \n",
    "    #get the variance of the ratings. This is helpful for determining the usefulness of the information (to be displayed in below plot)\n",
    "    var = round(np.var(ratings_list),3)\n",
    "    \n",
    "    #before returning the list, do a quick visualization to show that generate_list works\n",
    "    fig, ax = plt.subplots(figsize=(6,5))\n",
    "    if feature_name != 'genres':\n",
    "        n = 50 # sample at intervals of n\n",
    "    else:\n",
    "        n = 1\n",
    "    X = [] #sample for associated movie(s) rating average\n",
    "    Y = [] #sample for feature names\n",
    "    for i in range(0, len(feature_list) - 1, n):\n",
    "        X.append(ratings_list[i])\n",
    "        Y.append(feature_list[i])\n",
    "    \n",
    "    y_pos = np.arange(len(Y))\n",
    "    ax.barh(y_pos, X, align='center')\n",
    "    #ax.set_yticklabels(Y)\n",
    "    ax.invert_yaxis()  # labels read top-to-bottom\n",
    "    \n",
    "    ax.set_xlabel('Overall average movie ratings')\n",
    "    ax.set_ylabel(feature_name + ' sample list index')\n",
    "    ax.set_title(feature_name + ' to associated movie(s) performance (' + str(int(len(feature_list)/n)) + ' samples), variance: ' + str(var))\n",
    "    \n",
    "    plt.show()\n",
    "    \n",
    "    return feature_list\n"
   ]
  },
  {
   "cell_type": "markdown",
   "metadata": {},
   "source": [
    "### Create lists for each feature"
   ]
  },
  {
   "cell_type": "code",
   "execution_count": 13,
   "metadata": {},
   "outputs": [
    {
     "data": {
      "image/png": "[encoded data removed]",
      "text/plain": [
       "<Figure size 432x360 with 1 Axes>"
      ]
     },
     "metadata": {},
     "output_type": "display_data"
    }
   ],
   "source": [
    "genres_list = generate_list(movies_shortened, 'genres')"
   ]
  },
  {
   "cell_type": "code",
   "execution_count": 14,
   "metadata": {},
   "outputs": [
    {
     "data": {
      "image/png": "[encoded data removed]",
      "text/plain": [
       "<Figure size 432x360 with 1 Axes>"
      ]
     },
     "metadata": {},
     "output_type": "display_data"
    }
   ],
   "source": [
    "cast_list = generate_list(movies_shortened, 'cast')"
   ]
  },
  {
   "cell_type": "code",
   "execution_count": 15,
   "metadata": {},
   "outputs": [
    {
     "data": {
      "image/png": "[encoded data removed]",
      "text/plain": [
       "<Figure size 432x360 with 1 Axes>"
      ]
     },
     "metadata": {},
     "output_type": "display_data"
    }
   ],
   "source": [
    "crew_list = generate_list(movies_shortened, 'crew')"
   ]
  },
  {
   "cell_type": "code",
   "execution_count": 16,
   "metadata": {},
   "outputs": [
    {
     "data": {
      "image/png": "[encoded data removed]",
      "text/plain": [
       "<Figure size 432x360 with 1 Axes>"
      ]
     },
     "metadata": {},
     "output_type": "display_data"
    }
   ],
   "source": [
    "prod_companies_list = generate_list(movies_shortened, 'production_companies')"
   ]
  },
  {
   "cell_type": "code",
   "execution_count": 17,
   "metadata": {},
   "outputs": [
    {
     "data": {
      "image/png": "[encoded data removed]",
      "text/plain": [
       "<Figure size 432x360 with 1 Axes>"
      ]
     },
     "metadata": {},
     "output_type": "display_data"
    }
   ],
   "source": [
    "keywords_list = generate_list(movies_shortened, 'keywords')"
   ]
  },
  {
   "cell_type": "markdown",
   "metadata": {},
   "source": [
    "### Analysis\n",
    "\n",
    "Judging by the above variances, it's safe to say that **genres** will not be useful for predicting a movie's vote-average\n",
    "The features **cast, crew, production companies, and keywords** have high variances, which will be useful"
   ]
  },
  {
   "cell_type": "code",
   "execution_count": 18,
   "metadata": {},
   "outputs": [],
   "source": [
    "movies_shortened = movies_shortened[['id', 'original_title', 'cast', 'crew', 'production_companies', 'keywords','vote_average']]"
   ]
  },
  {
   "cell_type": "markdown",
   "metadata": {},
   "source": [
    "### Step 2: Create a binary representation for each feature\n",
    "\n",
    "##### Using the lists created, create binary arrays that indicated whether or not feature_name can be found in this movie\n",
    "\n",
    "note: each array represents a feature associated with movies with lowest average ratings to highest average ratings\n",
    "- this is useful because we can use the array as a gauge for how well the features track record in movies are"
   ]
  },
  {
   "cell_type": "code",
   "execution_count": 19,
   "metadata": {},
   "outputs": [],
   "source": [
    "def calculate_bin_array(this_list, all_features):\n",
    "    bin_list = []\n",
    "    for element in all_features:\n",
    "        if element in this_list:\n",
    "            bin_list.append(1)\n",
    "        else:\n",
    "            bin_list.append(0)\n",
    "    return bin_list"
   ]
  },
  {
   "cell_type": "code",
   "execution_count": 20,
   "metadata": {},
   "outputs": [],
   "source": [
    "movies_shortened['cast'] = movies_shortened['cast'].apply(lambda x: calculate_bin_array(x, cast_list))"
   ]
  },
  {
   "cell_type": "code",
   "execution_count": 21,
   "metadata": {},
   "outputs": [],
   "source": [
    "movies_shortened['crew'] = movies_shortened['crew'].apply(lambda x: calculate_bin_array(x, crew_list))"
   ]
  },
  {
   "cell_type": "code",
   "execution_count": 22,
   "metadata": {},
   "outputs": [],
   "source": [
    "movies_shortened['production_companies'] = movies_shortened['production_companies'].apply(lambda x: calculate_bin_array(x, prod_companies_list))"
   ]
  },
  {
   "cell_type": "code",
   "execution_count": 23,
   "metadata": {},
   "outputs": [],
   "source": [
    "movies_shortened['keywords'] = movies_shortened['keywords'].apply(lambda x: calculate_bin_array(x, keywords_list))"
   ]
  },
  {
   "cell_type": "code",
   "execution_count": 24,
   "metadata": {},
   "outputs": [
    {
     "data": {
      "text/html": [
       "<div>\n",
       "<style scoped>\n",
       "    .dataframe tbody tr th:only-of-type {\n",
       "        vertical-align: middle;\n",
       "    }\n",
       "\n",
       "    .dataframe tbody tr th {\n",
       "        vertical-align: top;\n",
       "    }\n",
       "\n",
       "    .dataframe thead th {\n",
       "        text-align: right;\n",
       "    }\n",
       "</style>\n",
       "<table border=\"1\" class=\"dataframe\">\n",
       "  <thead>\n",
       "    <tr style=\"text-align: right;\">\n",
       "      <th></th>\n",
       "      <th>id</th>\n",
       "      <th>original_title</th>\n",
       "      <th>cast</th>\n",
       "      <th>crew</th>\n",
       "      <th>production_companies</th>\n",
       "      <th>keywords</th>\n",
       "      <th>vote_average</th>\n",
       "    </tr>\n",
       "  </thead>\n",
       "  <tbody>\n",
       "    <tr>\n",
       "      <th>0</th>\n",
       "      <td>19995</td>\n",
       "      <td>Avatar</td>\n",
       "      <td>[0, 0, 0, 0, 0, 0, 0, 0, 0, 0, 0, 0, 0, 0, 0, ...</td>\n",
       "      <td>[0, 0, 0, 0, 0, 0, 0, 0, 0, 0, 0, 0, 0, 0, 0, ...</td>\n",
       "      <td>[0, 0, 0, 0, 0, 0, 0, 0, 0, 0, 0, 0, 0, 0, 0, ...</td>\n",
       "      <td>[0, 0, 0, 0, 0, 0, 0, 0, 0, 0, 0, 0, 0, 0, 0, ...</td>\n",
       "      <td>7.2</td>\n",
       "    </tr>\n",
       "    <tr>\n",
       "      <th>1</th>\n",
       "      <td>285</td>\n",
       "      <td>Pirates of the Caribbean: At World's End</td>\n",
       "      <td>[0, 0, 0, 0, 0, 0, 0, 0, 0, 0, 0, 0, 0, 0, 0, ...</td>\n",
       "      <td>[0, 0, 0, 0, 0, 0, 0, 0, 0, 0, 0, 0, 0, 0, 0, ...</td>\n",
       "      <td>[0, 0, 0, 0, 0, 0, 0, 0, 0, 0, 0, 0, 0, 0, 0, ...</td>\n",
       "      <td>[0, 0, 0, 0, 0, 0, 0, 0, 0, 0, 0, 0, 0, 0, 0, ...</td>\n",
       "      <td>6.9</td>\n",
       "    </tr>\n",
       "    <tr>\n",
       "      <th>2</th>\n",
       "      <td>206647</td>\n",
       "      <td>Spectre</td>\n",
       "      <td>[0, 0, 0, 0, 0, 0, 0, 0, 0, 0, 0, 0, 0, 0, 0, ...</td>\n",
       "      <td>[0, 0, 0, 0, 0, 0, 0, 0, 0, 0, 0, 0, 0, 0, 0, ...</td>\n",
       "      <td>[0, 0, 0, 0, 0, 0, 0, 0, 0, 0, 0, 0, 0, 0, 0, ...</td>\n",
       "      <td>[0, 0, 0, 0, 0, 0, 0, 0, 0, 0, 0, 0, 0, 0, 0, ...</td>\n",
       "      <td>6.3</td>\n",
       "    </tr>\n",
       "    <tr>\n",
       "      <th>3</th>\n",
       "      <td>49026</td>\n",
       "      <td>The Dark Knight Rises</td>\n",
       "      <td>[0, 0, 0, 0, 0, 0, 0, 0, 0, 0, 0, 0, 0, 0, 0, ...</td>\n",
       "      <td>[0, 0, 0, 0, 0, 0, 0, 0, 0, 0, 0, 0, 0, 0, 0, ...</td>\n",
       "      <td>[0, 0, 0, 0, 0, 0, 0, 0, 0, 0, 0, 0, 0, 0, 0, ...</td>\n",
       "      <td>[0, 0, 0, 0, 0, 0, 0, 0, 0, 0, 0, 0, 0, 0, 0, ...</td>\n",
       "      <td>7.6</td>\n",
       "    </tr>\n",
       "    <tr>\n",
       "      <th>4</th>\n",
       "      <td>49529</td>\n",
       "      <td>John Carter</td>\n",
       "      <td>[0, 0, 0, 0, 0, 0, 0, 0, 0, 0, 0, 0, 0, 0, 0, ...</td>\n",
       "      <td>[0, 0, 0, 0, 0, 0, 0, 0, 0, 0, 0, 0, 0, 0, 0, ...</td>\n",
       "      <td>[0, 0, 0, 0, 0, 0, 0, 0, 0, 0, 0, 0, 0, 0, 0, ...</td>\n",
       "      <td>[0, 0, 0, 0, 0, 0, 0, 0, 0, 0, 0, 0, 0, 0, 0, ...</td>\n",
       "      <td>6.1</td>\n",
       "    </tr>\n",
       "  </tbody>\n",
       "</table>\n",
       "</div>"
      ],
      "text/plain": [
       "       id                            original_title  \\\n",
       "0   19995                                    Avatar   \n",
       "1     285  Pirates of the Caribbean: At World's End   \n",
       "2  206647                                   Spectre   \n",
       "3   49026                     The Dark Knight Rises   \n",
       "4   49529                               John Carter   \n",
       "\n",
       "                                                cast  \\\n",
       "0  [0, 0, 0, 0, 0, 0, 0, 0, 0, 0, 0, 0, 0, 0, 0, ...   \n",
       "1  [0, 0, 0, 0, 0, 0, 0, 0, 0, 0, 0, 0, 0, 0, 0, ...   \n",
       "2  [0, 0, 0, 0, 0, 0, 0, 0, 0, 0, 0, 0, 0, 0, 0, ...   \n",
       "3  [0, 0, 0, 0, 0, 0, 0, 0, 0, 0, 0, 0, 0, 0, 0, ...   \n",
       "4  [0, 0, 0, 0, 0, 0, 0, 0, 0, 0, 0, 0, 0, 0, 0, ...   \n",
       "\n",
       "                                                crew  \\\n",
       "0  [0, 0, 0, 0, 0, 0, 0, 0, 0, 0, 0, 0, 0, 0, 0, ...   \n",
       "1  [0, 0, 0, 0, 0, 0, 0, 0, 0, 0, 0, 0, 0, 0, 0, ...   \n",
       "2  [0, 0, 0, 0, 0, 0, 0, 0, 0, 0, 0, 0, 0, 0, 0, ...   \n",
       "3  [0, 0, 0, 0, 0, 0, 0, 0, 0, 0, 0, 0, 0, 0, 0, ...   \n",
       "4  [0, 0, 0, 0, 0, 0, 0, 0, 0, 0, 0, 0, 0, 0, 0, ...   \n",
       "\n",
       "                                production_companies  \\\n",
       "0  [0, 0, 0, 0, 0, 0, 0, 0, 0, 0, 0, 0, 0, 0, 0, ...   \n",
       "1  [0, 0, 0, 0, 0, 0, 0, 0, 0, 0, 0, 0, 0, 0, 0, ...   \n",
       "2  [0, 0, 0, 0, 0, 0, 0, 0, 0, 0, 0, 0, 0, 0, 0, ...   \n",
       "3  [0, 0, 0, 0, 0, 0, 0, 0, 0, 0, 0, 0, 0, 0, 0, ...   \n",
       "4  [0, 0, 0, 0, 0, 0, 0, 0, 0, 0, 0, 0, 0, 0, 0, ...   \n",
       "\n",
       "                                            keywords  vote_average  \n",
       "0  [0, 0, 0, 0, 0, 0, 0, 0, 0, 0, 0, 0, 0, 0, 0, ...           7.2  \n",
       "1  [0, 0, 0, 0, 0, 0, 0, 0, 0, 0, 0, 0, 0, 0, 0, ...           6.9  \n",
       "2  [0, 0, 0, 0, 0, 0, 0, 0, 0, 0, 0, 0, 0, 0, 0, ...           6.3  \n",
       "3  [0, 0, 0, 0, 0, 0, 0, 0, 0, 0, 0, 0, 0, 0, 0, ...           7.6  \n",
       "4  [0, 0, 0, 0, 0, 0, 0, 0, 0, 0, 0, 0, 0, 0, 0, ...           6.1  "
      ]
     },
     "execution_count": 24,
     "metadata": {},
     "output_type": "execute_result"
    }
   ],
   "source": [
    "movies_shortened.head()"
   ]
  },
  {
   "cell_type": "markdown",
   "metadata": {},
   "source": [
    "### Look at distribution of 1's in a number-line format"
   ]
  },
  {
   "cell_type": "code",
   "execution_count": 25,
   "metadata": {},
   "outputs": [],
   "source": [
    "def plot_bin(mov):\n",
    "    cast_bin = mov[2]\n",
    "    cast_index = []\n",
    "    # create arrays of indeces where bin number is one\n",
    "    for i in range(len(cast_bin)):\n",
    "        if cast_bin[i] == 1:\n",
    "            cast_index.append(i)\n",
    "    \n",
    "    crew_bin = mov[3]\n",
    "    crew_index = []\n",
    "    for i in range(len(crew_bin)):\n",
    "        if crew_bin[i] == 1:\n",
    "            crew_index.append(i)\n",
    "    \n",
    "    prod_bin = mov[4]\n",
    "    prod_index = []\n",
    "    for i in range(len(prod_bin)):\n",
    "        if prod_bin[i] == 1:\n",
    "            prod_index.append(i)\n",
    "    \n",
    "    keywords_bin = mov[5]\n",
    "    keywords_index = []\n",
    "    for i in range(len(keywords_bin)):\n",
    "        if keywords_bin[i] == 1:\n",
    "            keywords_index.append(i)\n",
    "    \n",
    "    font = {'family': 'serif',\n",
    "        'color':  'red',\n",
    "        'weight': 'normal',\n",
    "        'size': 10,\n",
    "        }\n",
    "    \n",
    "    fig, ax = plt.subplots(4,1,figsize=(5,1))\n",
    "    plt.subplots_adjust(hspace = 5)\n",
    "    ax[0].scatter(cast_index, np.zeros_like(cast_index), vmin=-2)\n",
    "    ax[0].set_title('Cast', loc = 'left', fontdict=font)\n",
    "    ax[0].set_xlim(0,len(cast_bin))\n",
    "    ax[0].set_yticks([])\n",
    "    ax[0].set_xticks([])\n",
    "    \n",
    "    ax[1].scatter(crew_index, np.zeros_like(crew_index), vmin=-2)\n",
    "    ax[1].set_title('Crew', loc = 'left', fontdict=font)\n",
    "    ax[1].set_xlim(0,len(crew_bin))\n",
    "    ax[1].set_yticks([])\n",
    "    ax[1].set_xticks([])\n",
    "    \n",
    "    ax[2].scatter(prod_index, np.zeros_like(prod_index), vmin=-2)\n",
    "    ax[2].set_title('Production companies', loc = 'left', fontdict=font)\n",
    "    ax[2].set_xlim(0,len(prod_bin))\n",
    "    ax[2].set_yticks([])\n",
    "    ax[2].set_xticks([])\n",
    "    \n",
    "    ax[3].scatter(keywords_index, np.zeros_like(keywords_index), vmin=-2)\n",
    "    ax[3].set_title('Keywords', loc = 'left', fontdict=font)\n",
    "    ax[3].set_xlim(0,len(keywords_bin))\n",
    "    ax[3].set_yticks([])\n",
    "    ax[3].set_xticks([])\n"
   ]
  },
  {
   "cell_type": "code",
   "execution_count": 26,
   "metadata": {},
   "outputs": [],
   "source": [
    "movies_sample = movies_shortened.sample(5)"
   ]
  },
  {
   "cell_type": "code",
   "execution_count": 27,
   "metadata": {},
   "outputs": [
    {
     "name": "stdout",
     "output_type": "stream",
     "text": [
      "Movie: Resident Evil: Retribution\n",
      "Rating: 5.6\n",
      "\n"
     ]
    },
    {
     "data": {
      "image/png": "[encoded data removed]",
      "text/plain": [
       "<Figure size 360x72 with 4 Axes>"
      ]
     },
     "metadata": {},
     "output_type": "display_data"
    }
   ],
   "source": [
    "print('Movie: ' + movies_sample.iloc[0][1] + '\\nRating: ' + str(movies_sample.iloc[0][-1]) + '\\n')\n",
    "plot_bin(movies_sample.iloc[0])"
   ]
  },
  {
   "cell_type": "code",
   "execution_count": 28,
   "metadata": {},
   "outputs": [
    {
     "name": "stdout",
     "output_type": "stream",
     "text": [
      "Movie:A Bridge Too Far\n",
      "Rating: 6.9\n",
      "\n"
     ]
    },
    {
     "data": {
      "image/png": "[encoded data removed]",
      "text/plain": [
       "<Figure size 360x72 with 4 Axes>"
      ]
     },
     "metadata": {},
     "output_type": "display_data"
    }
   ],
   "source": [
    "print('Movie:' + movies_sample.iloc[1][1] + '\\nRating: ' + str(movies_sample.iloc[1][-1]) + '\\n')\n",
    "plot_bin(movies_sample.iloc[1])"
   ]
  },
  {
   "cell_type": "code",
   "execution_count": 29,
   "metadata": {},
   "outputs": [
    {
     "name": "stdout",
     "output_type": "stream",
     "text": [
      "Movie:National Treasure\n",
      "Rating: 6.4\n",
      "\n"
     ]
    },
    {
     "data": {
      "image/png": "[encoded data removed]",
      "text/plain": [
       "<Figure size 360x72 with 4 Axes>"
      ]
     },
     "metadata": {},
     "output_type": "display_data"
    }
   ],
   "source": [
    "print('Movie:' + movies_sample.iloc[2][1] + '\\nRating: ' + str(movies_sample.iloc[2][-1]) + '\\n')\n",
    "plot_bin(movies_sample.iloc[2])"
   ]
  },
  {
   "cell_type": "code",
   "execution_count": 30,
   "metadata": {},
   "outputs": [
    {
     "name": "stdout",
     "output_type": "stream",
     "text": [
      "Movie:Brooklyn's Finest\n",
      "Rating: 6.2\n",
      "\n"
     ]
    },
    {
     "data": {
      "image/png": "[encoded data removed]",
      "text/plain": [
       "<Figure size 360x72 with 4 Axes>"
      ]
     },
     "metadata": {},
     "output_type": "display_data"
    }
   ],
   "source": [
    "print('Movie:' + movies_sample.iloc[3][1] + '\\nRating: ' + str(movies_sample.iloc[3][-1]) + '\\n')\n",
    "plot_bin(movies_sample.iloc[3])"
   ]
  },
  {
   "cell_type": "code",
   "execution_count": 31,
   "metadata": {},
   "outputs": [
    {
     "name": "stdout",
     "output_type": "stream",
     "text": [
      "Movie:Joan of Arc\n",
      "Rating: 6.2\n",
      "\n"
     ]
    },
    {
     "data": {
      "image/png": "[encoded data removed]",
      "text/plain": [
       "<Figure size 360x72 with 4 Axes>"
      ]
     },
     "metadata": {},
     "output_type": "display_data"
    }
   ],
   "source": [
    "print('Movie:' + movies_sample.iloc[4][1] + '\\nRating: ' + str(movies_sample.iloc[4][-1]) + '\\n')\n",
    "plot_bin(movies_sample.iloc[4])"
   ]
  },
  {
   "cell_type": "markdown",
   "metadata": {},
   "source": [
    "#### Analysis\n",
    " - Movies with lower ratings have features leaning towards the left, while movies with higher ratings have features leaning to the right. \n",
    " - This shows that there's a relationship between features and ratings if feature names is organized from lowest movie rating associations to highest movie rating associations"
   ]
  },
  {
   "cell_type": "markdown",
   "metadata": {},
   "source": [
    "### Step 3: Find concentration points in each array\n",
    "Find areas where numbers are grouped, and identify points that resemble the centers of binary distribution\n",
    "\n",
    "    Generic example: [1110001111100101] -> [0300000050000020] -> [(1,3), (8,5), (14,2)] tuple[0] is the index of concentration, tuple[1] is the number of 1's about index"
   ]
  },
  {
   "cell_type": "code",
   "execution_count": 32,
   "metadata": {},
   "outputs": [],
   "source": [
    "def split_arr(arr, n_splits): \n",
    "      \n",
    "    # looping till length l \n",
    "    for i in range(0, len(arr), n_splits):  \n",
    "        yield arr[i:i + n_splits] \n",
    "\n",
    "def find_concentration(arr, n = 100): # n is the number of concentration points to find\n",
    "    #seperate array into batches\n",
    "    batches = list(split_arr(arr,int(len(arr)/n)))\n",
    "    concentrations = []\n",
    "    for i in range(len(batches)):\n",
    "        point = 0\n",
    "        num_ones = 0\n",
    "        for j in range(len(batches[i])):\n",
    "            if batches[i][j] == 1:\n",
    "                point += j + (i * int(len(arr)/n)) # adding correction for batches\n",
    "                num_ones += 1\n",
    "        if num_ones > 0:\n",
    "            point = point/num_ones\n",
    "            concentrations.append((point,num_ones))\n",
    "    return concentrations"
   ]
  },
  {
   "cell_type": "code",
   "execution_count": 33,
   "metadata": {},
   "outputs": [],
   "source": [
    "def to_concentrations(df, feature_names):\n",
    "    for feature_name in feature_names:\n",
    "        print('feature: ', feature_name)\n",
    "        df[feature_name] = df[feature_name].apply(lambda x: find_concentration(x))\n",
    "    return df"
   ]
  },
  {
   "cell_type": "code",
   "execution_count": 34,
   "metadata": {},
   "outputs": [
    {
     "name": "stdout",
     "output_type": "stream",
     "text": [
      "feature:  cast\n",
      "feature:  crew\n",
      "feature:  production_companies\n",
      "feature:  keywords\n"
     ]
    }
   ],
   "source": [
    "movies_shortened = to_concentrations(movies_shortened, ['cast', 'crew', 'production_companies', 'keywords'])"
   ]
  },
  {
   "cell_type": "code",
   "execution_count": 35,
   "metadata": {},
   "outputs": [
    {
     "data": {
      "text/html": [
       "<div>\n",
       "<style scoped>\n",
       "    .dataframe tbody tr th:only-of-type {\n",
       "        vertical-align: middle;\n",
       "    }\n",
       "\n",
       "    .dataframe tbody tr th {\n",
       "        vertical-align: top;\n",
       "    }\n",
       "\n",
       "    .dataframe thead th {\n",
       "        text-align: right;\n",
       "    }\n",
       "</style>\n",
       "<table border=\"1\" class=\"dataframe\">\n",
       "  <thead>\n",
       "    <tr style=\"text-align: right;\">\n",
       "      <th></th>\n",
       "      <th>id</th>\n",
       "      <th>original_title</th>\n",
       "      <th>cast</th>\n",
       "      <th>crew</th>\n",
       "      <th>production_companies</th>\n",
       "      <th>keywords</th>\n",
       "      <th>vote_average</th>\n",
       "    </tr>\n",
       "  </thead>\n",
       "  <tbody>\n",
       "    <tr>\n",
       "      <th>4584</th>\n",
       "      <td>189711</td>\n",
       "      <td>Love in the Time of Monsters</td>\n",
       "      <td>[(781.0, 1), (918.0, 1), (993.0, 1), (1038.0, ...</td>\n",
       "      <td>[(1352.5, 2)]</td>\n",
       "      <td>[(458.0, 2)]</td>\n",
       "      <td>[(1295.0, 1)]</td>\n",
       "      <td>5.0</td>\n",
       "    </tr>\n",
       "    <tr>\n",
       "      <th>444</th>\n",
       "      <td>4147</td>\n",
       "      <td>Road to Perdition</td>\n",
       "      <td>[(3855.0, 1), (6447.0, 1), (7857.5, 2), (8447....</td>\n",
       "      <td>[(7447.0, 1), (8847.0, 1), (9507.0, 1), (9667....</td>\n",
       "      <td>[(2156.0, 1), (2917.0, 1), (3402.0, 1)]</td>\n",
       "      <td>[(6744.0, 1), (8693.5, 2), (8780.714285714286,...</td>\n",
       "      <td>7.3</td>\n",
       "    </tr>\n",
       "    <tr>\n",
       "      <th>1693</th>\n",
       "      <td>11249</td>\n",
       "      <td>Seed of Chucky</td>\n",
       "      <td>[(1103.0, 1), (1774.0, 1), (2205.0, 1), (3105....</td>\n",
       "      <td>[(1159.0, 3), (2455.0, 1), (5774.0, 1), (6300....</td>\n",
       "      <td>[(932.0, 1)]</td>\n",
       "      <td>[(279.0, 2), (683.0, 1), (1061.0, 1), (1146.0,...</td>\n",
       "      <td>4.9</td>\n",
       "    </tr>\n",
       "    <tr>\n",
       "      <th>1057</th>\n",
       "      <td>7214</td>\n",
       "      <td>Coach Carter</td>\n",
       "      <td>[(4344.0, 1), (4711.0, 1), (4811.0, 1), (7538....</td>\n",
       "      <td>[(4269.0, 1), (4384.0, 1), (5498.5, 2), (6283....</td>\n",
       "      <td>[(2083.0, 1), (2363.0, 1), (2555.0, 1)]</td>\n",
       "      <td>[(1894.0, 1), (3155.0, 1), (3636.0, 1), (3812....</td>\n",
       "      <td>7.3</td>\n",
       "    </tr>\n",
       "    <tr>\n",
       "      <th>4131</th>\n",
       "      <td>335866</td>\n",
       "      <td>Circle</td>\n",
       "      <td>[(1806.0, 1), (2031.0, 1), (2999.0, 1), (3519....</td>\n",
       "      <td>[(5048.0, 1), (5294.0, 1)]</td>\n",
       "      <td>[(1857.0, 1), (2632.0, 1)]</td>\n",
       "      <td>[(2412.0, 1), (5370.0, 1), (5978.0, 1), (6040....</td>\n",
       "      <td>6.0</td>\n",
       "    </tr>\n",
       "    <tr>\n",
       "      <th>1423</th>\n",
       "      <td>14442</td>\n",
       "      <td>Ella Enchanted</td>\n",
       "      <td>[(3194.0, 1), (3842.0, 1), (3938.0, 2), (6137....</td>\n",
       "      <td>[(5482.0, 1), (5652.0, 1), (6179.0, 1), (6979....</td>\n",
       "      <td>[(1508.0, 1), (2834.0, 1)]</td>\n",
       "      <td>[(1366.0, 1), (1974.0, 1), (2101.0, 1), (2255....</td>\n",
       "      <td>5.9</td>\n",
       "    </tr>\n",
       "    <tr>\n",
       "      <th>3341</th>\n",
       "      <td>77930</td>\n",
       "      <td>Magic Mike</td>\n",
       "      <td>[(1816.0, 1), (2510.0, 1), (3931.0, 1), (4811....</td>\n",
       "      <td>[(3682.0, 1), (4397.0, 1), (4975.0, 1), (5789....</td>\n",
       "      <td>[(1972.0, 1), (2388.0, 1)]</td>\n",
       "      <td>[(2553.0, 1), (4084.0, 1), (4345.0, 1), (4766....</td>\n",
       "      <td>6.1</td>\n",
       "    </tr>\n",
       "    <tr>\n",
       "      <th>537</th>\n",
       "      <td>37958</td>\n",
       "      <td>Immortals</td>\n",
       "      <td>[(1104.0, 1), (2992.0, 1), (3404.0, 1), (3653....</td>\n",
       "      <td>[(2854.0, 2), (3695.0, 1), (4247.0, 1), (4395....</td>\n",
       "      <td>[(942.0, 1), (2263.0, 1)]</td>\n",
       "      <td>[(681.0, 1), (1779.0, 1), (2154.0, 1), (5400.0...</td>\n",
       "      <td>5.7</td>\n",
       "    </tr>\n",
       "    <tr>\n",
       "      <th>3785</th>\n",
       "      <td>48309</td>\n",
       "      <td>Prison</td>\n",
       "      <td>[(5334.0, 1), (6051.0, 1), (6088.0, 1), (6701....</td>\n",
       "      <td>[(2403.0, 1), (4291.0, 1), (8448.0, 1), (9772....</td>\n",
       "      <td>[(2873.0, 1)]</td>\n",
       "      <td>[(1817.0, 1), (3137.0, 1), (3714.0, 1), (4867....</td>\n",
       "      <td>6.7</td>\n",
       "    </tr>\n",
       "    <tr>\n",
       "      <th>3937</th>\n",
       "      <td>10683</td>\n",
       "      <td>Happiness</td>\n",
       "      <td>[(4020.0, 1), (4379.0, 1), (5824.0, 1), (6872....</td>\n",
       "      <td>[(8339.0, 1), (9156.0, 1), (9550.0, 1), (10810...</td>\n",
       "      <td>[(3126.0, 1), (3836.0, 1)]</td>\n",
       "      <td>[(3432.0, 1), (3634.0, 1), (3735.0, 1), (3814....</td>\n",
       "      <td>7.4</td>\n",
       "    </tr>\n",
       "  </tbody>\n",
       "</table>\n",
       "</div>"
      ],
      "text/plain": [
       "          id                original_title  \\\n",
       "4584  189711  Love in the Time of Monsters   \n",
       "444     4147             Road to Perdition   \n",
       "1693   11249                Seed of Chucky   \n",
       "1057    7214                  Coach Carter   \n",
       "4131  335866                        Circle   \n",
       "1423   14442                Ella Enchanted   \n",
       "3341   77930                    Magic Mike   \n",
       "537    37958                     Immortals   \n",
       "3785   48309                        Prison   \n",
       "3937   10683                     Happiness   \n",
       "\n",
       "                                                   cast  \\\n",
       "4584  [(781.0, 1), (918.0, 1), (993.0, 1), (1038.0, ...   \n",
       "444   [(3855.0, 1), (6447.0, 1), (7857.5, 2), (8447....   \n",
       "1693  [(1103.0, 1), (1774.0, 1), (2205.0, 1), (3105....   \n",
       "1057  [(4344.0, 1), (4711.0, 1), (4811.0, 1), (7538....   \n",
       "4131  [(1806.0, 1), (2031.0, 1), (2999.0, 1), (3519....   \n",
       "1423  [(3194.0, 1), (3842.0, 1), (3938.0, 2), (6137....   \n",
       "3341  [(1816.0, 1), (2510.0, 1), (3931.0, 1), (4811....   \n",
       "537   [(1104.0, 1), (2992.0, 1), (3404.0, 1), (3653....   \n",
       "3785  [(5334.0, 1), (6051.0, 1), (6088.0, 1), (6701....   \n",
       "3937  [(4020.0, 1), (4379.0, 1), (5824.0, 1), (6872....   \n",
       "\n",
       "                                                   crew  \\\n",
       "4584                                      [(1352.5, 2)]   \n",
       "444   [(7447.0, 1), (8847.0, 1), (9507.0, 1), (9667....   \n",
       "1693  [(1159.0, 3), (2455.0, 1), (5774.0, 1), (6300....   \n",
       "1057  [(4269.0, 1), (4384.0, 1), (5498.5, 2), (6283....   \n",
       "4131                         [(5048.0, 1), (5294.0, 1)]   \n",
       "1423  [(5482.0, 1), (5652.0, 1), (6179.0, 1), (6979....   \n",
       "3341  [(3682.0, 1), (4397.0, 1), (4975.0, 1), (5789....   \n",
       "537   [(2854.0, 2), (3695.0, 1), (4247.0, 1), (4395....   \n",
       "3785  [(2403.0, 1), (4291.0, 1), (8448.0, 1), (9772....   \n",
       "3937  [(8339.0, 1), (9156.0, 1), (9550.0, 1), (10810...   \n",
       "\n",
       "                         production_companies  \\\n",
       "4584                             [(458.0, 2)]   \n",
       "444   [(2156.0, 1), (2917.0, 1), (3402.0, 1)]   \n",
       "1693                             [(932.0, 1)]   \n",
       "1057  [(2083.0, 1), (2363.0, 1), (2555.0, 1)]   \n",
       "4131               [(1857.0, 1), (2632.0, 1)]   \n",
       "1423               [(1508.0, 1), (2834.0, 1)]   \n",
       "3341               [(1972.0, 1), (2388.0, 1)]   \n",
       "537                 [(942.0, 1), (2263.0, 1)]   \n",
       "3785                            [(2873.0, 1)]   \n",
       "3937               [(3126.0, 1), (3836.0, 1)]   \n",
       "\n",
       "                                               keywords  vote_average  \n",
       "4584                                      [(1295.0, 1)]           5.0  \n",
       "444   [(6744.0, 1), (8693.5, 2), (8780.714285714286,...           7.3  \n",
       "1693  [(279.0, 2), (683.0, 1), (1061.0, 1), (1146.0,...           4.9  \n",
       "1057  [(1894.0, 1), (3155.0, 1), (3636.0, 1), (3812....           7.3  \n",
       "4131  [(2412.0, 1), (5370.0, 1), (5978.0, 1), (6040....           6.0  \n",
       "1423  [(1366.0, 1), (1974.0, 1), (2101.0, 1), (2255....           5.9  \n",
       "3341  [(2553.0, 1), (4084.0, 1), (4345.0, 1), (4766....           6.1  \n",
       "537   [(681.0, 1), (1779.0, 1), (2154.0, 1), (5400.0...           5.7  \n",
       "3785  [(1817.0, 1), (3137.0, 1), (3714.0, 1), (4867....           6.7  \n",
       "3937  [(3432.0, 1), (3634.0, 1), (3735.0, 1), (3814....           7.4  "
      ]
     },
     "execution_count": 35,
     "metadata": {},
     "output_type": "execute_result"
    }
   ],
   "source": [
    "movies_shortened.sample(10)"
   ]
  },
  {
   "cell_type": "markdown",
   "metadata": {},
   "source": [
    "### Step 3.1: Find a decimal value that represents the concentration points\n",
    "The point will represent the weighted average of all points of concentration\n",
    "The weight is the number of ones for each concentration point"
   ]
  },
  {
   "cell_type": "code",
   "execution_count": 36,
   "metadata": {},
   "outputs": [],
   "source": [
    "def w_avg(arr):\n",
    "    weight = 0 #weight\n",
    "    s = 0 # position*weight\n",
    "    for element in arr:\n",
    "        s += (element[0] * element[1])\n",
    "        weight += element[1]\n",
    "    return s/weight #weighted average"
   ]
  },
  {
   "cell_type": "code",
   "execution_count": 37,
   "metadata": {},
   "outputs": [],
   "source": [
    "def to_weighted_avg(df, feature_names):\n",
    "    for feature_name in feature_names:\n",
    "        print('Current: ', feature_name)\n",
    "        df[feature_name] = df[feature_name].apply(lambda x: w_avg(x))\n",
    "    return df"
   ]
  },
  {
   "cell_type": "code",
   "execution_count": 38,
   "metadata": {},
   "outputs": [
    {
     "name": "stdout",
     "output_type": "stream",
     "text": [
      "Current:  cast\n",
      "Current:  crew\n",
      "Current:  production_companies\n",
      "Current:  keywords\n"
     ]
    }
   ],
   "source": [
    "movies_shortened = to_weighted_avg(movies_shortened, ['cast', 'crew', 'production_companies', 'keywords'])"
   ]
  },
  {
   "cell_type": "code",
   "execution_count": 39,
   "metadata": {},
   "outputs": [],
   "source": [
    "movies_shortened['vote_average'] = movies['vote_average']"
   ]
  },
  {
   "cell_type": "code",
   "execution_count": 40,
   "metadata": {},
   "outputs": [
    {
     "data": {
      "text/html": [
       "<div>\n",
       "<style scoped>\n",
       "    .dataframe tbody tr th:only-of-type {\n",
       "        vertical-align: middle;\n",
       "    }\n",
       "\n",
       "    .dataframe tbody tr th {\n",
       "        vertical-align: top;\n",
       "    }\n",
       "\n",
       "    .dataframe thead th {\n",
       "        text-align: right;\n",
       "    }\n",
       "</style>\n",
       "<table border=\"1\" class=\"dataframe\">\n",
       "  <thead>\n",
       "    <tr style=\"text-align: right;\">\n",
       "      <th></th>\n",
       "      <th>id</th>\n",
       "      <th>original_title</th>\n",
       "      <th>cast</th>\n",
       "      <th>crew</th>\n",
       "      <th>production_companies</th>\n",
       "      <th>keywords</th>\n",
       "      <th>vote_average</th>\n",
       "    </tr>\n",
       "  </thead>\n",
       "  <tbody>\n",
       "    <tr>\n",
       "      <th>2040</th>\n",
       "      <td>2176</td>\n",
       "      <td>The Glass House</td>\n",
       "      <td>4132.8</td>\n",
       "      <td>4252.700000</td>\n",
       "      <td>1434.000000</td>\n",
       "      <td>3831.428571</td>\n",
       "      <td>5.4</td>\n",
       "    </tr>\n",
       "    <tr>\n",
       "      <th>1650</th>\n",
       "      <td>10350</td>\n",
       "      <td>Wing Commander</td>\n",
       "      <td>2540.2</td>\n",
       "      <td>2951.400000</td>\n",
       "      <td>390.000000</td>\n",
       "      <td>2777.000000</td>\n",
       "      <td>4.0</td>\n",
       "    </tr>\n",
       "    <tr>\n",
       "      <th>689</th>\n",
       "      <td>14306</td>\n",
       "      <td>Marley &amp; Me</td>\n",
       "      <td>4281.0</td>\n",
       "      <td>7333.777778</td>\n",
       "      <td>1902.500000</td>\n",
       "      <td>4401.571429</td>\n",
       "      <td>6.9</td>\n",
       "    </tr>\n",
       "    <tr>\n",
       "      <th>3159</th>\n",
       "      <td>30497</td>\n",
       "      <td>The Texas Chain Saw Massacre</td>\n",
       "      <td>7514.2</td>\n",
       "      <td>9980.166667</td>\n",
       "      <td>3275.500000</td>\n",
       "      <td>5411.187500</td>\n",
       "      <td>7.2</td>\n",
       "    </tr>\n",
       "    <tr>\n",
       "      <th>678</th>\n",
       "      <td>300168</td>\n",
       "      <td>天將雄師</td>\n",
       "      <td>4191.6</td>\n",
       "      <td>4564.555556</td>\n",
       "      <td>1992.777778</td>\n",
       "      <td>1295.000000</td>\n",
       "      <td>5.9</td>\n",
       "    </tr>\n",
       "    <tr>\n",
       "      <th>1502</th>\n",
       "      <td>11978</td>\n",
       "      <td>Men of Honor</td>\n",
       "      <td>5111.2</td>\n",
       "      <td>7216.363636</td>\n",
       "      <td>2362.000000</td>\n",
       "      <td>3440.500000</td>\n",
       "      <td>7.0</td>\n",
       "    </tr>\n",
       "    <tr>\n",
       "      <th>2756</th>\n",
       "      <td>10691</td>\n",
       "      <td>Crazy/Beautiful</td>\n",
       "      <td>4601.2</td>\n",
       "      <td>6490.100000</td>\n",
       "      <td>2871.000000</td>\n",
       "      <td>5233.545455</td>\n",
       "      <td>6.6</td>\n",
       "    </tr>\n",
       "    <tr>\n",
       "      <th>380</th>\n",
       "      <td>921</td>\n",
       "      <td>Cinderella Man</td>\n",
       "      <td>5500.6</td>\n",
       "      <td>9162.000000</td>\n",
       "      <td>2918.000000</td>\n",
       "      <td>6637.333333</td>\n",
       "      <td>7.3</td>\n",
       "    </tr>\n",
       "    <tr>\n",
       "      <th>1334</th>\n",
       "      <td>23742</td>\n",
       "      <td>Cop Out</td>\n",
       "      <td>2506.2</td>\n",
       "      <td>4999.250000</td>\n",
       "      <td>2634.000000</td>\n",
       "      <td>3341.200000</td>\n",
       "      <td>5.3</td>\n",
       "    </tr>\n",
       "    <tr>\n",
       "      <th>4592</th>\n",
       "      <td>3059</td>\n",
       "      <td>Intolerance</td>\n",
       "      <td>8579.8</td>\n",
       "      <td>12689.888889</td>\n",
       "      <td>4647.500000</td>\n",
       "      <td>7216.076923</td>\n",
       "      <td>7.4</td>\n",
       "    </tr>\n",
       "  </tbody>\n",
       "</table>\n",
       "</div>"
      ],
      "text/plain": [
       "          id                original_title    cast          crew  \\\n",
       "2040    2176               The Glass House  4132.8   4252.700000   \n",
       "1650   10350                Wing Commander  2540.2   2951.400000   \n",
       "689    14306                   Marley & Me  4281.0   7333.777778   \n",
       "3159   30497  The Texas Chain Saw Massacre  7514.2   9980.166667   \n",
       "678   300168                          天將雄師  4191.6   4564.555556   \n",
       "1502   11978                  Men of Honor  5111.2   7216.363636   \n",
       "2756   10691               Crazy/Beautiful  4601.2   6490.100000   \n",
       "380      921                Cinderella Man  5500.6   9162.000000   \n",
       "1334   23742                       Cop Out  2506.2   4999.250000   \n",
       "4592    3059                   Intolerance  8579.8  12689.888889   \n",
       "\n",
       "      production_companies     keywords  vote_average  \n",
       "2040           1434.000000  3831.428571           5.4  \n",
       "1650            390.000000  2777.000000           4.0  \n",
       "689            1902.500000  4401.571429           6.9  \n",
       "3159           3275.500000  5411.187500           7.2  \n",
       "678            1992.777778  1295.000000           5.9  \n",
       "1502           2362.000000  3440.500000           7.0  \n",
       "2756           2871.000000  5233.545455           6.6  \n",
       "380            2918.000000  6637.333333           7.3  \n",
       "1334           2634.000000  3341.200000           5.3  \n",
       "4592           4647.500000  7216.076923           7.4  "
      ]
     },
     "execution_count": 40,
     "metadata": {},
     "output_type": "execute_result"
    }
   ],
   "source": [
    "movies_shortened.sample(10)"
   ]
  },
  {
   "cell_type": "markdown",
   "metadata": {},
   "source": [
    "### Step 4: Normalize the features"
   ]
  },
  {
   "cell_type": "markdown",
   "metadata": {},
   "source": [
    "First, make a dataframe to isolate the features"
   ]
  },
  {
   "cell_type": "code",
   "execution_count": 41,
   "metadata": {},
   "outputs": [],
   "source": [
    "feat_df = movies_shortened[['cast', 'crew', 'production_companies', 'keywords']] #extract only features from df, and scale"
   ]
  },
  {
   "cell_type": "code",
   "execution_count": 42,
   "metadata": {},
   "outputs": [],
   "source": [
    "from sklearn.preprocessing import MinMaxScaler\n",
    "scaler = MinMaxScaler()\n",
    "feat_scaled = pd.DataFrame(scaler.fit_transform(feat_df.astype(float)))\n",
    "feat_scaled.index = feat_df.index\n",
    "feat_scaled.columns = feat_df.columns\n",
    "\n",
    "#Seperate dataframe for target\n",
    "target_df = pd.DataFrame()\n",
    "target_df['ratings'] =  movies_shortened['vote_average']"
   ]
  },
  {
   "cell_type": "code",
   "execution_count": 43,
   "metadata": {},
   "outputs": [
    {
     "data": {
      "text/html": [
       "<div>\n",
       "<style scoped>\n",
       "    .dataframe tbody tr th:only-of-type {\n",
       "        vertical-align: middle;\n",
       "    }\n",
       "\n",
       "    .dataframe tbody tr th {\n",
       "        vertical-align: top;\n",
       "    }\n",
       "\n",
       "    .dataframe thead th {\n",
       "        text-align: right;\n",
       "    }\n",
       "</style>\n",
       "<table border=\"1\" class=\"dataframe\">\n",
       "  <thead>\n",
       "    <tr style=\"text-align: right;\">\n",
       "      <th></th>\n",
       "      <th>cast</th>\n",
       "      <th>crew</th>\n",
       "      <th>production_companies</th>\n",
       "      <th>keywords</th>\n",
       "    </tr>\n",
       "  </thead>\n",
       "  <tbody>\n",
       "    <tr>\n",
       "      <th>3458</th>\n",
       "      <td>0.619049</td>\n",
       "      <td>0.701593</td>\n",
       "      <td>0.305032</td>\n",
       "      <td>0.273883</td>\n",
       "    </tr>\n",
       "    <tr>\n",
       "      <th>2354</th>\n",
       "      <td>0.607477</td>\n",
       "      <td>0.708616</td>\n",
       "      <td>0.550889</td>\n",
       "      <td>0.591153</td>\n",
       "    </tr>\n",
       "    <tr>\n",
       "      <th>3093</th>\n",
       "      <td>0.601594</td>\n",
       "      <td>0.718649</td>\n",
       "      <td>0.406208</td>\n",
       "      <td>0.555221</td>\n",
       "    </tr>\n",
       "    <tr>\n",
       "      <th>515</th>\n",
       "      <td>0.411997</td>\n",
       "      <td>0.513276</td>\n",
       "      <td>0.408480</td>\n",
       "      <td>0.517623</td>\n",
       "    </tr>\n",
       "    <tr>\n",
       "      <th>4779</th>\n",
       "      <td>0.599423</td>\n",
       "      <td>0.885526</td>\n",
       "      <td>0.221131</td>\n",
       "      <td>0.562288</td>\n",
       "    </tr>\n",
       "    <tr>\n",
       "      <th>653</th>\n",
       "      <td>0.531513</td>\n",
       "      <td>0.387971</td>\n",
       "      <td>0.262697</td>\n",
       "      <td>0.327673</td>\n",
       "    </tr>\n",
       "    <tr>\n",
       "      <th>4534</th>\n",
       "      <td>0.838866</td>\n",
       "      <td>0.829295</td>\n",
       "      <td>0.849439</td>\n",
       "      <td>0.408123</td>\n",
       "    </tr>\n",
       "    <tr>\n",
       "      <th>755</th>\n",
       "      <td>0.542237</td>\n",
       "      <td>0.556790</td>\n",
       "      <td>0.473737</td>\n",
       "      <td>0.518133</td>\n",
       "    </tr>\n",
       "    <tr>\n",
       "      <th>1850</th>\n",
       "      <td>0.651115</td>\n",
       "      <td>0.781421</td>\n",
       "      <td>0.479952</td>\n",
       "      <td>0.692586</td>\n",
       "    </tr>\n",
       "    <tr>\n",
       "      <th>4101</th>\n",
       "      <td>0.315082</td>\n",
       "      <td>0.363272</td>\n",
       "      <td>0.238840</td>\n",
       "      <td>0.394726</td>\n",
       "    </tr>\n",
       "  </tbody>\n",
       "</table>\n",
       "</div>"
      ],
      "text/plain": [
       "          cast      crew  production_companies  keywords\n",
       "3458  0.619049  0.701593              0.305032  0.273883\n",
       "2354  0.607477  0.708616              0.550889  0.591153\n",
       "3093  0.601594  0.718649              0.406208  0.555221\n",
       "515   0.411997  0.513276              0.408480  0.517623\n",
       "4779  0.599423  0.885526              0.221131  0.562288\n",
       "653   0.531513  0.387971              0.262697  0.327673\n",
       "4534  0.838866  0.829295              0.849439  0.408123\n",
       "755   0.542237  0.556790              0.473737  0.518133\n",
       "1850  0.651115  0.781421              0.479952  0.692586\n",
       "4101  0.315082  0.363272              0.238840  0.394726"
      ]
     },
     "execution_count": 43,
     "metadata": {},
     "output_type": "execute_result"
    }
   ],
   "source": [
    "feat_scaled.sample(10)"
   ]
  },
  {
   "cell_type": "markdown",
   "metadata": {},
   "source": [
    "### Visualising Features in a Scatterplot"
   ]
  },
  {
   "cell_type": "code",
   "execution_count": 44,
   "metadata": {},
   "outputs": [
    {
     "data": {
      "text/plain": [
       "Text(0.5, 0.98, \"Corrlation between a movie's features and its rating\")"
      ]
     },
     "execution_count": 44,
     "metadata": {},
     "output_type": "execute_result"
    },
    {
     "data": {
      "image/png": "[encoded data removed]",
      "text/plain": [
       "<Figure size 1728x1440 with 4 Axes>"
      ]
     },
     "metadata": {},
     "output_type": "display_data"
    }
   ],
   "source": [
    "fig, ax = plt.subplots(2,2, figsize=(24,20))\n",
    "\n",
    "ax[0,0].scatter(target_df['ratings'], feat_scaled['cast'], facecolor='blue')\n",
    "ax[0,0].set_xlabel('rating')\n",
    "ax[0,0].set_ylabel('cast normalized')\n",
    "ax[0,0].set_title('cast')\n",
    "\n",
    "ax[1,0].scatter(target_df['ratings'], feat_scaled['crew'], facecolor='green')\n",
    "ax[1,0].set_xlabel('rating')\n",
    "ax[1,0].set_ylabel('crew normalized')\n",
    "ax[1,0].set_title('crew')\n",
    "\n",
    "ax[0,1].scatter(target_df['ratings'], feat_scaled['production_companies'], facecolor='red')\n",
    "ax[0,1].set_xlabel('rating')\n",
    "ax[0,1].set_ylabel('production companies normalized')\n",
    "ax[0,1].set_title('Production Companies')\n",
    "\n",
    "ax[1,1].scatter(target_df['ratings'], feat_scaled['keywords'], facecolor='orange')\n",
    "ax[1,1].set_xlabel('rating')\n",
    "ax[1,1].set_ylabel('keywords normalized')\n",
    "ax[1,1].set_title('keywords')\n",
    "\n",
    "fig.suptitle(\"Corrlation between a movie's features and its rating\")"
   ]
  },
  {
   "cell_type": "markdown",
   "metadata": {},
   "source": [
    "As you can see, there's a clear correlation between the features and the ratings\n",
    "The straight lines in figures for keywords and production companies represents the absence of keywords and production companies for certain movies"
   ]
  },
  {
   "cell_type": "markdown",
   "metadata": {},
   "source": [
    "### Split Data into testing and training\n",
    "Will be splitting trainting : testing : validation -> (0.7) : (0.15) : (0.15)"
   ]
  },
  {
   "cell_type": "code",
   "execution_count": 45,
   "metadata": {},
   "outputs": [],
   "source": [
    "from sklearn.model_selection import train_test_split\n",
    "def train_test_val_split(df_feat, df_target, train_frac = 0.33, val_frac = 0.33):\n",
    "    train_features, rest_features, train_target, rest_target = train_test_split(df_feat, df_target, test_size = train_frac) #splitting training from rest of the dataset\n",
    "    test_features, val_features, test_target, val_target = train_test_split(rest_features, rest_target, test_size = val_frac) #splitting rest of data into testing and validation\n",
    "    return (train_features, train_target), (test_features, test_target), (val_features, val_target)"
   ]
  },
  {
   "cell_type": "code",
   "execution_count": 46,
   "metadata": {},
   "outputs": [],
   "source": [
    "(features_train, target_train), (features_test, target_test), (features_val, target_val) = train_test_val_split(feat_scaled, target_df,0.7,0.5)"
   ]
  },
  {
   "cell_type": "code",
   "execution_count": 47,
   "metadata": {},
   "outputs": [
    {
     "name": "stdout",
     "output_type": "stream",
     "text": [
      "Test 0\n",
      "Validation 0\n",
      "Train 0\n"
     ]
    }
   ],
   "source": [
    "print('Test', len(target_test) - len(features_test))\n",
    "print('Validation',len(target_val) - len(features_val))\n",
    "print('Train', len(target_train) - len(features_train))"
   ]
  },
  {
   "cell_type": "code",
   "execution_count": 48,
   "metadata": {},
   "outputs": [
    {
     "data": {
      "text/html": [
       "<div>\n",
       "<style scoped>\n",
       "    .dataframe tbody tr th:only-of-type {\n",
       "        vertical-align: middle;\n",
       "    }\n",
       "\n",
       "    .dataframe tbody tr th {\n",
       "        vertical-align: top;\n",
       "    }\n",
       "\n",
       "    .dataframe thead th {\n",
       "        text-align: right;\n",
       "    }\n",
       "</style>\n",
       "<table border=\"1\" class=\"dataframe\">\n",
       "  <thead>\n",
       "    <tr style=\"text-align: right;\">\n",
       "      <th></th>\n",
       "      <th>ratings</th>\n",
       "    </tr>\n",
       "  </thead>\n",
       "  <tbody>\n",
       "    <tr>\n",
       "      <th>797</th>\n",
       "      <td>5.1</td>\n",
       "    </tr>\n",
       "    <tr>\n",
       "      <th>2167</th>\n",
       "      <td>7.1</td>\n",
       "    </tr>\n",
       "    <tr>\n",
       "      <th>2152</th>\n",
       "      <td>7.9</td>\n",
       "    </tr>\n",
       "    <tr>\n",
       "      <th>3187</th>\n",
       "      <td>6.1</td>\n",
       "    </tr>\n",
       "    <tr>\n",
       "      <th>3524</th>\n",
       "      <td>6.4</td>\n",
       "    </tr>\n",
       "  </tbody>\n",
       "</table>\n",
       "</div>"
      ],
      "text/plain": [
       "      ratings\n",
       "797       5.1\n",
       "2167      7.1\n",
       "2152      7.9\n",
       "3187      6.1\n",
       "3524      6.4"
      ]
     },
     "execution_count": 48,
     "metadata": {},
     "output_type": "execute_result"
    }
   ],
   "source": [
    "target_train.head()"
   ]
  },
  {
   "cell_type": "markdown",
   "metadata": {},
   "source": [
    "## Creating the model"
   ]
  },
  {
   "cell_type": "markdown",
   "metadata": {},
   "source": [
    "#### Import Sagemaker modules"
   ]
  },
  {
   "cell_type": "code",
   "execution_count": 49,
   "metadata": {},
   "outputs": [],
   "source": [
    "importimport sagemaker\n",
    "from sagemaker import get_execution_role\n",
    "from sagemaker.amazon.amazon_estimator import get_image_uri\n",
    "from sagemaker.predictor import csv_serializer"
   ]
  },
  {
   "cell_type": "markdown",
   "metadata": {},
   "source": [
    "#### Store Sagemaker variables"
   ]
  },
  {
   "cell_type": "code",
   "execution_count": 50,
   "metadata": {},
   "outputs": [],
   "source": [
    "# sagemaker session, role\n",
    "session = sagemaker.Session()\n",
    "role = sagemaker.get_execution_role()\n",
    "\n",
    "# S3 bucket name\n",
    "bucket = session.default_bucket()\n"
   ]
  },
  {
   "cell_type": "markdown",
   "metadata": {},
   "source": [
    "## Model: XGBoost with regression\n",
    "\n",
    "I will be refering to [this Udacity tutorial][xgb] on Boston housing market, which demonstrates regression using xgboost \n",
    "\n",
    "[//]: # (These are reference links used in the body of this note and get stripped out when the markdown processor does its job. There is no need to format nicely because it shouldn't be seen. Thanks SO - http://stackoverflow.com/questions/4823468/store-comments-in-markdown-syntax)\n",
    "\n",
    "\n",
    "   [xgb]: <https://github.com/udacity/sagemaker-deployment/tree/master/Tutorials>\n",
    "    "
   ]
  },
  {
   "cell_type": "markdown",
   "metadata": {},
   "source": [
    "### Upload split data to S3\n",
    "#### Save Data Locally"
   ]
  },
  {
   "cell_type": "code",
   "execution_count": 51,
   "metadata": {},
   "outputs": [],
   "source": [
    "#use local directory\n",
    "data_dir = \"./movie_data/split_data\"\n",
    "\n",
    "if not os.path.exists(data_dir):\n",
    "    os.makedirs(data_dir)"
   ]
  },
  {
   "cell_type": "code",
   "execution_count": 52,
   "metadata": {},
   "outputs": [],
   "source": [
    "features_test.to_csv(os.path.join(data_dir,'test.csv'), header = False, index = False)\n",
    "pd.concat([target_val, features_val], axis=1).to_csv(os.path.join(data_dir,'validation.csv'), header = False, index = False)\n",
    "pd.concat([target_train, features_train], axis=1).to_csv(os.path.join(data_dir,'train.csv'), header = False, index = False)"
   ]
  },
  {
   "cell_type": "markdown",
   "metadata": {},
   "source": [
    "#### Upload to S3"
   ]
  },
  {
   "cell_type": "code",
   "execution_count": 53,
   "metadata": {},
   "outputs": [],
   "source": [
    "prefix = 'movies-xgboost-capstone'\n",
    "test_location = session.upload_data(os.path.join(data_dir, 'test.csv'), key_prefix=prefix)\n",
    "val_location = session.upload_data(os.path.join(data_dir, 'validation.csv'), key_prefix=prefix)\n",
    "train_location = session.upload_data(os.path.join(data_dir, 'train.csv'), key_prefix=prefix)"
   ]
  },
  {
   "cell_type": "markdown",
   "metadata": {},
   "source": [
    "### Prepare for Training XGBoost model"
   ]
  },
  {
   "cell_type": "code",
   "execution_count": 54,
   "metadata": {},
   "outputs": [],
   "source": [
    "container = get_image_uri(session.boto_region_name, 'xgboost', '0.90-1')\n",
    "\n",
    "xgb = sagemaker.estimator.Estimator(container,\n",
    "                                    role,\n",
    "                                    train_instance_count = 1,\n",
    "                                    train_instance_type = 'ml.m4.xlarge',\n",
    "                                    output_path = 's3://{}/{}/output'.format(session.default_bucket(), prefix),\n",
    "                                    sagemaker_session = session)"
   ]
  },
  {
   "cell_type": "markdown",
   "metadata": {},
   "source": [
    "### Set hyperparameters"
   ]
  },
  {
   "cell_type": "code",
   "execution_count": 55,
   "metadata": {},
   "outputs": [],
   "source": [
    "xgb.set_hyperparameters(max_depth=5,\n",
    "                        eta=0.2,\n",
    "                        gamma=4,\n",
    "                        min_child_weight=6,\n",
    "                        subsample=0.8,\n",
    "                        objective='reg:linear',\n",
    "                        early_stopping_rounds=10,\n",
    "                        num_round=200)"
   ]
  },
  {
   "cell_type": "markdown",
   "metadata": {},
   "source": [
    "### Train"
   ]
  },
  {
   "cell_type": "code",
   "execution_count": 56,
   "metadata": {},
   "outputs": [
    {
     "name": "stdout",
     "output_type": "stream",
     "text": [
      "2019-10-29 22:22:26 Starting - Starting the training job...\n",
      "2019-10-29 22:22:28 Starting - Launching requested ML instances......\n",
      "2019-10-29 22:23:26 Starting - Preparing the instances for training......\n",
      "2019-10-29 22:24:46 Downloading - Downloading input data\n",
      "2019-10-29 22:24:46 Training - Downloading the training image...\n",
      "2019-10-29 22:25:20 Uploading - Uploading generated training model\n",
      "2019-10-29 22:25:20 Completed - Training job completed\n",
      "\u001b[31mINFO:sagemaker-containers:Imported framework sagemaker_xgboost_container.training\u001b[0m\n",
      "\u001b[31mINFO:sagemaker-containers:Failed to parse hyperparameter objective value reg:linear to Json.\u001b[0m\n",
      "\u001b[31mReturning the value itself\u001b[0m\n",
      "\u001b[31mINFO:sagemaker-containers:No GPUs detected (normal if no gpus installed)\u001b[0m\n",
      "\u001b[31mINFO:sagemaker_xgboost_container.training:Running XGBoost Sagemaker in algorithm mode\u001b[0m\n",
      "\u001b[31mINFO:root:Determined delimiter of CSV input is ','\u001b[0m\n",
      "\u001b[31mINFO:root:Determined delimiter of CSV input is ','\u001b[0m\n",
      "\u001b[31mINFO:root:Determined delimiter of CSV input is ','\u001b[0m\n",
      "\u001b[31m[22:25:11] 1419x4 matrix with 5676 entries loaded from /opt/ml/input/data/train?format=csv&label_column=0&delimiter=,\u001b[0m\n",
      "\u001b[31mINFO:root:Determined delimiter of CSV input is ','\u001b[0m\n",
      "\u001b[31m[22:25:11] 1657x4 matrix with 6628 entries loaded from /opt/ml/input/data/validation?format=csv&label_column=0&delimiter=,\u001b[0m\n",
      "\u001b[31mINFO:root:Single node training.\u001b[0m\n",
      "\u001b[31mINFO:root:Train matrix has 1419 rows\u001b[0m\n",
      "\u001b[31mINFO:root:Validation matrix has 1657 rows\u001b[0m\n",
      "\u001b[31m[22:25:11] WARNING: /workspace/src/objective/regression_obj.cu:152: reg:linear is now deprecated in favor of reg:squarederror.\u001b[0m\n",
      "\u001b[31m[0]#011train-rmse:4.61195#011validation-rmse:4.60617\u001b[0m\n",
      "\u001b[31m[1]#011train-rmse:3.70107#011validation-rmse:3.69609\u001b[0m\n",
      "\u001b[31m[2]#011train-rmse:2.97355#011validation-rmse:2.97276\u001b[0m\n",
      "\u001b[31m[3]#011train-rmse:2.39374#011validation-rmse:2.39357\u001b[0m\n",
      "\u001b[31m[4]#011train-rmse:1.93195#011validation-rmse:1.93556\u001b[0m\n",
      "\u001b[31m[5]#011train-rmse:1.56494#011validation-rmse:1.57274\u001b[0m\n",
      "\u001b[31m[6]#011train-rmse:1.2727#011validation-rmse:1.28723\u001b[0m\n",
      "\u001b[31m[7]#011train-rmse:1.0449#011validation-rmse:1.06325\u001b[0m\n",
      "\u001b[31m[8]#011train-rmse:0.865944#011validation-rmse:0.890514\u001b[0m\n",
      "\u001b[31m[9]#011train-rmse:0.726932#011validation-rmse:0.75741\u001b[0m\n",
      "\u001b[31m[10]#011train-rmse:0.620484#011validation-rmse:0.657931\u001b[0m\n",
      "\u001b[31m[11]#011train-rmse:0.541914#011validation-rmse:0.586829\u001b[0m\n",
      "\u001b[31m[12]#011train-rmse:0.482334#011validation-rmse:0.532021\u001b[0m\n",
      "\u001b[31m[13]#011train-rmse:0.44248#011validation-rmse:0.497363\u001b[0m\n",
      "\u001b[31m[14]#011train-rmse:0.41388#011validation-rmse:0.472388\u001b[0m\n",
      "\u001b[31m[15]#011train-rmse:0.394287#011validation-rmse:0.456357\u001b[0m\n",
      "\u001b[31m[16]#011train-rmse:0.380502#011validation-rmse:0.444426\u001b[0m\n",
      "\u001b[31m[17]#011train-rmse:0.371042#011validation-rmse:0.437022\u001b[0m\n",
      "\u001b[31m[18]#011train-rmse:0.365913#011validation-rmse:0.433302\u001b[0m\n",
      "\u001b[31m[19]#011train-rmse:0.362646#011validation-rmse:0.431045\u001b[0m\n",
      "\u001b[31m[20]#011train-rmse:0.360756#011validation-rmse:0.429812\u001b[0m\n",
      "\u001b[31m[21]#011train-rmse:0.359326#011validation-rmse:0.428945\u001b[0m\n",
      "\u001b[31m[22]#011train-rmse:0.358421#011validation-rmse:0.428453\u001b[0m\n",
      "\u001b[31m[23]#011train-rmse:0.352663#011validation-rmse:0.423466\u001b[0m\n",
      "\u001b[31m[24]#011train-rmse:0.352271#011validation-rmse:0.42331\u001b[0m\n",
      "\u001b[31m[25]#011train-rmse:0.352111#011validation-rmse:0.423261\u001b[0m\n",
      "\u001b[31m[26]#011train-rmse:0.351924#011validation-rmse:0.42322\u001b[0m\n",
      "\u001b[31m[27]#011train-rmse:0.351749#011validation-rmse:0.423215\u001b[0m\n",
      "\u001b[31m[28]#011train-rmse:0.35168#011validation-rmse:0.423233\u001b[0m\n",
      "\u001b[31m[29]#011train-rmse:0.351611#011validation-rmse:0.423282\u001b[0m\n",
      "\u001b[31m[30]#011train-rmse:0.351589#011validation-rmse:0.423315\u001b[0m\n",
      "\u001b[31m[31]#011train-rmse:0.351596#011validation-rmse:0.423303\u001b[0m\n",
      "\u001b[31m[32]#011train-rmse:0.351576#011validation-rmse:0.423354\u001b[0m\n",
      "\u001b[31m[33]#011train-rmse:0.351573#011validation-rmse:0.423371\u001b[0m\n",
      "\u001b[31m[34]#011train-rmse:0.35157#011validation-rmse:0.423434\u001b[0m\n",
      "\u001b[31m[35]#011train-rmse:0.351572#011validation-rmse:0.423451\u001b[0m\n",
      "\u001b[31m[36]#011train-rmse:0.351572#011validation-rmse:0.423376\u001b[0m\n",
      "\u001b[31m[37]#011train-rmse:0.35157#011validation-rmse:0.423419\u001b[0m\n",
      "Training seconds: 54\n",
      "Billable seconds: 54\n"
     ]
    }
   ],
   "source": [
    "s3_input_train = sagemaker.s3_input(s3_data=train_location, content_type='csv')\n",
    "s3_input_validation = sagemaker.s3_input(s3_data=val_location, content_type='csv')\n",
    "\n",
    "xgb.fit({'train': s3_input_train, 'validation': s3_input_validation})"
   ]
  },
  {
   "cell_type": "markdown",
   "metadata": {},
   "source": [
    "### Deploy"
   ]
  },
  {
   "cell_type": "code",
   "execution_count": 57,
   "metadata": {},
   "outputs": [
    {
     "name": "stdout",
     "output_type": "stream",
     "text": [
      "--------------------------------------------------------------------------------------!"
     ]
    }
   ],
   "source": [
    "xgb_predictor = xgb.deploy(initial_instance_count=1, instance_type='ml.m4.xlarge')"
   ]
  },
  {
   "cell_type": "markdown",
   "metadata": {},
   "source": [
    "### Evaluate Model"
   ]
  },
  {
   "cell_type": "code",
   "execution_count": 58,
   "metadata": {},
   "outputs": [],
   "source": [
    "# We need to tell the endpoint what format the data we are sending is in\n",
    "xgb_predictor.content_type = 'text/csv'\n",
    "xgb_predictor.serializer = csv_serializer\n",
    "\n",
    "target_pred = xgb_predictor.predict(features_test.values).decode('utf-8')\n",
    "# predictions is currently a comma delimited string and so we would like to break it up\n",
    "# as a numpy array.\n",
    "target_pred = np.fromstring(target_pred, sep=',')"
   ]
  },
  {
   "cell_type": "code",
   "execution_count": 61,
   "metadata": {},
   "outputs": [
    {
     "data": {
      "text/plain": [
       "Text(0.5, 1.0, 'Movie ratings vs Predicted ratings')"
      ]
     },
     "execution_count": 61,
     "metadata": {},
     "output_type": "execute_result"
    },
    {
     "data": {
      "image/png": "[encoded data removed]",
      "text/plain": [
       "<Figure size 432x288 with 1 Axes>"
      ]
     },
     "metadata": {},
     "output_type": "display_data"
    }
   ],
   "source": [
    "plt.axis([0,10,0,10])\n",
    "plt.scatter(target_test, target_pred)\n",
    "\n",
    "index_arr = [n for n in range(11)]\n",
    "plt.plot(index_arr,'r--')             \n",
    "plt.xlabel(\"Movie Ratings\")\n",
    "plt.ylabel(\"Predicted Ratings\")\n",
    "plt.title(\"Movie ratings vs Predicted ratings\")"
   ]
  },
  {
   "cell_type": "markdown",
   "metadata": {},
   "source": [
    "### R^2 Score"
   ]
  },
  {
   "cell_type": "code",
   "execution_count": 62,
   "metadata": {},
   "outputs": [
    {
     "name": "stdout",
     "output_type": "stream",
     "text": [
      "R^2 Score for predictions: 0.8056118321396382\n"
     ]
    }
   ],
   "source": [
    "from sklearn.metrics import r2_score\n",
    "\n",
    "score = r2_score(target_test, target_pred)\n",
    "\n",
    "print(\"R^2 Score for predictions:\", score)"
   ]
  },
  {
   "cell_type": "code",
   "execution_count": 63,
   "metadata": {},
   "outputs": [],
   "source": [
    "xgb_predictor.delete_endpoint()"
   ]
  },
  {
   "cell_type": "markdown",
   "metadata": {},
   "source": [
    "### Remarks\n",
    "Overall, these predictions are very good. The graph shows that the predicted to actual ratings almost follows a linear 'y = x' path. However, there could be room for improvement.\n",
    "I will implement a tuning job to see if I can improve the R2 score"
   ]
  },
  {
   "cell_type": "markdown",
   "metadata": {},
   "source": [
    "### Hyperparameter Tuning\n",
    "Tuning the hyperparameters:\n",
    "- max depth\n",
    "- eta\n",
    "- min child weight\n",
    "- subsample\n",
    "- gamma"
   ]
  },
  {
   "cell_type": "code",
   "execution_count": 64,
   "metadata": {},
   "outputs": [],
   "source": [
    "from sagemaker.tuner import IntegerParameter, ContinuousParameter, HyperparameterTuner\n",
    "\n",
    "xgb_hyperparameter_tuner = HyperparameterTuner(estimator = xgb,\n",
    "                                               objective_metric_name = 'validation:rmse', #looking at validation root mean square error in among training jobs\n",
    "                                               objective_type = 'Minimize', #find training job with minimal rmse\n",
    "                                               max_jobs = 20, # The total number of models to train\n",
    "                                               max_parallel_jobs = 3, # The number of models to train in parallel\n",
    "                                               hyperparameter_ranges = { #hyperparameters to tune\n",
    "                                                    'max_depth': IntegerParameter(3, 12),\n",
    "                                                    'eta'      : ContinuousParameter(0.05, 0.6),\n",
    "                                                    'min_child_weight': IntegerParameter(1, 9),\n",
    "                                                    'subsample': ContinuousParameter(0.5, 0.9),\n",
    "                                                    'gamma': ContinuousParameter(0, 10),\n",
    "                                               })"
   ]
  },
  {
   "cell_type": "code",
   "execution_count": 65,
   "metadata": {},
   "outputs": [],
   "source": [
    "xgb_hyperparameter_tuner.fit({'train': s3_input_train, 'validation': s3_input_validation})"
   ]
  },
  {
   "cell_type": "code",
   "execution_count": 66,
   "metadata": {},
   "outputs": [
    {
     "name": "stdout",
     "output_type": "stream",
     "text": [
      ".......................................................................................................................................................................................................................................................................................!\n"
     ]
    }
   ],
   "source": [
    "xgb_hyperparameter_tuner.wait()"
   ]
  },
  {
   "cell_type": "code",
   "execution_count": 67,
   "metadata": {},
   "outputs": [
    {
     "name": "stdout",
     "output_type": "stream",
     "text": [
      "2019-10-29 22:56:39 Starting - Preparing the instances for training\n",
      "2019-10-29 22:56:39 Downloading - Downloading input data\n",
      "2019-10-29 22:56:39 Training - Training image download completed. Training in progress.\n",
      "2019-10-29 22:56:39 Uploading - Uploading generated training model\n",
      "2019-10-29 22:56:39 Completed - Training job completed\u001b[31mINFO:sagemaker-containers:Imported framework sagemaker_xgboost_container.training\u001b[0m\n",
      "\u001b[31mINFO:sagemaker-containers:Failed to parse hyperparameter _tuning_objective_metric value validation:rmse to Json.\u001b[0m\n",
      "\u001b[31mReturning the value itself\u001b[0m\n",
      "\u001b[31mINFO:sagemaker-containers:Failed to parse hyperparameter objective value reg:linear to Json.\u001b[0m\n",
      "\u001b[31mReturning the value itself\u001b[0m\n",
      "\u001b[31mINFO:sagemaker-containers:No GPUs detected (normal if no gpus installed)\u001b[0m\n",
      "\u001b[31mINFO:sagemaker_xgboost_container.training:Running XGBoost Sagemaker in algorithm mode\u001b[0m\n",
      "\u001b[31mINFO:root:Determined delimiter of CSV input is ','\u001b[0m\n",
      "\u001b[31mINFO:root:Determined delimiter of CSV input is ','\u001b[0m\n",
      "\u001b[31mINFO:root:Determined delimiter of CSV input is ','\u001b[0m\n",
      "\u001b[31m[22:56:28] 1419x4 matrix with 5676 entries loaded from /opt/ml/input/data/train?format=csv&label_column=0&delimiter=,\u001b[0m\n",
      "\u001b[31mINFO:root:Determined delimiter of CSV input is ','\u001b[0m\n",
      "\u001b[31m[22:56:28] 1657x4 matrix with 6628 entries loaded from /opt/ml/input/data/validation?format=csv&label_column=0&delimiter=,\u001b[0m\n",
      "\u001b[31mINFO:root:Single node training.\u001b[0m\n",
      "\u001b[31mINFO:root:Setting up HPO optimized metric to be : rmse\u001b[0m\n",
      "\u001b[31mINFO:root:Train matrix has 1419 rows\u001b[0m\n",
      "\u001b[31mINFO:root:Validation matrix has 1657 rows\u001b[0m\n",
      "\u001b[31m[22:56:28] WARNING: /workspace/src/objective/regression_obj.cu:152: reg:linear is now deprecated in favor of reg:squarederror.\u001b[0m\n",
      "\u001b[31m[0]#011train-rmse:5.35821#011validation-rmse:5.35295\u001b[0m\n",
      "\u001b[31m[1]#011train-rmse:4.99498#011validation-rmse:4.98972\u001b[0m\n",
      "\u001b[31m[2]#011train-rmse:4.65677#011validation-rmse:4.65218\u001b[0m\n",
      "\u001b[31m[3]#011train-rmse:4.34221#011validation-rmse:4.33797\u001b[0m\n",
      "\u001b[31m[4]#011train-rmse:4.04919#011validation-rmse:4.04592\u001b[0m\n",
      "\u001b[31m[5]#011train-rmse:3.7761#011validation-rmse:3.77389\u001b[0m\n",
      "\u001b[31m[6]#011train-rmse:3.52208#011validation-rmse:3.5198\u001b[0m\n",
      "\u001b[31m[7]#011train-rmse:3.28622#011validation-rmse:3.28461\u001b[0m\n",
      "\u001b[31m[8]#011train-rmse:3.0663#011validation-rmse:3.06633\u001b[0m\n",
      "\u001b[31m[9]#011train-rmse:2.86102#011validation-rmse:2.86178\u001b[0m\n",
      "\u001b[31m[10]#011train-rmse:2.66962#011validation-rmse:2.67148\u001b[0m\n",
      "\u001b[31m[11]#011train-rmse:2.49235#011validation-rmse:2.49472\u001b[0m\n",
      "\u001b[31m[12]#011train-rmse:2.32603#011validation-rmse:2.32938\u001b[0m\n",
      "\u001b[31m[13]#011train-rmse:2.17201#011validation-rmse:2.17666\u001b[0m\n",
      "\u001b[31m[14]#011train-rmse:2.02874#011validation-rmse:2.03399\u001b[0m\n",
      "\u001b[31m[15]#011train-rmse:1.89543#011validation-rmse:1.90169\u001b[0m\n",
      "\u001b[31m[16]#011train-rmse:1.77078#011validation-rmse:1.77892\u001b[0m\n",
      "\u001b[31m[17]#011train-rmse:1.65498#011validation-rmse:1.66377\u001b[0m\n",
      "\u001b[31m[18]#011train-rmse:1.54763#011validation-rmse:1.55808\u001b[0m\n",
      "\u001b[31m[19]#011train-rmse:1.44814#011validation-rmse:1.46033\u001b[0m\n",
      "\u001b[31m[20]#011train-rmse:1.35603#011validation-rmse:1.36949\u001b[0m\n",
      "\u001b[31m[21]#011train-rmse:1.26983#011validation-rmse:1.28465\u001b[0m\n",
      "\u001b[31m[22]#011train-rmse:1.18953#011validation-rmse:1.20661\u001b[0m\n",
      "\u001b[31m[23]#011train-rmse:1.11579#011validation-rmse:1.13435\u001b[0m\n",
      "\u001b[31m[24]#011train-rmse:1.04689#011validation-rmse:1.06706\u001b[0m\n",
      "\u001b[31m[25]#011train-rmse:0.983788#011validation-rmse:1.00571\u001b[0m\n",
      "\u001b[31m[26]#011train-rmse:0.924804#011validation-rmse:0.948974\u001b[0m\n",
      "\u001b[31m[27]#011train-rmse:0.870145#011validation-rmse:0.896503\u001b[0m\n",
      "\u001b[31m[28]#011train-rmse:0.819761#011validation-rmse:0.848163\u001b[0m\n",
      "\u001b[31m[29]#011train-rmse:0.773074#011validation-rmse:0.803679\u001b[0m\n",
      "\u001b[31m[30]#011train-rmse:0.729609#011validation-rmse:0.762426\u001b[0m\n",
      "\u001b[31m[31]#011train-rmse:0.690605#011validation-rmse:0.726197\u001b[0m\n",
      "\u001b[31m[32]#011train-rmse:0.653593#011validation-rmse:0.692176\u001b[0m\n",
      "\u001b[31m[33]#011train-rmse:0.619865#011validation-rmse:0.661087\u001b[0m\n",
      "\u001b[31m[34]#011train-rmse:0.588978#011validation-rmse:0.633222\u001b[0m\n",
      "\u001b[31m[35]#011train-rmse:0.561081#011validation-rmse:0.608084\u001b[0m\n",
      "\u001b[31m[36]#011train-rmse:0.535191#011validation-rmse:0.585718\u001b[0m\n",
      "\u001b[31m[37]#011train-rmse:0.511626#011validation-rmse:0.565312\u001b[0m\n",
      "\u001b[31m[38]#011train-rmse:0.489704#011validation-rmse:0.54659\u001b[0m\n",
      "\u001b[31m[39]#011train-rmse:0.469341#011validation-rmse:0.530389\u001b[0m\n",
      "\u001b[31m[40]#011train-rmse:0.451615#011validation-rmse:0.515618\u001b[0m\n",
      "\u001b[31m[41]#011train-rmse:0.435818#011validation-rmse:0.501994\u001b[0m\n",
      "\u001b[31m[42]#011train-rmse:0.421466#011validation-rmse:0.489968\u001b[0m\n",
      "\u001b[31m[43]#011train-rmse:0.408812#011validation-rmse:0.479705\u001b[0m\n",
      "\u001b[31m[44]#011train-rmse:0.396352#011validation-rmse:0.469851\u001b[0m\n",
      "\u001b[31m[45]#011train-rmse:0.385651#011validation-rmse:0.461266\u001b[0m\n",
      "\u001b[31m[46]#011train-rmse:0.376089#011validation-rmse:0.45353\u001b[0m\n",
      "\u001b[31m[47]#011train-rmse:0.367943#011validation-rmse:0.446964\u001b[0m\n",
      "\u001b[31m[48]#011train-rmse:0.360188#011validation-rmse:0.441347\u001b[0m\n",
      "\u001b[31m[49]#011train-rmse:0.354201#011validation-rmse:0.436666\u001b[0m\n",
      "\u001b[31m[50]#011train-rmse:0.348888#011validation-rmse:0.432565\u001b[0m\n",
      "\u001b[31m[51]#011train-rmse:0.343894#011validation-rmse:0.428692\u001b[0m\n",
      "\u001b[31m[52]#011train-rmse:0.338562#011validation-rmse:0.425112\u001b[0m\n",
      "\u001b[31m[53]#011train-rmse:0.334773#011validation-rmse:0.422143\u001b[0m\n",
      "\u001b[31m[54]#011train-rmse:0.330355#011validation-rmse:0.419418\u001b[0m\n",
      "\u001b[31m[55]#011train-rmse:0.326634#011validation-rmse:0.416763\u001b[0m\n",
      "\u001b[31m[56]#011train-rmse:0.323887#011validation-rmse:0.41479\u001b[0m\n",
      "\u001b[31m[57]#011train-rmse:0.321585#011validation-rmse:0.413174\u001b[0m\n",
      "\u001b[31m[58]#011train-rmse:0.319175#011validation-rmse:0.411597\u001b[0m\n",
      "\u001b[31m[59]#011train-rmse:0.317415#011validation-rmse:0.410157\u001b[0m\n",
      "\u001b[31m[60]#011train-rmse:0.314868#011validation-rmse:0.408956\u001b[0m\n",
      "\u001b[31m[61]#011train-rmse:0.313423#011validation-rmse:0.408028\u001b[0m\n",
      "\u001b[31m[62]#011train-rmse:0.311252#011validation-rmse:0.406713\u001b[0m\n",
      "\u001b[31m[63]#011train-rmse:0.309958#011validation-rmse:0.405929\u001b[0m\n",
      "\u001b[31m[64]#011train-rmse:0.308327#011validation-rmse:0.40547\u001b[0m\n",
      "\u001b[31m[65]#011train-rmse:0.307138#011validation-rmse:0.40484\u001b[0m\n",
      "\u001b[31m[66]#011train-rmse:0.306242#011validation-rmse:0.404313\u001b[0m\n",
      "\u001b[31m[67]#011train-rmse:0.305699#011validation-rmse:0.403983\u001b[0m\n",
      "\u001b[31m[68]#011train-rmse:0.305207#011validation-rmse:0.40369\u001b[0m\n",
      "\u001b[31m[69]#011train-rmse:0.304787#011validation-rmse:0.403445\u001b[0m\n",
      "\u001b[31m[70]#011train-rmse:0.304454#011validation-rmse:0.403255\u001b[0m\n",
      "\u001b[31m[71]#011train-rmse:0.30362#011validation-rmse:0.403021\u001b[0m\n",
      "\u001b[31m[72]#011train-rmse:0.302417#011validation-rmse:0.402839\u001b[0m\n",
      "\u001b[31m[73]#011train-rmse:0.302165#011validation-rmse:0.402706\u001b[0m\n",
      "\u001b[31m[74]#011train-rmse:0.301516#011validation-rmse:0.402256\u001b[0m\n",
      "\u001b[31m[75]#011train-rmse:0.301338#011validation-rmse:0.402169\u001b[0m\n",
      "\u001b[31m[76]#011train-rmse:0.300197#011validation-rmse:0.402185\u001b[0m\n",
      "\u001b[31m[77]#011train-rmse:0.300055#011validation-rmse:0.40212\u001b[0m\n",
      "\u001b[31m[78]#011train-rmse:0.299621#011validation-rmse:0.402011\u001b[0m\n",
      "\u001b[31m[79]#011train-rmse:0.29953#011validation-rmse:0.401973\u001b[0m\n",
      "\u001b[31m[80]#011train-rmse:0.299435#011validation-rmse:0.401936\u001b[0m\n",
      "\u001b[31m[81]#011train-rmse:0.299371#011validation-rmse:0.401913\u001b[0m\n",
      "\u001b[31m[82]#011train-rmse:0.299333#011validation-rmse:0.401901\u001b[0m\n",
      "\u001b[31m[83]#011train-rmse:0.298724#011validation-rmse:0.40168\u001b[0m\n",
      "\u001b[31m[84]#011train-rmse:0.298105#011validation-rmse:0.401371\u001b[0m\n",
      "\u001b[31m[85]#011train-rmse:0.297468#011validation-rmse:0.401481\u001b[0m\n",
      "\u001b[31m[86]#011train-rmse:0.297414#011validation-rmse:0.40147\u001b[0m\n",
      "\u001b[31m[87]#011train-rmse:0.297368#011validation-rmse:0.401463\u001b[0m\n",
      "\u001b[31m[88]#011train-rmse:0.296822#011validation-rmse:0.401062\u001b[0m\n",
      "\u001b[31m[89]#011train-rmse:0.296802#011validation-rmse:0.401061\u001b[0m\n",
      "\u001b[31m[90]#011train-rmse:0.296784#011validation-rmse:0.401062\u001b[0m\n",
      "\u001b[31m[91]#011train-rmse:0.296777#011validation-rmse:0.401063\u001b[0m\n",
      "\u001b[31m[92]#011train-rmse:0.29677#011validation-rmse:0.401064\u001b[0m\n",
      "\u001b[31m[93]#011train-rmse:0.296161#011validation-rmse:0.400993\u001b[0m\n",
      "\u001b[31m[94]#011train-rmse:0.295195#011validation-rmse:0.400727\u001b[0m\n",
      "\u001b[31m[95]#011train-rmse:0.295182#011validation-rmse:0.400732\u001b[0m\n",
      "\u001b[31m[96]#011train-rmse:0.29518#011validation-rmse:0.400732\u001b[0m\n",
      "\u001b[31m[97]#011train-rmse:0.294713#011validation-rmse:0.400506\u001b[0m\n",
      "\u001b[31m[98]#011train-rmse:0.294702#011validation-rmse:0.400511\u001b[0m\n",
      "\u001b[31m[99]#011train-rmse:0.294704#011validation-rmse:0.40051\u001b[0m\n",
      "\u001b[31m[100]#011train-rmse:0.294707#011validation-rmse:0.400509\u001b[0m\n",
      "\u001b[31m[101]#011train-rmse:0.294706#011validation-rmse:0.400509\u001b[0m\n",
      "\u001b[31m[102]#011train-rmse:0.294054#011validation-rmse:0.400506\u001b[0m\n",
      "\u001b[31m[103]#011train-rmse:0.294047#011validation-rmse:0.400509\u001b[0m\n",
      "\u001b[31m[104]#011train-rmse:0.294037#011validation-rmse:0.400515\u001b[0m\n",
      "\u001b[31m[105]#011train-rmse:0.294032#011validation-rmse:0.400519\u001b[0m\n",
      "\u001b[31m[106]#011train-rmse:0.294027#011validation-rmse:0.400523\u001b[0m\n",
      "\u001b[31m[107]#011train-rmse:0.29341#011validation-rmse:0.400583\u001b[0m\n",
      "Training seconds: 56\n",
      "Billable seconds: 56\n",
      "-------------------------------------------------------------------------------------!"
     ]
    }
   ],
   "source": [
    "xgb_predictor_tuned = xgb_hyperparameter_tuner.deploy(initial_instance_count=1, instance_type='ml.m4.xlarge')"
   ]
  },
  {
   "cell_type": "code",
   "execution_count": 68,
   "metadata": {},
   "outputs": [],
   "source": [
    "# We need to tell the endpoint what format the data we are sending is in\n",
    "xgb_predictor_tuned.content_type = 'text/csv'\n",
    "xgb_predictor_tuned.serializer = csv_serializer\n",
    "\n",
    "target_pred = xgb_predictor_tuned.predict(features_test.values).decode('utf-8')\n",
    "# predictions is currently a comma delimited string and so we would like to break it up\n",
    "# as a numpy array.\n",
    "target_pred = np.fromstring(target_pred, sep=',')"
   ]
  },
  {
   "cell_type": "code",
   "execution_count": 69,
   "metadata": {},
   "outputs": [
    {
     "data": {
      "text/plain": [
       "Text(0.5, 1.0, 'Movie ratings vs Predicted ratings after Tuning')"
      ]
     },
     "execution_count": 69,
     "metadata": {},
     "output_type": "execute_result"
    },
    {
     "data": {
      "image/png": "[encoded data removed]",
      "text/plain": [
       "<Figure size 432x288 with 1 Axes>"
      ]
     },
     "metadata": {},
     "output_type": "display_data"
    }
   ],
   "source": [
    "plt.axis([0,10,0,10])\n",
    "plt.scatter(target_test, target_pred)\n",
    "\n",
    "index_arr = [n for n in range(11)] #for plotting y = x\n",
    "plt.plot(index_arr,'r--')             \n",
    "plt.xlabel(\"Movie Ratings\")\n",
    "plt.ylabel(\"Predicted Ratings\")\n",
    "plt.title(\"Movie ratings vs Predicted ratings after Tuning\")"
   ]
  },
  {
   "cell_type": "code",
   "execution_count": 70,
   "metadata": {},
   "outputs": [
    {
     "name": "stdout",
     "output_type": "stream",
     "text": [
      "R^2 Score for predictions: 0.8297857624646012\n"
     ]
    }
   ],
   "source": [
    "score = r2_score(target_test, target_pred)\n",
    "print(\"R^2 Score for predictions:\", score)"
   ]
  },
  {
   "cell_type": "code",
   "execution_count": 71,
   "metadata": {},
   "outputs": [],
   "source": [
    "xgb_predictor_tuned.delete_endpoint()"
   ]
  },
  {
   "cell_type": "markdown",
   "metadata": {},
   "source": [
    "## Conclusion\n",
    "The resultant R^2 much better than expected. As an R^2 score is described, approximately 82.98% of the variance in the dependent variable (ratings) can be explained by the independent variables (cast, crew, production companies, and keywords). This shows that machine learning is a viable way of predicting the score of a movie in the tmdb database.\n",
    "\n",
    "In relation to the benchmark model, an accuracy of 0.83 is comparable to the prediction accuracy with 10 movies in the benchmark, which was around 0.87. But as noted previously, the accuracy score in the benchmark model is not representative of the entire dataset; applying cosine similarity to 4000+ movies will take too much time to be productive.\n"
   ]
  },
  {
   "cell_type": "code",
   "execution_count": null,
   "metadata": {},
   "outputs": [],
   "source": []
  }
 ],
 "metadata": {
  "kernelspec": {
   "display_name": "conda_amazonei_mxnet_p36",
   "language": "python",
   "name": "conda_amazonei_mxnet_p36"
  },
  "language_info": {
   "codemirror_mode": {
    "name": "ipython",
    "version": 3
   },
   "file_extension": ".py",
   "mimetype": "text/x-python",
   "name": "python",
   "nbconvert_exporter": "python",
   "pygments_lexer": "ipython3",
   "version": "3.6.5"
  }
 },
 "nbformat": 4,
 "nbformat_minor": 4
}
