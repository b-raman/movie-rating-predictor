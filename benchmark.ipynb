{
 "cells": [
  {
   "cell_type": "markdown",
   "metadata": {
    "_cell_guid": "e284ce80-07f9-49ac-a2a9-a827acb11921",
    "_uuid": "03df6d4fce7df442a78339d2e3cb8037caadba3e"
   },
   "source": [
    "## TMDB Score Prediction and Movie Recommendation\n",
    "\n",
    "![](https://midasmedia.co.uk//media/2014/03/quality-score-grades-1-10.png)\n",
    "\n",
    "This notebook will be completely different from my previous notebooks which were completely EDA's(my favorite :p). In this notebook I will try to predict the TMDB score for a movie. Initially I was planning to do EDA with this dataset, but one of my friend and fellow Kaggler **[Mhamed Jabri](https://www.kaggle.com/mhajabri/)** recommended me to do and try something  different, and I would like to thank him a lot as it helped me learn new things.\n",
    "\n",
    "Coming to the dataset, it has informatio about 5000 movies, split into 2 csv files.\n",
    "\n",
    " - ** *tmdb_5000_movies.csv:* ** Contains information like the **score,title,date_of_release,genres,etc.**\n",
    "\n",
    " - ** *tmdb_5000_credits.csv:* ** Contains information of the **cast and crew** for each movie.\n",
    "\n",
    "The main problem with this dataset is the **.json format**. Many columns in the dataset are in json format, therefore cleaning the dataset was the main challenge. For people who don't know about JSON(JavaScript Object Notation), it is basically a syntax for storing and exchanging data between two computers. It is mainly in a **key:value** format, and is embedded into a string. \n",
    "\n",
    "In this notebook, I will try to predict the score or the rating of a movie. We know that the score of a movie depends on various factors like the genre, or the actor working in the film and mainly the director of the film. Considering all such factors, I will try to build a simple score predictor for this dataset. \n",
    "\n",
    "I hope this notebook helps other fellow kagglers in learning something new. **Do Upvote** is you find this notebook useful."
   ]
  },
  {
   "cell_type": "markdown",
   "metadata": {
    "_cell_guid": "f518dccb-7c1b-4079-9cfe-5c8a5fcc70d1",
    "_uuid": "de4c2e0d4cd234693d187c639815a0ad0dcd7be5"
   },
   "source": [
    "### Import Required Packges"
   ]
  },
  {
   "cell_type": "code",
   "execution_count": 1,
   "metadata": {
    "_cell_guid": "2d1368e1-5ee9-4efa-9935-28c9353334f0",
    "_uuid": "201f4339878a6da1a57e03066a4b30ec97999b3e"
   },
   "outputs": [],
   "source": [
    "import pandas as pd\n",
    "import matplotlib.pyplot as plt\n",
    "plt.style.use('fivethirtyeight')\n",
    "import seaborn as sns\n",
    "import numpy as np\n",
    "import json\n",
    "import warnings\n",
    "warnings.filterwarnings('ignore')\n",
    "import base64\n",
    "import io\n",
    "from scipy.misc import imread\n",
    "import codecs\n",
    "from IPython.display import HTML"
   ]
  },
  {
   "cell_type": "markdown",
   "metadata": {
    "_cell_guid": "3b149700-d1a2-4c42-9416-5ebda07d3a03",
    "_uuid": "633161ad9ac95c912d4cb17e9ece8ac2fee83a84"
   },
   "source": [
    "### Importing the Data\n",
    "Bharat Edit: Changed filepath to work with my path"
   ]
  },
  {
   "cell_type": "code",
   "execution_count": 2,
   "metadata": {
    "_cell_guid": "c06201e9-d097-4a2c-92cc-1b8b209e4922",
    "_uuid": "22e21522f7fd0584c45d069810e66374c1187f00"
   },
   "outputs": [],
   "source": [
    "movies=pd.read_csv('./movie_data/tmdb_5000_movies.csv')\n",
    "mov=pd.read_csv('./movie_data/tmdb_5000_credits.csv')"
   ]
  },
  {
   "cell_type": "code",
   "execution_count": 3,
   "metadata": {
    "_cell_guid": "359b1c97-001c-4705-adac-b95de27f31f0",
    "_uuid": "ea4cb23d21e29855da99ff32cb19871350758f8e"
   },
   "outputs": [
    {
     "data": {
      "text/html": [
       "<div>\n",
       "<style scoped>\n",
       "    .dataframe tbody tr th:only-of-type {\n",
       "        vertical-align: middle;\n",
       "    }\n",
       "\n",
       "    .dataframe tbody tr th {\n",
       "        vertical-align: top;\n",
       "    }\n",
       "\n",
       "    .dataframe thead th {\n",
       "        text-align: right;\n",
       "    }\n",
       "</style>\n",
       "<table border=\"1\" class=\"dataframe\">\n",
       "  <thead>\n",
       "    <tr style=\"text-align: right;\">\n",
       "      <th></th>\n",
       "      <th>budget</th>\n",
       "      <th>genres</th>\n",
       "      <th>homepage</th>\n",
       "      <th>id</th>\n",
       "      <th>keywords</th>\n",
       "      <th>original_language</th>\n",
       "      <th>original_title</th>\n",
       "      <th>overview</th>\n",
       "      <th>popularity</th>\n",
       "      <th>production_companies</th>\n",
       "      <th>production_countries</th>\n",
       "      <th>release_date</th>\n",
       "      <th>revenue</th>\n",
       "      <th>runtime</th>\n",
       "      <th>spoken_languages</th>\n",
       "      <th>status</th>\n",
       "      <th>tagline</th>\n",
       "      <th>title</th>\n",
       "      <th>vote_average</th>\n",
       "      <th>vote_count</th>\n",
       "    </tr>\n",
       "  </thead>\n",
       "  <tbody>\n",
       "    <tr>\n",
       "      <th>0</th>\n",
       "      <td>237000000</td>\n",
       "      <td>[{\"id\": 28, \"name\": \"Action\"}, {\"id\": 12, \"nam...</td>\n",
       "      <td>http://www.avatarmovie.com/</td>\n",
       "      <td>19995</td>\n",
       "      <td>[{\"id\": 1463, \"name\": \"culture clash\"}, {\"id\":...</td>\n",
       "      <td>en</td>\n",
       "      <td>Avatar</td>\n",
       "      <td>In the 22nd century, a paraplegic Marine is di...</td>\n",
       "      <td>150.437577</td>\n",
       "      <td>[{\"name\": \"Ingenious Film Partners\", \"id\": 289...</td>\n",
       "      <td>[{\"iso_3166_1\": \"US\", \"name\": \"United States o...</td>\n",
       "      <td>2009-12-10</td>\n",
       "      <td>2787965087</td>\n",
       "      <td>162.0</td>\n",
       "      <td>[{\"iso_639_1\": \"en\", \"name\": \"English\"}, {\"iso...</td>\n",
       "      <td>Released</td>\n",
       "      <td>Enter the World of Pandora.</td>\n",
       "      <td>Avatar</td>\n",
       "      <td>7.2</td>\n",
       "      <td>11800</td>\n",
       "    </tr>\n",
       "    <tr>\n",
       "      <th>1</th>\n",
       "      <td>300000000</td>\n",
       "      <td>[{\"id\": 12, \"name\": \"Adventure\"}, {\"id\": 14, \"...</td>\n",
       "      <td>http://disney.go.com/disneypictures/pirates/</td>\n",
       "      <td>285</td>\n",
       "      <td>[{\"id\": 270, \"name\": \"ocean\"}, {\"id\": 726, \"na...</td>\n",
       "      <td>en</td>\n",
       "      <td>Pirates of the Caribbean: At World's End</td>\n",
       "      <td>Captain Barbossa, long believed to be dead, ha...</td>\n",
       "      <td>139.082615</td>\n",
       "      <td>[{\"name\": \"Walt Disney Pictures\", \"id\": 2}, {\"...</td>\n",
       "      <td>[{\"iso_3166_1\": \"US\", \"name\": \"United States o...</td>\n",
       "      <td>2007-05-19</td>\n",
       "      <td>961000000</td>\n",
       "      <td>169.0</td>\n",
       "      <td>[{\"iso_639_1\": \"en\", \"name\": \"English\"}]</td>\n",
       "      <td>Released</td>\n",
       "      <td>At the end of the world, the adventure begins.</td>\n",
       "      <td>Pirates of the Caribbean: At World's End</td>\n",
       "      <td>6.9</td>\n",
       "      <td>4500</td>\n",
       "    </tr>\n",
       "    <tr>\n",
       "      <th>2</th>\n",
       "      <td>245000000</td>\n",
       "      <td>[{\"id\": 28, \"name\": \"Action\"}, {\"id\": 12, \"nam...</td>\n",
       "      <td>http://www.sonypictures.com/movies/spectre/</td>\n",
       "      <td>206647</td>\n",
       "      <td>[{\"id\": 470, \"name\": \"spy\"}, {\"id\": 818, \"name...</td>\n",
       "      <td>en</td>\n",
       "      <td>Spectre</td>\n",
       "      <td>A cryptic message from Bond’s past sends him o...</td>\n",
       "      <td>107.376788</td>\n",
       "      <td>[{\"name\": \"Columbia Pictures\", \"id\": 5}, {\"nam...</td>\n",
       "      <td>[{\"iso_3166_1\": \"GB\", \"name\": \"United Kingdom\"...</td>\n",
       "      <td>2015-10-26</td>\n",
       "      <td>880674609</td>\n",
       "      <td>148.0</td>\n",
       "      <td>[{\"iso_639_1\": \"fr\", \"name\": \"Fran\\u00e7ais\"},...</td>\n",
       "      <td>Released</td>\n",
       "      <td>A Plan No One Escapes</td>\n",
       "      <td>Spectre</td>\n",
       "      <td>6.3</td>\n",
       "      <td>4466</td>\n",
       "    </tr>\n",
       "  </tbody>\n",
       "</table>\n",
       "</div>"
      ],
      "text/plain": [
       "      budget                                             genres  \\\n",
       "0  237000000  [{\"id\": 28, \"name\": \"Action\"}, {\"id\": 12, \"nam...   \n",
       "1  300000000  [{\"id\": 12, \"name\": \"Adventure\"}, {\"id\": 14, \"...   \n",
       "2  245000000  [{\"id\": 28, \"name\": \"Action\"}, {\"id\": 12, \"nam...   \n",
       "\n",
       "                                       homepage      id  \\\n",
       "0                   http://www.avatarmovie.com/   19995   \n",
       "1  http://disney.go.com/disneypictures/pirates/     285   \n",
       "2   http://www.sonypictures.com/movies/spectre/  206647   \n",
       "\n",
       "                                            keywords original_language  \\\n",
       "0  [{\"id\": 1463, \"name\": \"culture clash\"}, {\"id\":...                en   \n",
       "1  [{\"id\": 270, \"name\": \"ocean\"}, {\"id\": 726, \"na...                en   \n",
       "2  [{\"id\": 470, \"name\": \"spy\"}, {\"id\": 818, \"name...                en   \n",
       "\n",
       "                             original_title  \\\n",
       "0                                    Avatar   \n",
       "1  Pirates of the Caribbean: At World's End   \n",
       "2                                   Spectre   \n",
       "\n",
       "                                            overview  popularity  \\\n",
       "0  In the 22nd century, a paraplegic Marine is di...  150.437577   \n",
       "1  Captain Barbossa, long believed to be dead, ha...  139.082615   \n",
       "2  A cryptic message from Bond’s past sends him o...  107.376788   \n",
       "\n",
       "                                production_companies  \\\n",
       "0  [{\"name\": \"Ingenious Film Partners\", \"id\": 289...   \n",
       "1  [{\"name\": \"Walt Disney Pictures\", \"id\": 2}, {\"...   \n",
       "2  [{\"name\": \"Columbia Pictures\", \"id\": 5}, {\"nam...   \n",
       "\n",
       "                                production_countries release_date     revenue  \\\n",
       "0  [{\"iso_3166_1\": \"US\", \"name\": \"United States o...   2009-12-10  2787965087   \n",
       "1  [{\"iso_3166_1\": \"US\", \"name\": \"United States o...   2007-05-19   961000000   \n",
       "2  [{\"iso_3166_1\": \"GB\", \"name\": \"United Kingdom\"...   2015-10-26   880674609   \n",
       "\n",
       "   runtime                                   spoken_languages    status  \\\n",
       "0    162.0  [{\"iso_639_1\": \"en\", \"name\": \"English\"}, {\"iso...  Released   \n",
       "1    169.0           [{\"iso_639_1\": \"en\", \"name\": \"English\"}]  Released   \n",
       "2    148.0  [{\"iso_639_1\": \"fr\", \"name\": \"Fran\\u00e7ais\"},...  Released   \n",
       "\n",
       "                                          tagline  \\\n",
       "0                     Enter the World of Pandora.   \n",
       "1  At the end of the world, the adventure begins.   \n",
       "2                           A Plan No One Escapes   \n",
       "\n",
       "                                      title  vote_average  vote_count  \n",
       "0                                    Avatar           7.2       11800  \n",
       "1  Pirates of the Caribbean: At World's End           6.9        4500  \n",
       "2                                   Spectre           6.3        4466  "
      ]
     },
     "execution_count": 3,
     "metadata": {},
     "output_type": "execute_result"
    }
   ],
   "source": [
    "movies.head(3)"
   ]
  },
  {
   "cell_type": "markdown",
   "metadata": {
    "_cell_guid": "4c057026-efb5-425d-888f-b2092d128450",
    "_uuid": "3ab48cdfa52cd82925ce322d5b73cd611bfbd6d2"
   },
   "source": [
    "Checking the dataset, we can see that **genres,keywords,production_companies,production_countries,spoken_languages** are in the json format. Similarly in the other csv file, **cast and crew** are in the json format. Now lets convert these columns into a format that can be easily read and interpreted. We will convert them into strings and later convert them into lists for easier interpretation. \n",
    "\n",
    "As stated earlier ,the JSON format is like a **dictionary(key:value)** pair embedded in a string. Now parsing the data is a pain and time consuming. Luckily this dataset doesn't have that complicated structure. A basic similarity between the columns is that they have a **name** key, which contains the values that we need to collect. The easiest way to do so parse through the JSON and check for the name key on each row. Once the name key is found, store the value of it into a list and replace the JSON with the list.\n",
    "\n",
    "But we cannot directly parse this JSON as it has to decoded first. For this we use the **json.loads()** method, which decodes it into a list. We can then parse through this list to find the desired values. Lets look at the proper syntax below."
   ]
  },
  {
   "cell_type": "markdown",
   "metadata": {
    "_cell_guid": "2dae8501-a8a8-4036-b499-c0e2f6e9e445",
    "_uuid": "19b28e48fed7c284d7448d7b050c5f59e82ab269"
   },
   "source": [
    "#### Converting the json into strings"
   ]
  },
  {
   "cell_type": "code",
   "execution_count": 4,
   "metadata": {
    "_cell_guid": "9e2c86c2-d185-41a4-aeee-7a4aa8e70543",
    "_uuid": "f3a23866f4fb0bf7c47615bec470988c73805ce3"
   },
   "outputs": [],
   "source": [
    "# changing the genres column from json to string\n",
    "movies['genres']=movies['genres'].apply(json.loads)\n",
    "for index,i in zip(movies.index,movies['genres']):\n",
    "    list1=[]\n",
    "    for j in range(len(i)):\n",
    "        list1.append((i[j]['name']))# the key 'name' contains the name of the genre\n",
    "    movies.loc[index,'genres']=str(list1)\n",
    "    \n",
    "# changing the keywords column from json to string\n",
    "movies['keywords']=movies['keywords'].apply(json.loads)\n",
    "for index,i in zip(movies.index,movies['keywords']):\n",
    "    list1=[]\n",
    "    for j in range(len(i)):\n",
    "        list1.append((i[j]['name']))\n",
    "    movies.loc[index,'keywords']=str(list1)\n",
    "    \n",
    "## changing the production_companies column from json to string\n",
    "movies['production_companies']=movies['production_companies'].apply(json.loads)\n",
    "for index,i in zip(movies.index,movies['production_companies']):\n",
    "    list1=[]\n",
    "    for j in range(len(i)):\n",
    "        list1.append((i[j]['name']))\n",
    "    movies.loc[index,'production_companies']=str(list1)\n",
    "    \n",
    "# changing the production_countries column from json to string    \n",
    "movies['production_countries']=movies['production_countries'].apply(json.loads)\n",
    "for index,i in zip(movies.index,movies['production_countries']):\n",
    "    list1=[]\n",
    "    for j in range(len(i)):\n",
    "        list1.append((i[j]['name']))\n",
    "    movies.loc[index,'production_countries']=str(list1)\n",
    "    \n",
    "# changing the cast column from json to string\n",
    "mov['cast']=mov['cast'].apply(json.loads)\n",
    "for index,i in zip(mov.index,mov['cast']):\n",
    "    list1=[]\n",
    "    for j in range(len(i)):\n",
    "        list1.append((i[j]['name']))\n",
    "    mov.loc[index,'cast']=str(list1)\n",
    "\n",
    "# changing the crew column from json to string    \n",
    "mov['crew']=mov['crew'].apply(json.loads)\n",
    "def director(x):\n",
    "    for i in x:\n",
    "        if i['job'] == 'Director':\n",
    "            return i['name']\n",
    "mov['crew']=mov['crew'].apply(director)\n",
    "mov.rename(columns={'crew':'director'},inplace=True)"
   ]
  },
  {
   "cell_type": "code",
   "execution_count": 5,
   "metadata": {
    "_cell_guid": "b8dc1ce9-8f99-4549-bfd8-649afbe9cb04",
    "_uuid": "83b1801dcc8d33c384b83ec0b968906ecef0fa7f"
   },
   "outputs": [
    {
     "data": {
      "text/html": [
       "<div>\n",
       "<style scoped>\n",
       "    .dataframe tbody tr th:only-of-type {\n",
       "        vertical-align: middle;\n",
       "    }\n",
       "\n",
       "    .dataframe tbody tr th {\n",
       "        vertical-align: top;\n",
       "    }\n",
       "\n",
       "    .dataframe thead th {\n",
       "        text-align: right;\n",
       "    }\n",
       "</style>\n",
       "<table border=\"1\" class=\"dataframe\">\n",
       "  <thead>\n",
       "    <tr style=\"text-align: right;\">\n",
       "      <th></th>\n",
       "      <th>budget</th>\n",
       "      <th>genres</th>\n",
       "      <th>homepage</th>\n",
       "      <th>id</th>\n",
       "      <th>keywords</th>\n",
       "      <th>original_language</th>\n",
       "      <th>original_title</th>\n",
       "      <th>overview</th>\n",
       "      <th>popularity</th>\n",
       "      <th>production_companies</th>\n",
       "      <th>production_countries</th>\n",
       "      <th>release_date</th>\n",
       "      <th>revenue</th>\n",
       "      <th>runtime</th>\n",
       "      <th>spoken_languages</th>\n",
       "      <th>status</th>\n",
       "      <th>tagline</th>\n",
       "      <th>title</th>\n",
       "      <th>vote_average</th>\n",
       "      <th>vote_count</th>\n",
       "    </tr>\n",
       "  </thead>\n",
       "  <tbody>\n",
       "    <tr>\n",
       "      <th>0</th>\n",
       "      <td>237000000</td>\n",
       "      <td>['Action', 'Adventure', 'Fantasy', 'Science Fi...</td>\n",
       "      <td>http://www.avatarmovie.com/</td>\n",
       "      <td>19995</td>\n",
       "      <td>['culture clash', 'future', 'space war', 'spac...</td>\n",
       "      <td>en</td>\n",
       "      <td>Avatar</td>\n",
       "      <td>In the 22nd century, a paraplegic Marine is di...</td>\n",
       "      <td>150.437577</td>\n",
       "      <td>['Ingenious Film Partners', 'Twentieth Century...</td>\n",
       "      <td>['United States of America', 'United Kingdom']</td>\n",
       "      <td>2009-12-10</td>\n",
       "      <td>2787965087</td>\n",
       "      <td>162.0</td>\n",
       "      <td>[{\"iso_639_1\": \"en\", \"name\": \"English\"}, {\"iso...</td>\n",
       "      <td>Released</td>\n",
       "      <td>Enter the World of Pandora.</td>\n",
       "      <td>Avatar</td>\n",
       "      <td>7.2</td>\n",
       "      <td>11800</td>\n",
       "    </tr>\n",
       "    <tr>\n",
       "      <th>1</th>\n",
       "      <td>300000000</td>\n",
       "      <td>['Adventure', 'Fantasy', 'Action']</td>\n",
       "      <td>http://disney.go.com/disneypictures/pirates/</td>\n",
       "      <td>285</td>\n",
       "      <td>['ocean', 'drug abuse', 'exotic island', 'east...</td>\n",
       "      <td>en</td>\n",
       "      <td>Pirates of the Caribbean: At World's End</td>\n",
       "      <td>Captain Barbossa, long believed to be dead, ha...</td>\n",
       "      <td>139.082615</td>\n",
       "      <td>['Walt Disney Pictures', 'Jerry Bruckheimer Fi...</td>\n",
       "      <td>['United States of America']</td>\n",
       "      <td>2007-05-19</td>\n",
       "      <td>961000000</td>\n",
       "      <td>169.0</td>\n",
       "      <td>[{\"iso_639_1\": \"en\", \"name\": \"English\"}]</td>\n",
       "      <td>Released</td>\n",
       "      <td>At the end of the world, the adventure begins.</td>\n",
       "      <td>Pirates of the Caribbean: At World's End</td>\n",
       "      <td>6.9</td>\n",
       "      <td>4500</td>\n",
       "    </tr>\n",
       "  </tbody>\n",
       "</table>\n",
       "</div>"
      ],
      "text/plain": [
       "      budget                                             genres  \\\n",
       "0  237000000  ['Action', 'Adventure', 'Fantasy', 'Science Fi...   \n",
       "1  300000000                 ['Adventure', 'Fantasy', 'Action']   \n",
       "\n",
       "                                       homepage     id  \\\n",
       "0                   http://www.avatarmovie.com/  19995   \n",
       "1  http://disney.go.com/disneypictures/pirates/    285   \n",
       "\n",
       "                                            keywords original_language  \\\n",
       "0  ['culture clash', 'future', 'space war', 'spac...                en   \n",
       "1  ['ocean', 'drug abuse', 'exotic island', 'east...                en   \n",
       "\n",
       "                             original_title  \\\n",
       "0                                    Avatar   \n",
       "1  Pirates of the Caribbean: At World's End   \n",
       "\n",
       "                                            overview  popularity  \\\n",
       "0  In the 22nd century, a paraplegic Marine is di...  150.437577   \n",
       "1  Captain Barbossa, long believed to be dead, ha...  139.082615   \n",
       "\n",
       "                                production_companies  \\\n",
       "0  ['Ingenious Film Partners', 'Twentieth Century...   \n",
       "1  ['Walt Disney Pictures', 'Jerry Bruckheimer Fi...   \n",
       "\n",
       "                             production_countries release_date     revenue  \\\n",
       "0  ['United States of America', 'United Kingdom']   2009-12-10  2787965087   \n",
       "1                    ['United States of America']   2007-05-19   961000000   \n",
       "\n",
       "   runtime                                   spoken_languages    status  \\\n",
       "0    162.0  [{\"iso_639_1\": \"en\", \"name\": \"English\"}, {\"iso...  Released   \n",
       "1    169.0           [{\"iso_639_1\": \"en\", \"name\": \"English\"}]  Released   \n",
       "\n",
       "                                          tagline  \\\n",
       "0                     Enter the World of Pandora.   \n",
       "1  At the end of the world, the adventure begins.   \n",
       "\n",
       "                                      title  vote_average  vote_count  \n",
       "0                                    Avatar           7.2       11800  \n",
       "1  Pirates of the Caribbean: At World's End           6.9        4500  "
      ]
     },
     "execution_count": 5,
     "metadata": {},
     "output_type": "execute_result"
    }
   ],
   "source": [
    "movies.head(2)"
   ]
  },
  {
   "cell_type": "markdown",
   "metadata": {
    "_cell_guid": "a405d52c-cd31-4786-9527-fe1ab04a15be",
    "_uuid": "30c089e1373e4d0f0013df27f1b95988157ed6ff"
   },
   "source": [
    "So now we have our dataset cleaned. Lets start building our score prediction system."
   ]
  },
  {
   "cell_type": "code",
   "execution_count": 6,
   "metadata": {
    "_cell_guid": "ac8afc68-11b4-4ae7-8b8d-b3f9c50bc1a7",
    "_uuid": "91fe45fa30986f573f1f19ab8f6c7741eb423da7"
   },
   "outputs": [],
   "source": [
    "movies=movies.merge(mov,left_on='id',right_on='movie_id',how='left')# merging the two csv files"
   ]
  },
  {
   "cell_type": "code",
   "execution_count": 7,
   "metadata": {
    "_cell_guid": "19ba2c1c-bf00-4672-8c41-506483bbae0e",
    "_uuid": "f25f4e6ab9bf0086e3dc06c450534f0bb932d74f"
   },
   "outputs": [],
   "source": [
    "movies=movies[['id','original_title','genres','cast','vote_average','director','keywords']]"
   ]
  },
  {
   "cell_type": "markdown",
   "metadata": {
    "_cell_guid": "6a24f143-8173-419a-9af3-08e64020267b",
    "_uuid": "9eb235a64d9a82178c198110d1a78cfad03c8cf7"
   },
   "source": [
    "As said earlier, the json stuff is now in string format. In the next step, we will convert it into list format. The reason for doing so is that a single movie has many genres, and we need to get each of them individually. So a list format is used for such an interpretation.\n",
    "\n",
    "#### Working with the genres column "
   ]
  },
  {
   "cell_type": "code",
   "execution_count": 8,
   "metadata": {
    "_cell_guid": "1e31c490-886e-4c16-8103-19dc6bf3a474",
    "_uuid": "925d9799c782826db50fba95a7e5857b1251f497"
   },
   "outputs": [],
   "source": [
    "movies['genres']=movies['genres'].str.strip('[]').str.replace(' ','').str.replace(\"'\",'')\n",
    "movies['genres']=movies['genres'].str.split(',')"
   ]
  },
  {
   "cell_type": "code",
   "execution_count": 9,
   "metadata": {
    "_cell_guid": "da73bb00-3660-4ba5-a77c-c9690b7474c0",
    "_uuid": "ac8bc89bcac96feb7e98ea849e0cd95c88784de0"
   },
   "outputs": [
    {
     "data": {
      "image/png": "[encoded data removed]",
      "text/plain": [
       "<Figure size 864x720 with 1 Axes>"
      ]
     },
     "metadata": {},
     "output_type": "display_data"
    }
   ],
   "source": [
    "plt.subplots(figsize=(12,10))\n",
    "list1=[]\n",
    "for i in movies['genres']:\n",
    "    list1.extend(i)\n",
    "ax=pd.Series(list1).value_counts()[:10].sort_values(ascending=True).plot.barh(width=0.9,color=sns.color_palette('summer_r',10))\n",
    "for i, v in enumerate(pd.Series(list1).value_counts()[:10].sort_values(ascending=True).values): \n",
    "    ax.text(.8, i, v,fontsize=12,color='white',weight='bold')\n",
    "ax.patches[9].set_facecolor('r')\n",
    "plt.title('Top Genres')\n",
    "plt.show()"
   ]
  },
  {
   "cell_type": "markdown",
   "metadata": {
    "_cell_guid": "33900133-838b-4549-9684-626e6f389702",
    "_uuid": "203ea6aa17eadbd3a5039fa59a51a7546187061f"
   },
   "source": [
    "Drama looks to be the most popular genre followed by Comedy."
   ]
  },
  {
   "cell_type": "code",
   "execution_count": 10,
   "metadata": {
    "_cell_guid": "dd141da4-f329-490d-b5ea-8ed6fdbf6f74",
    "_uuid": "ecd9481c348807604fea7faefb2f907b8fbc0b9d"
   },
   "outputs": [],
   "source": [
    "for i,j in zip(movies['genres'],movies.index):\n",
    "    list2=[]\n",
    "    list2=i\n",
    "    list2.sort()\n",
    "    movies.loc[j,'genres']=str(list2)\n",
    "movies['genres']=movies['genres'].str.strip('[]').str.replace(' ','').str.replace(\"'\",'')\n",
    "movies['genres']=movies['genres'].str.split(',')"
   ]
  },
  {
   "cell_type": "markdown",
   "metadata": {
    "_cell_guid": "612cc732-7eb6-4cea-a727-3ed54610c8b5",
    "_uuid": "82a5ef60a09d0d43fde72d18ff60fc1ef446d8bf"
   },
   "source": [
    "Now lets generate a list 'genreList' with all possible unique genres mentioned in the dataset."
   ]
  },
  {
   "cell_type": "code",
   "execution_count": 11,
   "metadata": {
    "_cell_guid": "50b3f3ef-21d7-4014-b86b-c6d959798f03",
    "_uuid": "550bd3bf0a2fff4cf5e6345076a5930a3b5000c8"
   },
   "outputs": [],
   "source": [
    "genreList = []\n",
    "for index, row in movies.iterrows():\n",
    "    genres = row[\"genres\"]\n",
    "    \n",
    "    for genre in genres:\n",
    "        if genre not in genreList:\n",
    "            genreList.append(genre)"
   ]
  },
  {
   "cell_type": "code",
   "execution_count": 12,
   "metadata": {
    "_cell_guid": "bfd20c73-a141-40b9-88fd-45cbf6d26094",
    "_uuid": "dd0192c01c4c52541eb5c7aa05d8ab744a4e7835"
   },
   "outputs": [
    {
     "data": {
      "text/plain": [
       "['Action',\n",
       " 'Adventure',\n",
       " 'Fantasy',\n",
       " 'ScienceFiction',\n",
       " 'Crime',\n",
       " 'Drama',\n",
       " 'Thriller',\n",
       " 'Animation',\n",
       " 'Family',\n",
       " 'Western']"
      ]
     },
     "execution_count": 12,
     "metadata": {},
     "output_type": "execute_result"
    }
   ],
   "source": [
    "genreList[:10] #now we have a list with unique genres"
   ]
  },
  {
   "cell_type": "markdown",
   "metadata": {
    "_cell_guid": "0b14c228-697e-47c5-acca-48179a1af4e8",
    "_uuid": "616ccd4960a81b5d6db396be21932ed4a2895514"
   },
   "source": [
    "'genreList' will now hold all the genres. But how do we come to know about the genres each movie is falls into. Now some movies will be 'Action', some will be 'Action,Adventure',etc. We need to classify the movies according to their genres.\n",
    "\n",
    "Lets create a new column in the dataframe that will hold the binary values whether a genre is present or not in it. First lets create a method which will return back a list of binary values for the genres of each movie. The 'genreList' will be useful now to compare against the values.\n",
    "\n",
    "Lets say for example we have 20 unique genres in the list. Thus the below function will return a list with 20 elements,which will be either 0 or 1. Now for example we have a Movie which has **genre='Action'**, then the new column will hold\n",
    "**[1,0,0,0,0,0,0,0,0,0,0,0,0,0,0,0,0,0,0,0]**.\n",
    "\n",
    "Similarly for **'Action,Adventure' we will have, [1,1,0,0,0,0,0,0,0,0,0,0,0,0,0,0,0,0,0,0]**. Converting the genres into such a list of binary values will help in easily classfying the movies by their genres.\n",
    "\n",
    "We will follow the same notations for other features like the cast, director and the keywords."
   ]
  },
  {
   "cell_type": "code",
   "execution_count": 13,
   "metadata": {
    "_cell_guid": "e3b006a6-1f6d-4b43-a459-7dedcd728714",
    "_uuid": "36078a8b3db766e7562e3fdaaefddf4957c69cb8"
   },
   "outputs": [],
   "source": [
    "def binary(genre_list):\n",
    "    binaryList = []\n",
    "    \n",
    "    for genre in genreList:\n",
    "        if genre in genre_list:\n",
    "            binaryList.append(1)\n",
    "        else:\n",
    "            binaryList.append(0)\n",
    "    \n",
    "    return binaryList"
   ]
  },
  {
   "cell_type": "code",
   "execution_count": 14,
   "metadata": {
    "_cell_guid": "5523786a-f38e-47c6-bb2a-a1a480f04ff9",
    "_uuid": "6c2984dca6fb6247d22a9b470acbe413fd9fd340"
   },
   "outputs": [],
   "source": [
    "movies['genres_bin'] = movies['genres'].apply(lambda x: binary(x))"
   ]
  },
  {
   "cell_type": "code",
   "execution_count": 15,
   "metadata": {
    "_cell_guid": "4bf14dc0-2f90-4930-b4d1-98192b265c4a",
    "_uuid": "c130bfeb38cb4459d74ad9150599452e5920ecb6"
   },
   "outputs": [
    {
     "data": {
      "text/plain": [
       "0    [1, 1, 1, 1, 0, 0, 0, 0, 0, 0, 0, 0, 0, 0, 0, ...\n",
       "1    [1, 1, 1, 0, 0, 0, 0, 0, 0, 0, 0, 0, 0, 0, 0, ...\n",
       "2    [1, 1, 0, 0, 1, 0, 0, 0, 0, 0, 0, 0, 0, 0, 0, ...\n",
       "3    [1, 0, 0, 0, 1, 1, 1, 0, 0, 0, 0, 0, 0, 0, 0, ...\n",
       "Name: genres_bin, dtype: object"
      ]
     },
     "execution_count": 15,
     "metadata": {},
     "output_type": "execute_result"
    }
   ],
   "source": [
    "movies['genres_bin'].head(4)"
   ]
  },
  {
   "cell_type": "markdown",
   "metadata": {
    "_cell_guid": "3f81840e-6db2-4cb0-bb4e-b23f7f450b18",
    "_uuid": "9a753b3da4a91af59208019f8b193eb804ba2393"
   },
   "source": [
    "So now the new column is ready. Lets do the same thing for the other columns that we need for the prediction system i.e we will create a binary column for the **columns: ['cast','director','keywords']**.\n",
    "\n",
    "#### Working with the Cast Column\n",
    "\n",
    "When I initially created the list of all the cast, it had around 50k unique values, as many movies have entries for about 15-20 actors. But do we need all of them?? The answer is **No**. We just need the actors who have the highest contribution in the movie. For eg: **The Dark Knight** franchise has many actors involved in the movie. But we will select only the main actors like **Christian Bale, Micheal Caine, Heath Ledger**. I have selected the main 4 actors from each movie.\n",
    "\n",
    "One question that may arise in your mind is that how do you determine the importance of the actor in the movie. Luckily,the the sequence of the actors in the JSON format is according to the actor's importance.  "
   ]
  },
  {
   "cell_type": "code",
   "execution_count": 16,
   "metadata": {
    "_cell_guid": "9de62137-34fa-4f31-8325-3119770f7c19",
    "_uuid": "3f4c3d353da41e54e89e67181cad6566ed7f1eac"
   },
   "outputs": [],
   "source": [
    "movies['cast']=movies['cast'].str.strip('[]').str.replace(' ','').str.replace(\"'\",'').str.replace('\"','')\n",
    "movies['cast']=movies['cast'].str.split(',')"
   ]
  },
  {
   "cell_type": "code",
   "execution_count": 17,
   "metadata": {
    "_cell_guid": "8484a497-f6c2-4023-a69c-85d382b1b274",
    "_uuid": "b2584ce8fbe8c1552830b1419bd7a353fdf0f343"
   },
   "outputs": [
    {
     "data": {
      "image/png": "[encoded data removed]",
      "text/plain": [
       "<Figure size 864x720 with 1 Axes>"
      ]
     },
     "metadata": {},
     "output_type": "display_data"
    }
   ],
   "source": [
    "plt.subplots(figsize=(12,10))\n",
    "list1=[]\n",
    "for i in movies['cast']:\n",
    "    list1.extend(i)\n",
    "ax=pd.Series(list1).value_counts()[:15].sort_values(ascending=True).plot.barh(width=0.9,color=sns.color_palette('inferno_r',40))\n",
    "for i, v in enumerate(pd.Series(list1).value_counts()[:15].sort_values(ascending=True).values): \n",
    "    ax.text(.8, i, v,fontsize=10,color='white',weight='bold')\n",
    "plt.title('Actors with highest appearance')\n",
    "ax.patches[14].set_facecolor('r')\n",
    "plt.show()"
   ]
  },
  {
   "cell_type": "markdown",
   "metadata": {
    "_cell_guid": "d1a038a5-6623-4aeb-87e2-8b193c17c7a0",
    "_uuid": "55743cd8b186f3093f5851dd7669d9f790b69bb9"
   },
   "source": [
    "**Samuel Jackson aka Nick Fury** from avengers has appeared in maximum movies. I initally thought that Morgan Freeman might be the actor with maximum movies, but Data wins over assumptions..!!"
   ]
  },
  {
   "cell_type": "code",
   "execution_count": 18,
   "metadata": {
    "_cell_guid": "1196565a-8217-445f-b1cd-e2089443a54a",
    "_uuid": "e9f0107cfbabc2b61f9c4c75e9d650c63989550d"
   },
   "outputs": [],
   "source": [
    "for i,j in zip(movies['cast'],movies.index):\n",
    "    list2=[]\n",
    "    list2=i[:4]\n",
    "    movies.loc[j,'cast']=str(list2)\n",
    "movies['cast']=movies['cast'].str.strip('[]').str.replace(' ','').str.replace(\"'\",'')\n",
    "movies['cast']=movies['cast'].str.split(',')\n",
    "for i,j in zip(movies['cast'],movies.index):\n",
    "    list2=[]\n",
    "    list2=i\n",
    "    list2.sort()\n",
    "    movies.loc[j,'cast']=str(list2)\n",
    "movies['cast']=movies['cast'].str.strip('[]').str.replace(' ','').str.replace(\"'\",'')\n",
    "movies['cast']=movies['cast'].str.split(',')"
   ]
  },
  {
   "cell_type": "code",
   "execution_count": 19,
   "metadata": {
    "_cell_guid": "d3f7032e-f6ef-4c83-ab6e-d6503dd94f82",
    "_uuid": "3c19ce513145ae555de744422a3de2ad6f4caffe"
   },
   "outputs": [],
   "source": [
    "castList = []\n",
    "for index, row in movies.iterrows():\n",
    "    cast = row[\"cast\"]\n",
    "    \n",
    "    for i in cast:\n",
    "        if i not in castList:\n",
    "            castList.append(i)"
   ]
  },
  {
   "cell_type": "code",
   "execution_count": 20,
   "metadata": {
    "_cell_guid": "0f2b2d8c-66be-4c66-a9f5-a99c95154801",
    "_uuid": "e0b397bd60a6503a98a4e65910363c9cd2f5e00e"
   },
   "outputs": [],
   "source": [
    "def binary(cast_list):\n",
    "    binaryList = []\n",
    "    \n",
    "    for genre in castList:\n",
    "        if genre in cast_list:\n",
    "            binaryList.append(1)\n",
    "        else:\n",
    "            binaryList.append(0)\n",
    "    \n",
    "    return binaryList"
   ]
  },
  {
   "cell_type": "code",
   "execution_count": 21,
   "metadata": {
    "_cell_guid": "b2b042ea-65b7-4bf5-93dc-c7595296db5b",
    "_uuid": "17320aa8ca259ae212bb63cb9c43387691a48519"
   },
   "outputs": [],
   "source": [
    "movies['cast_bin'] = movies['cast'].apply(lambda x: binary(x))"
   ]
  },
  {
   "cell_type": "code",
   "execution_count": 22,
   "metadata": {
    "_cell_guid": "bff7c1a3-b35c-4847-ac37-0d0cef6fa81e",
    "_uuid": "054c5997c09eebee8d771b813b371660a833b703"
   },
   "outputs": [
    {
     "data": {
      "text/plain": [
       "0    [1, 1, 1, 1, 0, 0, 0, 0, 0, 0, 0, 0, 0, 0, 0, ...\n",
       "1    [0, 0, 0, 0, 1, 1, 1, 1, 0, 0, 0, 0, 0, 0, 0, ...\n",
       "Name: cast_bin, dtype: object"
      ]
     },
     "execution_count": 22,
     "metadata": {},
     "output_type": "execute_result"
    }
   ],
   "source": [
    "movies['cast_bin'].head(2)"
   ]
  },
  {
   "cell_type": "markdown",
   "metadata": {
    "_cell_guid": "119c0c91-700c-4776-9904-44b344442b3b",
    "_uuid": "a6c6c916b232f66a88f833c3f55c9af2a959a80a"
   },
   "source": [
    "Above I have created a new column containing the binary list for the actors in the movie.\n",
    "\n",
    "#### Working with the director column"
   ]
  },
  {
   "cell_type": "code",
   "execution_count": 23,
   "metadata": {
    "_cell_guid": "f847c8b4-df94-43e2-b0ee-e6a52f58cdbe",
    "_uuid": "6627c1dfbc7c449b6e2502cb346c5e031dcc1fa2"
   },
   "outputs": [],
   "source": [
    "def xstr(s):\n",
    "    if s is None:\n",
    "        return ''\n",
    "    return str(s)\n",
    "movies['director']=movies['director'].apply(xstr)"
   ]
  },
  {
   "cell_type": "code",
   "execution_count": 24,
   "metadata": {
    "_cell_guid": "82b601a4-6180-4501-995c-de30c68afd6d",
    "_uuid": "61441723fdb6ba33ef376f569bab541cd56a79e1"
   },
   "outputs": [
    {
     "data": {
      "image/png": "[encoded data removed]",
      "text/plain": [
       "<Figure size 864x720 with 1 Axes>"
      ]
     },
     "metadata": {},
     "output_type": "display_data"
    }
   ],
   "source": [
    "plt.subplots(figsize=(12,10))\n",
    "ax=movies[movies['director']!=''].director.value_counts()[:10].sort_values(ascending=True).plot.barh(width=0.85,color='y')\n",
    "for i, v in enumerate(movies[movies['director']!=''].director.value_counts()[:10].sort_values(ascending=True).values): \n",
    "    ax.text(.5, i, v,fontsize=12,color='white',weight='bold')\n",
    "ax.patches[9].set_facecolor('r')\n",
    "plt.title('Directors with highest movies')\n",
    "plt.show()"
   ]
  },
  {
   "cell_type": "code",
   "execution_count": 25,
   "metadata": {
    "_cell_guid": "cc17f7a8-b686-4dd0-b817-7386915022fa",
    "_uuid": "ab6b82ead0ac62abed4c544f68683344a5633ba8"
   },
   "outputs": [],
   "source": [
    "directorList=[]\n",
    "for i in movies['director']:\n",
    "    if i not in directorList:\n",
    "        directorList.append(i)"
   ]
  },
  {
   "cell_type": "code",
   "execution_count": 26,
   "metadata": {
    "_cell_guid": "4e432cec-cfcd-4e9a-808d-05d0a207e699",
    "_uuid": "731908e96aa2e27733eb44eba49f9c4863382d96"
   },
   "outputs": [],
   "source": [
    "def binary(director_list):\n",
    "    binaryList = []\n",
    "    \n",
    "    for direct in directorList:\n",
    "        if direct in director_list:\n",
    "            binaryList.append(1)\n",
    "        else:\n",
    "            binaryList.append(0)\n",
    "    \n",
    "    return binaryList"
   ]
  },
  {
   "cell_type": "code",
   "execution_count": 27,
   "metadata": {
    "_cell_guid": "b06c6644-0243-4289-89ce-fdfce19fbaae",
    "_uuid": "d79362fd78cec86e07c0e6a1068ecc69bd3a1a7c"
   },
   "outputs": [],
   "source": [
    "movies['director_bin'] = movies['director'].apply(lambda x: binary(x))"
   ]
  },
  {
   "cell_type": "markdown",
   "metadata": {
    "_cell_guid": "6978acd3-a4fb-4bf3-8668-16bb10101cf9",
    "_uuid": "599a43c592db08efeff12c2947bce8644012abb7"
   },
   "source": [
    "#### Working with the keywords column\n",
    "\n",
    "The keywords or tags contain a lot of information about the movie, and it is a key feature in finding similar movies. For eg: Movies like **\"Avengers\" and \"Ant-man\"** may have common keywords like **superheroes or Marvel**."
   ]
  },
  {
   "cell_type": "markdown",
   "metadata": {},
   "source": [
    "**Bharat Edit: Commented out portions using wordcloud. Not necessary, and not compatible with currently installed modules**"
   ]
  },
  {
   "cell_type": "code",
   "execution_count": 33,
   "metadata": {
    "_cell_guid": "d62f0354-261f-4029-b860-8233218b6c04",
    "_kg_hide-input": true,
    "_uuid": "68e29756cfe2e1073260dfbe3a8f869bff09c814"
   },
   "outputs": [],
   "source": [
    "#mask=b'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'"
   ]
  },
  {
   "cell_type": "code",
   "execution_count": 34,
   "metadata": {
    "_cell_guid": "c2421287-06ca-4115-979f-b2d4b8e8197b",
    "_uuid": "880d02fd25535d2b497315bdba96e2ed9928bac6"
   },
   "outputs": [],
   "source": [
    "#from wordcloud import WordCloud, STOPWORDS\n",
    "#import nltk\n",
    "#from nltk.corpus import stopwords"
   ]
  },
  {
   "cell_type": "code",
   "execution_count": 35,
   "metadata": {
    "_cell_guid": "7555c209-a336-4476-93c5-ce3f93061cfe",
    "_uuid": "53c72f4040fda3b505bc623df71f9e859a4c5150"
   },
   "outputs": [
    {
     "data": {
      "text/plain": [
       "'\\nplt.subplots(figsize=(12,12))\\nstop_words=set(stopwords.words(\\'english\\'))\\nstop_words.update(\\',\\',\\';\\',\\'!\\',\\'?\\',\\'.\\',\\'(\\',\\')\\',\\'$\\',\\'#\\',\\'+\\',\\':\\',\\'...\\',\\' \\',\\'\\')\\nf1=open(\"mask.png\", \"wb\")\\nf1.write(codecs.decode(mask,\\'base64\\'))\\nf1.close()\\nimg1 = imread(\"mask.png\")\\nhcmask1 = img1\\nwords=movies[\\'keywords\\'].dropna().apply(nltk.word_tokenize)\\nword=[]\\nfor i in words:\\n    word.extend(i)\\nword=pd.Series(word)\\nword=([i for i in word.str.lower() if i not in stop_words])\\nwc = WordCloud(background_color=\"black\", max_words=4000, mask=hcmask1,\\n               stopwords=STOPWORDS, max_font_size= 60,width=1000,height=1000)\\nwc.generate(\" \".join(word))\\nplt.imshow(wc)\\nplt.axis(\\'off\\')\\nfig=plt.gcf()\\nfig.set_size_inches(10,10)\\nplt.show()\\n'"
      ]
     },
     "execution_count": 35,
     "metadata": {},
     "output_type": "execute_result"
    }
   ],
   "source": [
    "\"\"\"\n",
    "plt.subplots(figsize=(12,12))\n",
    "stop_words=set(stopwords.words('english'))\n",
    "stop_words.update(',',';','!','?','.','(',')','$','#','+',':','...',' ','')\n",
    "f1=open(\"mask.png\", \"wb\")\n",
    "f1.write(codecs.decode(mask,'base64'))\n",
    "f1.close()\n",
    "img1 = imread(\"mask.png\")\n",
    "hcmask1 = img1\n",
    "words=movies['keywords'].dropna().apply(nltk.word_tokenize)\n",
    "word=[]\n",
    "for i in words:\n",
    "    word.extend(i)\n",
    "word=pd.Series(word)\n",
    "word=([i for i in word.str.lower() if i not in stop_words])\n",
    "wc = WordCloud(background_color=\"black\", max_words=4000, mask=hcmask1,\n",
    "               stopwords=STOPWORDS, max_font_size= 60,width=1000,height=1000)\n",
    "wc.generate(\" \".join(word))\n",
    "plt.imshow(wc)\n",
    "plt.axis('off')\n",
    "fig=plt.gcf()\n",
    "fig.set_size_inches(10,10)\n",
    "plt.show()\n",
    "\"\"\""
   ]
  },
  {
   "cell_type": "markdown",
   "metadata": {
    "_cell_guid": "e1437f2e-7a86-4c9e-840a-b604d04106f6",
    "_uuid": "70f43a41b8bf833f16549c1e1adfddc57502eb6c"
   },
   "source": [
    "Above is a wordcloud showing the major keywords or tags used for describing the movies."
   ]
  },
  {
   "cell_type": "code",
   "execution_count": 36,
   "metadata": {
    "_cell_guid": "1c6bc6b7-5ed2-42c3-a19c-2171e34b19ef",
    "_uuid": "cc1c219030bbfca1dfea203914c45981f69af67c"
   },
   "outputs": [],
   "source": [
    "movies['keywords']=movies['keywords'].str.strip('[]').str.replace(' ','').str.replace(\"'\",'').str.replace('\"','')\n",
    "movies['keywords']=movies['keywords'].str.split(',')\n",
    "for i,j in zip(movies['keywords'],movies.index):\n",
    "    list2=[]\n",
    "    list2=i\n",
    "    movies.loc[j,'keywords']=str(list2)\n",
    "movies['keywords']=movies['keywords'].str.strip('[]').str.replace(' ','').str.replace(\"'\",'')\n",
    "movies['keywords']=movies['keywords'].str.split(',')\n",
    "for i,j in zip(movies['keywords'],movies.index):\n",
    "    list2=[]\n",
    "    list2=i\n",
    "    list2.sort()\n",
    "    movies.loc[j,'keywords']=str(list2)\n",
    "movies['keywords']=movies['keywords'].str.strip('[]').str.replace(' ','').str.replace(\"'\",'')\n",
    "movies['keywords']=movies['keywords'].str.split(',')"
   ]
  },
  {
   "cell_type": "code",
   "execution_count": 37,
   "metadata": {
    "_cell_guid": "39ad8d68-9b56-4c2c-80d2-4c4e2f45f237",
    "_uuid": "4d6479e7a05869d4f89581418a9388a5cfa449b2"
   },
   "outputs": [],
   "source": [
    "words_list = []\n",
    "for index, row in movies.iterrows():\n",
    "    genres = row[\"keywords\"]\n",
    "    \n",
    "    for genre in genres:\n",
    "        if genre not in words_list:\n",
    "            words_list.append(genre)"
   ]
  },
  {
   "cell_type": "code",
   "execution_count": 38,
   "metadata": {
    "_cell_guid": "6b753e3e-17e8-4398-abab-76309f0a9756",
    "_uuid": "a2b618358a8f3d75ae0a602e4ec602af7744e7c6"
   },
   "outputs": [],
   "source": [
    "def binary(words):\n",
    "    binaryList = []\n",
    "    \n",
    "    for genre in words_list:\n",
    "        if genre in words:\n",
    "            binaryList.append(1)\n",
    "        else:\n",
    "            binaryList.append(0)\n",
    "    \n",
    "    return binaryList"
   ]
  },
  {
   "cell_type": "code",
   "execution_count": 39,
   "metadata": {
    "_cell_guid": "6b2fc58f-79b9-48b9-aa54-b19ea1ccaf8f",
    "_uuid": "d3e4df7fb373bb400c51d26f9c46269938511e00"
   },
   "outputs": [],
   "source": [
    "movies['words_bin'] = movies['keywords'].apply(lambda x: binary(x))"
   ]
  },
  {
   "cell_type": "code",
   "execution_count": 40,
   "metadata": {
    "_cell_guid": "1612217a-41b6-4872-943c-16f82a23b661",
    "_uuid": "550de9d9ae4ec8ae1bcc488da20d35254f706e2d"
   },
   "outputs": [],
   "source": [
    "movies=movies[(movies['vote_average']!=0)] #removing the movies with 0 score and without drector names \n",
    "movies=movies[movies['director']!='']"
   ]
  },
  {
   "cell_type": "markdown",
   "metadata": {
    "_cell_guid": "97068a70-493d-41f1-9db9-e18ec27816df",
    "_uuid": "9f61beaf0037c38481df2c53eb40ac8ec9bd20e8"
   },
   "source": [
    "### Checking similarity between movies\n",
    "\n",
    "We will we using **Cosine Similarity** for finding the similarity between 2 movies. How does cosine similarity work?? Let’s say we have 2 vectors.If the vectors are close to parallel, i.e angle between the vectors is 0,  then we can say that both of them are “similar”, as cos(0)=1 .Whereas if the vectors are orthogonal, then we can say that they are independent or NOT “similar”, as cos(90)=0. \n",
    "![](https://alexn.org/assets/img/cosine-similarity.png)\n",
    "\n",
    "For more detailed study, **[follow this link](http://blog.christianperone.com/2013/09/machine-learning-cosine-similarity-for-vector-space-models-part-iii/)**.\n",
    "\n",
    "Below I have defined a function **Similarity**, which will check the similarity between the movies. "
   ]
  },
  {
   "cell_type": "code",
   "execution_count": 41,
   "metadata": {
    "_cell_guid": "55b197e6-bb27-419a-86ad-48126f8e7078",
    "_uuid": "739f8ca5d8e8655bee79719fd6adcd7cdd6564b6"
   },
   "outputs": [],
   "source": [
    "from scipy import spatial\n",
    "\n",
    "def Similarity(movieId1, movieId2):\n",
    "    a = movies.iloc[movieId1]\n",
    "    b = movies.iloc[movieId2]\n",
    "    \n",
    "    genresA = a['genres_bin']\n",
    "    genresB = b['genres_bin']\n",
    "    \n",
    "    genreDistance = spatial.distance.cosine(genresA, genresB)\n",
    "    \n",
    "    scoreA = a['cast_bin']\n",
    "    scoreB = b['cast_bin']\n",
    "    scoreDistance = spatial.distance.cosine(scoreA, scoreB)\n",
    "    \n",
    "    directA = a['director_bin']\n",
    "    directB = b['director_bin']\n",
    "    directDistance = spatial.distance.cosine(directA, directB)\n",
    "    \n",
    "    wordsA = a['words_bin']\n",
    "    wordsB = b['words_bin']\n",
    "    wordsDistance = spatial.distance.cosine(directA, directB)\n",
    "    return genreDistance + directDistance + scoreDistance + wordsDistance\n"
   ]
  },
  {
   "cell_type": "code",
   "execution_count": 42,
   "metadata": {
    "_cell_guid": "8bb14149-f72c-45bd-89a2-2f295c4438ae",
    "_uuid": "b8b655826ce4626a335cad05d865f26c2fc0371f"
   },
   "outputs": [
    {
     "data": {
      "text/plain": [
       "2.7958758547680684"
      ]
     },
     "execution_count": 42,
     "metadata": {},
     "output_type": "execute_result"
    }
   ],
   "source": [
    "Similarity(3,160) #lets check similarity between any 2 random movies"
   ]
  },
  {
   "cell_type": "markdown",
   "metadata": {
    "_cell_guid": "7726c874-bafd-4840-b9fb-e61c96e96355",
    "_uuid": "1a73f3f107fc25fac499d86a5ada9b7fc3f803bf"
   },
   "source": [
    "We see that the distance is about 2.67, which is high.The more the distance, the less similar the movies are.Let's see what these random movies actually were"
   ]
  },
  {
   "cell_type": "code",
   "execution_count": 43,
   "metadata": {
    "_cell_guid": "99acdd43-8afc-48b8-adab-bac3c5a13a7a",
    "_uuid": "af1749435de1cb413d57e5b665e399c094dbd9c1"
   },
   "outputs": [
    {
     "name": "stdout",
     "output_type": "stream",
     "text": [
      "id                                                            49026\n",
      "original_title                                The Dark Knight Rises\n",
      "genres                             [Action, Crime, Drama, Thriller]\n",
      "cast              [AnneHathaway, ChristianBale, GaryOldman, Mich...\n",
      "vote_average                                                    7.6\n",
      "director                                          Christopher Nolan\n",
      "keywords          [batman, burglar, catburglar, catwoman, cover-...\n",
      "genres_bin        [1, 0, 0, 0, 1, 1, 1, 0, 0, 0, 0, 0, 0, 0, 0, ...\n",
      "cast_bin          [0, 0, 0, 0, 0, 0, 0, 0, 0, 0, 0, 0, 1, 1, 1, ...\n",
      "director_bin      [0, 0, 0, 1, 0, 0, 0, 0, 0, 0, 0, 0, 0, 0, 0, ...\n",
      "words_bin         [0, 0, 0, 0, 0, 0, 0, 0, 0, 0, 0, 0, 0, 0, 0, ...\n",
      "Name: 3, dtype: object\n",
      "id                                                            82702\n",
      "original_title                           How to Train Your Dragon 2\n",
      "genres            [Action, Adventure, Animation, Comedy, Family,...\n",
      "cast              [GerardButler, JayBaruchel, JonahHill, Kristen...\n",
      "vote_average                                                    7.6\n",
      "director                                               Dean DeBlois\n",
      "keywords          [3d, deathofhusband, dragon, fathersonrelation...\n",
      "genres_bin        [1, 1, 1, 0, 0, 0, 0, 1, 1, 0, 1, 0, 0, 0, 0, ...\n",
      "cast_bin          [0, 0, 0, 0, 0, 0, 0, 0, 0, 0, 0, 0, 0, 0, 0, ...\n",
      "director_bin      [0, 0, 0, 0, 0, 0, 0, 0, 0, 0, 0, 0, 0, 0, 0, ...\n",
      "words_bin         [1, 0, 0, 0, 0, 0, 0, 0, 0, 0, 0, 0, 0, 0, 0, ...\n",
      "Name: 160, dtype: object\n"
     ]
    }
   ],
   "source": [
    "print(movies.iloc[3])\n",
    "print(movies.iloc[160])"
   ]
  },
  {
   "cell_type": "markdown",
   "metadata": {
    "_cell_guid": "6a5442f3-fcdf-4bf8-9451-9110840aa41a",
    "_uuid": "cad10d0ee778e869f6d8d4921beebcc5668e5bb7"
   },
   "source": [
    "It is evident that **The Dark Knight Rises and How to train your Dragon** are very different movies. Thus the distance is huge."
   ]
  },
  {
   "cell_type": "code",
   "execution_count": 44,
   "metadata": {
    "_cell_guid": "34606e50-dde5-4c7a-bedc-be781b694395",
    "_uuid": "5a4f99299ff657582d81c6736c5c948f0c9d9e5f"
   },
   "outputs": [
    {
     "data": {
      "text/html": [
       "<div>\n",
       "<style scoped>\n",
       "    .dataframe tbody tr th:only-of-type {\n",
       "        vertical-align: middle;\n",
       "    }\n",
       "\n",
       "    .dataframe tbody tr th {\n",
       "        vertical-align: top;\n",
       "    }\n",
       "\n",
       "    .dataframe thead th {\n",
       "        text-align: right;\n",
       "    }\n",
       "</style>\n",
       "<table border=\"1\" class=\"dataframe\">\n",
       "  <thead>\n",
       "    <tr style=\"text-align: right;\">\n",
       "      <th></th>\n",
       "      <th>original_title</th>\n",
       "      <th>genres</th>\n",
       "      <th>vote_average</th>\n",
       "      <th>genres_bin</th>\n",
       "      <th>cast_bin</th>\n",
       "      <th>new_id</th>\n",
       "      <th>director</th>\n",
       "      <th>director_bin</th>\n",
       "      <th>words_bin</th>\n",
       "    </tr>\n",
       "  </thead>\n",
       "  <tbody>\n",
       "    <tr>\n",
       "      <th>0</th>\n",
       "      <td>Avatar</td>\n",
       "      <td>[Action, Adventure, Fantasy, ScienceFiction]</td>\n",
       "      <td>7.2</td>\n",
       "      <td>[1, 1, 1, 1, 0, 0, 0, 0, 0, 0, 0, 0, 0, 0, 0, ...</td>\n",
       "      <td>[1, 1, 1, 1, 0, 0, 0, 0, 0, 0, 0, 0, 0, 0, 0, ...</td>\n",
       "      <td>0</td>\n",
       "      <td>James Cameron</td>\n",
       "      <td>[1, 0, 0, 0, 0, 0, 0, 0, 0, 0, 0, 0, 0, 0, 0, ...</td>\n",
       "      <td>[1, 1, 1, 1, 1, 1, 1, 1, 1, 1, 1, 1, 1, 1, 1, ...</td>\n",
       "    </tr>\n",
       "    <tr>\n",
       "      <th>1</th>\n",
       "      <td>Pirates of the Caribbean: At World's End</td>\n",
       "      <td>[Action, Adventure, Fantasy]</td>\n",
       "      <td>6.9</td>\n",
       "      <td>[1, 1, 1, 0, 0, 0, 0, 0, 0, 0, 0, 0, 0, 0, 0, ...</td>\n",
       "      <td>[0, 0, 0, 0, 1, 1, 1, 1, 0, 0, 0, 0, 0, 0, 0, ...</td>\n",
       "      <td>1</td>\n",
       "      <td>Gore Verbinski</td>\n",
       "      <td>[0, 1, 0, 0, 0, 0, 0, 0, 0, 0, 0, 0, 0, 0, 0, ...</td>\n",
       "      <td>[0, 0, 0, 0, 0, 0, 0, 0, 0, 0, 0, 0, 0, 0, 0, ...</td>\n",
       "    </tr>\n",
       "  </tbody>\n",
       "</table>\n",
       "</div>"
      ],
      "text/plain": [
       "                             original_title  \\\n",
       "0                                    Avatar   \n",
       "1  Pirates of the Caribbean: At World's End   \n",
       "\n",
       "                                         genres  vote_average  \\\n",
       "0  [Action, Adventure, Fantasy, ScienceFiction]           7.2   \n",
       "1                  [Action, Adventure, Fantasy]           6.9   \n",
       "\n",
       "                                          genres_bin  \\\n",
       "0  [1, 1, 1, 1, 0, 0, 0, 0, 0, 0, 0, 0, 0, 0, 0, ...   \n",
       "1  [1, 1, 1, 0, 0, 0, 0, 0, 0, 0, 0, 0, 0, 0, 0, ...   \n",
       "\n",
       "                                            cast_bin  new_id        director  \\\n",
       "0  [1, 1, 1, 1, 0, 0, 0, 0, 0, 0, 0, 0, 0, 0, 0, ...       0   James Cameron   \n",
       "1  [0, 0, 0, 0, 1, 1, 1, 1, 0, 0, 0, 0, 0, 0, 0, ...       1  Gore Verbinski   \n",
       "\n",
       "                                        director_bin  \\\n",
       "0  [1, 0, 0, 0, 0, 0, 0, 0, 0, 0, 0, 0, 0, 0, 0, ...   \n",
       "1  [0, 1, 0, 0, 0, 0, 0, 0, 0, 0, 0, 0, 0, 0, 0, ...   \n",
       "\n",
       "                                           words_bin  \n",
       "0  [1, 1, 1, 1, 1, 1, 1, 1, 1, 1, 1, 1, 1, 1, 1, ...  \n",
       "1  [0, 0, 0, 0, 0, 0, 0, 0, 0, 0, 0, 0, 0, 0, 0, ...  "
      ]
     },
     "execution_count": 44,
     "metadata": {},
     "output_type": "execute_result"
    }
   ],
   "source": [
    "new_id=list(range(0,movies.shape[0]))\n",
    "movies['new_id']=new_id\n",
    "movies=movies[['original_title','genres','vote_average','genres_bin','cast_bin','new_id','director','director_bin','words_bin']]\n",
    "movies.head(2)"
   ]
  },
  {
   "cell_type": "markdown",
   "metadata": {
    "_cell_guid": "39cf6115-f888-4f7b-84a3-b868b33e696e",
    "_uuid": "e11bb84dc957554de19056dc2b2905adca87d549"
   },
   "source": [
    "# Score Predictor\n",
    "\n",
    "So now when we have everything in place, we will now build the score predictor. The main function working under the hood will be the Similarity function, which will calculate the similarity between movies, and will find 10 most similar movies. These 10 movies will help in predicting the score for our desired movie. We will take the average of the scores of the similar movies and find the score for the desired movie.\n",
    "\n",
    "Now the similarity between the movies will depend on our newly created columns containing binary lists. We know that features like the director or the cast will play a very important role in the movie's success. We always assume that movies from David Fincher or Chris Nolan will fare very well. Also if they work with their favorite actors, who always fetch them success and also work on their favorite genres, then the chances of success are even higher. Using these phenomena, lets try building our score predictor."
   ]
  },
  {
   "cell_type": "code",
   "execution_count": 45,
   "metadata": {
    "_cell_guid": "78e57222-e2e6-4c80-9a8a-130a730e50cf",
    "_uuid": "a81a9d8b5616b3663d11a871a878a1cf4801aaf9"
   },
   "outputs": [],
   "source": [
    "import operator\n",
    "\n",
    "def whats_my_score(name):\n",
    "    print('Enter a movie title')\n",
    "    new_movie=movies[movies['original_title'].str.contains(name)].iloc[0].to_frame().T\n",
    "    print('Selected Movie: ',new_movie.original_title.values[0])\n",
    "    def getNeighbors(baseMovie, K):\n",
    "        distances = []\n",
    "    \n",
    "        for index, movie in movies.iterrows():\n",
    "            if movie['new_id'] != baseMovie['new_id'].values[0]:\n",
    "                dist = Similarity(baseMovie['new_id'].values[0], movie['new_id'])\n",
    "                distances.append((movie['new_id'], dist))\n",
    "    \n",
    "        distances.sort(key=operator.itemgetter(1))\n",
    "        neighbors = []\n",
    "    \n",
    "        for x in range(K):\n",
    "            neighbors.append(distances[x])\n",
    "        return neighbors\n",
    "\n",
    "    K = 10\n",
    "    avgRating = 0\n",
    "    neighbors = getNeighbors(new_movie, K)\n",
    "\n",
    "    print('\\nRecommended Movies: \\n')\n",
    "    for neighbor in neighbors:\n",
    "        avgRating = avgRating+movies.iloc[neighbor[0]][2]  \n",
    "        print( movies.iloc[neighbor[0]][0]+\" | Genres: \"+str(movies.iloc[neighbor[0]][1]).strip('[]').replace(' ','')+\" | Rating: \"+str(movies.iloc[neighbor[0]][2]))\n",
    "    \n",
    "    print('\\n')\n",
    "    avgRating = avgRating/K\n",
    "    print('The predicted rating for %s is: %f' %(new_movie['original_title'].values[0],avgRating))\n",
    "    print('The actual rating for %s is %f' %(new_movie['original_title'].values[0],new_movie['vote_average']))"
   ]
  },
  {
   "cell_type": "markdown",
   "metadata": {
    "_cell_guid": "227c6109-091e-40b8-8cf1-8f3a4a75421c",
    "_uuid": "d95e51bbbabc5832e18090a88575a3f6137121b2"
   },
   "source": [
    "#### Let's check our prediction for Godfather"
   ]
  },
  {
   "cell_type": "code",
   "execution_count": 46,
   "metadata": {
    "_cell_guid": "c747ea69-2f03-44d7-8113-e259a85fc4f1",
    "_uuid": "24982fa054fcbc0a891d17309eb232b0052926b2"
   },
   "outputs": [
    {
     "name": "stdout",
     "output_type": "stream",
     "text": [
      "Enter a movie title\n",
      "Selected Movie:  The Godfather: Part III\n",
      "\n",
      "Recommended Movies: \n",
      "\n",
      "The Godfather: Part II | Genres: 'Crime','Drama' | Rating: 8.3\n",
      "The Godfather | Genres: 'Crime','Drama' | Rating: 8.4\n",
      "The Rainmaker | Genres: 'Crime','Drama','Thriller' | Rating: 6.7\n",
      "The Outsiders | Genres: 'Crime','Drama' | Rating: 6.9\n",
      "The Conversation | Genres: 'Crime','Drama','Mystery' | Rating: 7.5\n",
      "The Cotton Club | Genres: 'Crime','Drama','Music','Romance' | Rating: 6.6\n",
      "Apocalypse Now | Genres: 'Drama','War' | Rating: 8.0\n",
      "Twixt | Genres: 'Horror','Thriller' | Rating: 5.0\n",
      "New York Stories | Genres: 'Comedy','Drama','Romance' | Rating: 6.2\n",
      "Peggy Sue Got Married | Genres: 'Comedy','Drama','Fantasy','Romance' | Rating: 5.9\n",
      "\n",
      "\n",
      "The predicted rating for The Godfather: Part III is: 6.950000\n",
      "The actual rating for The Godfather: Part III is 7.100000\n"
     ]
    }
   ],
   "source": [
    "whats_my_score('Godfather')"
   ]
  },
  {
   "cell_type": "markdown",
   "metadata": {
    "_cell_guid": "4315d6ab-988b-4ba2-8c96-b9d0b59eca4a",
    "_uuid": "23153f5e0d719c3913f2455007490407db510de1"
   },
   "source": [
    "Our prediction is very close to the correct score. Also have a look at the recommended movies. They are recommended based on their **genres, cast and director**. Let's check for **Minions**.BANANAAAAAAAAAAAAAAAAAAAAAAA!!!\n",
    "\n",
    "![](https://i.imgur.com/nfHHdQu.gif)"
   ]
  },
  {
   "cell_type": "code",
   "execution_count": 47,
   "metadata": {
    "_cell_guid": "febbfc79-807e-4265-9280-16829203254b",
    "_uuid": "2a7f7f848902a3a5731915933309158f403f2022"
   },
   "outputs": [
    {
     "name": "stdout",
     "output_type": "stream",
     "text": [
      "Enter a movie title\n",
      "Selected Movie:  Minions\n",
      "\n",
      "Recommended Movies: \n",
      "\n",
      "Mr. Peabody & Sherman | Genres: 'Adventure','Animation','Family' | Rating: 6.7\n",
      "Cars 2 | Genres: 'Adventure','Animation','Comedy','Family' | Rating: 5.8\n",
      "Up | Genres: 'Adventure','Animation','Comedy','Family' | Rating: 7.7\n",
      "Wreck-It Ralph | Genres: 'Adventure','Animation','Comedy','Family' | Rating: 7.1\n",
      "Bolt | Genres: 'Adventure','Animation','Comedy','Family' | Rating: 6.3\n",
      "Bee Movie | Genres: 'Adventure','Animation','Comedy','Family' | Rating: 5.7\n",
      "Flushed Away | Genres: 'Adventure','Animation','Comedy','Family' | Rating: 6.0\n",
      "Penguins of Madagascar | Genres: 'Adventure','Animation','Comedy','Family' | Rating: 6.5\n",
      "Kung Fu Panda | Genres: 'Adventure','Animation','Comedy','Family' | Rating: 6.9\n",
      "Rio 2 | Genres: 'Adventure','Animation','Comedy','Family' | Rating: 6.3\n",
      "\n",
      "\n",
      "The predicted rating for Minions is: 6.500000\n",
      "The actual rating for Minions is 6.400000\n"
     ]
    }
   ],
   "source": [
    "whats_my_score('Minions')"
   ]
  },
  {
   "cell_type": "markdown",
   "metadata": {
    "_cell_guid": "4048e38b-b34c-4935-afd0-36c83606e75e",
    "_uuid": "a29cd1577d3bc8d4193b34d556e1d940b8000dc1"
   },
   "source": [
    "This time too, we almost got the correct score. But have a look at the recommended movies. We don't see **Despicable Me or Despicable Me 2** in the list. "
   ]
  },
  {
   "cell_type": "markdown",
   "metadata": {
    "_cell_guid": "b2719730-b8d9-4603-b90f-580a38154d02",
    "_uuid": "6fe4f4efd44f2308ae278dc9a608dce806bf897b"
   },
   "source": [
    " Lets check for the final time.This time my favorite movie, **Rocky Balboa.**\n",
    "\n",
    "![](https://78.media.tumblr.com/04f6bf43411166d486f5507dffdd4228/tumblr_o3663kzouL1qdqzl4o4_500.gif)"
   ]
  },
  {
   "cell_type": "code",
   "execution_count": 48,
   "metadata": {
    "_cell_guid": "c3d540fa-b38d-4630-9038-2565eec99558",
    "_uuid": "8f839df5327d8ffec7d85953edb8c6566b6e174f"
   },
   "outputs": [
    {
     "name": "stdout",
     "output_type": "stream",
     "text": [
      "Enter a movie title\n",
      "Selected Movie:  Rocky Balboa\n",
      "\n",
      "Recommended Movies: \n",
      "\n",
      "Rocky | Genres: 'Drama' | Rating: 7.5\n",
      "The Expendables | Genres: 'Action','Adventure','Thriller' | Rating: 6.0\n",
      "Creed | Genres: 'Drama' | Rating: 7.3\n",
      "Australia | Genres: 'Drama' | Rating: 6.3\n",
      "The Perfect Storm | Genres: 'Drama' | Rating: 6.2\n",
      "The Aviator | Genres: 'Drama' | Rating: 7.0\n",
      "Ali | Genres: 'Drama' | Rating: 6.7\n",
      "Ben-Hur | Genres: 'Drama' | Rating: 5.3\n",
      "Cold Mountain | Genres: 'Drama' | Rating: 6.7\n",
      "Dreamgirls | Genres: 'Drama' | Rating: 6.6\n",
      "\n",
      "\n",
      "The predicted rating for Rocky Balboa is: 6.560000\n",
      "The actual rating for Rocky Balboa is 6.500000\n"
     ]
    }
   ],
   "source": [
    "whats_my_score('Balboa')"
   ]
  },
  {
   "cell_type": "markdown",
   "metadata": {
    "_cell_guid": "ed5a37fa-d6db-434b-8587-dec279ffbc70",
    "_uuid": "52e0ed3f34ac1caa405312b9229a05696b31b441"
   },
   "source": [
    "Seems the model worked out pretty well as the predicted scores are very close to the actual scores. ALthough my approach was very simple, the model is working fine. The score prediction could be more accurate if we had more data. This dataset has information for only 4800 movies, and many movies specified in the IMDB dataset are missing in this dataset. \n",
    "\n",
    "Thanks a lot for having a look at this notebook.\n",
    "\n",
    "I Hope all you liked the notebook. Any suggestions and feedback are always welcome.\n",
    "\n",
    "### Please Upvote this notebook if u liked it as it encourages me in doing better.\n"
   ]
  },
  {
   "cell_type": "markdown",
   "metadata": {
    "_cell_guid": "e9d8ebb5-5d26-4462-9cb2-166d8dbc766a",
    "_uuid": "010fa7ba01800707a2daf7b07dd86c6a4fbd683d"
   },
   "source": [
    "# Bharat's Extra Code\n",
    "Testing for 10 random movies to see if prediction accuracy is consistant with other movies"
   ]
  },
  {
   "cell_type": "code",
   "execution_count": 50,
   "metadata": {},
   "outputs": [
    {
     "name": "stdout",
     "output_type": "stream",
     "text": [
      "Enter a movie title\n",
      "Selected Movie:  Men of War\n",
      "\n",
      "Recommended Movies: \n",
      "\n",
      "Showdown in Little Tokyo | Genres: 'Action','Thriller' | Rating: 5.7\n",
      "The Expendables 2 | Genres: 'Action','Adventure','Thriller' | Rating: 6.1\n",
      "The Expendables | Genres: 'Action','Adventure','Thriller' | Rating: 6.0\n",
      "Silent Trigger | Genres: 'Action','Drama','Thriller' | Rating: 5.0\n",
      "Skin Trade | Genres: 'Action','Drama','Thriller' | Rating: 5.6\n",
      "The Bourne Legacy | Genres: 'Action','Thriller' | Rating: 6.0\n",
      "Jason Bourne | Genres: 'Action','Thriller' | Rating: 5.9\n",
      "Live Free or Die Hard | Genres: 'Action','Thriller' | Rating: 6.4\n",
      "True Lies | Genres: 'Action','Thriller' | Rating: 6.8\n",
      "A Good Day to Die Hard | Genres: 'Action','Thriller' | Rating: 5.2\n",
      "\n",
      "\n",
      "The predicted rating for Men of War is: 5.870000\n",
      "The actual rating for Men of War is 5.400000\n",
      "Enter a movie title\n",
      "Selected Movie:  Red Planet\n",
      "\n",
      "Recommended Movies: \n",
      "\n",
      "The Matrix Revolutions | Genres: 'Action','Adventure','ScienceFiction','Thriller' | Rating: 6.4\n",
      "The Matrix Reloaded | Genres: 'Action','Adventure','ScienceFiction','Thriller' | Rating: 6.7\n",
      "The Matrix | Genres: 'Action','ScienceFiction' | Rating: 7.9\n",
      "The Saint | Genres: 'Action','Adventure','Romance','ScienceFiction','Thriller' | Rating: 5.9\n",
      "Terminator Salvation | Genres: 'Action','ScienceFiction','Thriller' | Rating: 5.9\n",
      "Terminator 3: Rise of the Machines | Genres: 'Action','ScienceFiction','Thriller' | Rating: 5.9\n",
      "Terminator 2: Judgment Day | Genres: 'Action','ScienceFiction','Thriller' | Rating: 7.7\n",
      "Hollow Man | Genres: 'Action','ScienceFiction','Thriller' | Rating: 5.6\n",
      "The Book of Eli | Genres: 'Action','ScienceFiction','Thriller' | Rating: 6.6\n",
      "Surrogates | Genres: 'Action','ScienceFiction','Thriller' | Rating: 5.9\n",
      "\n",
      "\n",
      "The predicted rating for Red Planet is: 6.450000\n",
      "The actual rating for Red Planet is 5.400000\n",
      "Enter a movie title\n",
      "Selected Movie:  Mooz-lum\n",
      "\n",
      "Recommended Movies: \n",
      "\n",
      "Dreamgirls | Genres: 'Drama' | Rating: 6.6\n",
      "ATL | Genres: 'Drama' | Rating: 6.0\n",
      "The Color Purple | Genres: 'Drama' | Rating: 7.7\n",
      "Manderlay | Genres: 'Drama' | Rating: 6.9\n",
      "Australia | Genres: 'Drama' | Rating: 6.3\n",
      "The Perfect Storm | Genres: 'Drama' | Rating: 6.2\n",
      "The Aviator | Genres: 'Drama' | Rating: 7.0\n",
      "Ali | Genres: 'Drama' | Rating: 6.7\n",
      "Ben-Hur | Genres: 'Drama' | Rating: 5.3\n",
      "Cold Mountain | Genres: 'Drama' | Rating: 6.7\n",
      "\n",
      "\n",
      "The predicted rating for Mooz-lum is: 6.540000\n",
      "The actual rating for Mooz-lum is 4.500000\n",
      "Enter a movie title\n",
      "Selected Movie:  The Killer Inside Me\n",
      "\n",
      "Recommended Movies: \n",
      "\n",
      "The Face of an Angel | Genres: 'Drama','Thriller' | Rating: 4.7\n",
      "A Mighty Heart | Genres: 'Drama','Thriller' | Rating: 6.7\n",
      "Code 46 | Genres: 'Drama','Romance','ScienceFiction','Thriller' | Rating: 6.2\n",
      "A Cock and Bull Story | Genres: 'Comedy','Drama' | Rating: 6.2\n",
      "The Claim | Genres: 'Drama','Romance','Western' | Rating: 5.6\n",
      "Sin City: A Dame to Kill For | Genres: 'Crime','Thriller' | Rating: 6.3\n",
      "The Taking of Pelham 1 2 3 | Genres: 'Crime','Drama','Thriller' | Rating: 6.2\n",
      "The Departed | Genres: 'Crime','Drama','Thriller' | Rating: 7.9\n",
      "The Devil's Own | Genres: 'Crime','Drama','Thriller' | Rating: 5.9\n",
      "Road to Perdition | Genres: 'Crime','Drama','Thriller' | Rating: 7.3\n",
      "\n",
      "\n",
      "The predicted rating for The Killer Inside Me is: 6.300000\n",
      "The actual rating for The Killer Inside Me is 6.000000\n",
      "Enter a movie title\n",
      "Selected Movie:  Winnie Mandela\n",
      "\n",
      "Recommended Movies: \n",
      "\n",
      "August Rush | Genres: 'Drama' | Rating: 7.1\n",
      "Hustle & Flow | Genres: 'Drama' | Rating: 6.9\n",
      "3 Backyards | Genres: 'Drama' | Rating: 4.8\n",
      "Australia | Genres: 'Drama' | Rating: 6.3\n",
      "The Perfect Storm | Genres: 'Drama' | Rating: 6.2\n",
      "The Aviator | Genres: 'Drama' | Rating: 7.0\n",
      "Ali | Genres: 'Drama' | Rating: 6.7\n",
      "Ben-Hur | Genres: 'Drama' | Rating: 5.3\n",
      "Cold Mountain | Genres: 'Drama' | Rating: 6.7\n",
      "Dreamgirls | Genres: 'Drama' | Rating: 6.6\n",
      "\n",
      "\n",
      "The predicted rating for Winnie Mandela is: 6.360000\n",
      "The actual rating for Winnie Mandela is 5.200000\n",
      "Enter a movie title\n",
      "Selected Movie:  Namastey London\n",
      "\n",
      "Recommended Movies: \n",
      "\n",
      "Housefull | Genres: 'Comedy','Drama','Foreign','Romance' | Rating: 5.2\n",
      "Jab Tak Hai Jaan | Genres: 'Drama','Romance' | Rating: 7.3\n",
      "Partition | Genres: 'Drama','Foreign','Romance' | Rating: 6.4\n",
      "Tango, no me dejes nunca | Genres: 'Drama','Foreign','Romance' | Rating: 6.8\n",
      "Love and Death on Long Island | Genres: 'Drama','Foreign','Romance' | Rating: 6.9\n",
      "Water | Genres: 'Drama','Foreign','Romance' | Rating: 6.8\n",
      "Fiza | Genres: 'Drama','Foreign','Romance' | Rating: 6.1\n",
      "Bran Nue Dae | Genres: 'Comedy','Drama','Foreign','Romance' | Rating: 5.2\n",
      "The Great Gatsby | Genres: 'Drama','Romance' | Rating: 7.3\n",
      "Déjà Vu | Genres: 'Drama','Romance' | Rating: 8.0\n",
      "\n",
      "\n",
      "The predicted rating for Namastey London is: 6.600000\n",
      "The actual rating for Namastey London is 6.600000\n",
      "Enter a movie title\n",
      "Selected Movie:  The Chumscrubber\n",
      "\n",
      "Recommended Movies: \n",
      "\n",
      "Billy Elliot | Genres: 'Comedy','Drama','Music' | Rating: 7.4\n",
      "The Longest Yard | Genres: 'Comedy','Drama' | Rating: 6.2\n",
      "The Terminal | Genres: 'Comedy','Drama' | Rating: 7.0\n",
      "Funny People | Genres: 'Comedy','Drama' | Rating: 5.7\n",
      "The Dilemma | Genres: 'Comedy','Drama' | Rating: 5.2\n",
      "Due Date | Genres: 'Comedy','Drama' | Rating: 6.2\n",
      "Primary Colors | Genres: 'Comedy','Drama' | Rating: 6.1\n",
      "The Truman Show | Genres: 'Comedy','Drama' | Rating: 7.8\n",
      "Joy | Genres: 'Comedy','Drama' | Rating: 6.4\n",
      "Holy Man | Genres: 'Comedy','Drama' | Rating: 4.9\n",
      "\n",
      "\n",
      "The predicted rating for The Chumscrubber is: 6.290000\n",
      "The actual rating for The Chumscrubber is 6.700000\n",
      "Enter a movie title\n",
      "Selected Movie:  The Statement\n",
      "\n",
      "Recommended Movies: \n",
      "\n",
      "The Hurricane | Genres: 'Drama' | Rating: 7.2\n",
      "F.I.S.T. | Genres: 'Action','Drama' | Rating: 6.4\n",
      "Fiddler on the Roof | Genres: 'Drama','Romance' | Rating: 7.4\n",
      "We Need to Talk About Kevin | Genres: 'Drama','Thriller' | Rating: 7.4\n",
      "The Prestige | Genres: 'Drama','Mystery','Thriller' | Rating: 8.0\n",
      "Thirteen Days | Genres: 'Drama','Thriller' | Rating: 6.9\n",
      "The Insider | Genres: 'Drama','Thriller' | Rating: 7.3\n",
      "All the King's Men | Genres: 'Drama','Thriller' | Rating: 5.7\n",
      "Beloved | Genres: 'Drama','Thriller' | Rating: 5.9\n",
      "Unfaithful | Genres: 'Drama','Thriller' | Rating: 6.3\n",
      "\n",
      "\n",
      "The predicted rating for The Statement is: 6.850000\n",
      "The actual rating for The Statement is 5.900000\n",
      "Enter a movie title\n",
      "Selected Movie:  Pirates of the Caribbean: On Stranger Tides\n",
      "\n",
      "Recommended Movies: \n",
      "\n",
      "Into the Woods | Genres: 'Comedy','Fantasy','Music' | Rating: 5.6\n",
      "Chicago | Genres: 'Action','Comedy','Crime','Drama','Music' | Rating: 6.9\n",
      "Pirates of the Caribbean: At World's End | Genres: 'Action','Adventure','Fantasy' | Rating: 6.9\n",
      "Pirates of the Caribbean: Dead Man's Chest | Genres: 'Action','Adventure','Fantasy' | Rating: 7.0\n",
      "Pirates of the Caribbean: The Curse of the Black Pearl | Genres: 'Action','Adventure','Fantasy' | Rating: 7.5\n",
      "Nine | Genres: 'Drama','Music','Romance' | Rating: 5.1\n",
      "Hercules | Genres: 'Action','Adventure' | Rating: 5.6\n",
      "G-Force | Genres: 'Action','Adventure','Comedy','Family','Fantasy' | Rating: 5.1\n",
      "Spider-Man 3 | Genres: 'Action','Adventure','Fantasy' | Rating: 5.9\n",
      "Batman v Superman: Dawn of Justice | Genres: 'Action','Adventure','Fantasy' | Rating: 5.7\n",
      "\n",
      "\n",
      "The predicted rating for Pirates of the Caribbean: On Stranger Tides is: 6.130000\n",
      "The actual rating for Pirates of the Caribbean: On Stranger Tides is 6.400000\n",
      "Enter a movie title\n",
      "Selected Movie:  Dr. No\n",
      "\n",
      "Recommended Movies: \n",
      "\n",
      "Thunderball | Genres: 'Action','Adventure','Thriller' | Rating: 6.5\n",
      "From Russia with Love | Genres: 'Action','Adventure','Thriller' | Rating: 6.9\n",
      "The Rock | Genres: 'Action','Adventure','Thriller' | Rating: 6.9\n",
      "Never Say Never Again | Genres: 'Action','Adventure','Thriller' | Rating: 5.8\n",
      "The Hunt for Red October | Genres: 'Action','Adventure','Thriller' | Rating: 7.2\n",
      "You Only Live Twice | Genres: 'Action','Adventure','Thriller' | Rating: 6.5\n",
      "Diamonds Are Forever | Genres: 'Action','Adventure','Thriller' | Rating: 6.3\n",
      "Goldfinger | Genres: 'Action','Adventure','Thriller' | Rating: 7.2\n",
      "Indiana Jones and the Last Crusade | Genres: 'Action','Adventure' | Rating: 7.6\n",
      "Skyfall | Genres: 'Action','Adventure','Thriller' | Rating: 6.9\n",
      "\n",
      "\n",
      "The predicted rating for Dr. No is: 6.780000\n",
      "The actual rating for Dr. No is 6.900000\n"
     ]
    }
   ],
   "source": [
    "movies_sample = movies.sample(10)\n",
    "for i in range(movies_sample.shape[0]):\n",
    "    whats_my_score(movies_sample.iloc[i]['original_title'])"
   ]
  },
  {
   "cell_type": "markdown",
   "metadata": {},
   "source": [
    "In a gist, looking at accuracy of each prediction:\n",
    "\n",
    "    acc = (predicted rating - actual rating)/actual rating\n",
    "- Movie 1:  0.913\n",
    "- Movie 2:  0.806\n",
    "- Movie 3:  0.547\n",
    "- Movie 4:  0.95\n",
    "- Movie 5:  0.777\n",
    "- Movie 6:  1.000\n",
    "- Movie 7:  0.939\n",
    "- Movie 8:  0.839\n",
    "- Movie 9:  0.958\n",
    "- Movie 10: 0.983\n",
    "\n",
    "Among these 10 movies, there is an approximate accuracy of 0.871"
   ]
  },
  {
   "cell_type": "code",
   "execution_count": null,
   "metadata": {},
   "outputs": [],
   "source": []
  }
 ],
 "metadata": {
  "anaconda-cloud": {},
  "kernelspec": {
   "display_name": "conda_amazonei_mxnet_p36",
   "language": "python",
   "name": "conda_amazonei_mxnet_p36"
  },
  "language_info": {
   "codemirror_mode": {
    "name": "ipython",
    "version": 3
   },
   "file_extension": ".py",
   "mimetype": "text/x-python",
   "name": "python",
   "nbconvert_exporter": "python",
   "pygments_lexer": "ipython3",
   "version": "3.6.5"
  }
 },
 "nbformat": 4,
 "nbformat_minor": 4
}
